{
 "cells": [
  {
   "cell_type": "markdown",
   "id": "b0159b9d",
   "metadata": {},
   "source": [
    "###### Author: Mohlatlego Nakeng, MIT big data sciences (University of Pretoria,ZA)"
   ]
  },
  {
   "cell_type": "markdown",
   "id": "26c5093e",
   "metadata": {},
   "source": [
    "###   Model 1:\n",
    "\n",
    "1. Input : MMA false news data.\n",
    "\n",
    "2. Clean Transformer\n",
    "\n",
    "3. Vectorisation\n",
    "\n",
    "4. Fit the pipeline\n",
    " * Train data\n",
    " * clean-Transformer\n",
    " * vetectorisation\n",
    " * OneClass SVM"
   ]
  },
  {
   "cell_type": "markdown",
   "id": "fee1cb1c",
   "metadata": {},
   "source": [
    "## Text Classification - OneClass Classificaiton\n",
    "The one-class algorithms are based on recognition since their aim is to recognize data from a particular class, and reject data from all other classes. This is accomplished by creating a boundary that encompasses all the data belonging to the target class within itself, so when a new sample arrives the algorithm only has to check whether it lies within the boundary or outside and accordingly classify the sample as belonging to the target class or the outlier."
   ]
  },
  {
   "cell_type": "code",
   "execution_count": 2,
   "id": "a202472b",
   "metadata": {},
   "outputs": [],
   "source": [
    "# Load packages\n",
    "from sklearn.feature_extraction.text import CountVectorizer\n",
    "from sklearn.feature_extraction.text import TfidfTransformer\n",
    "from sklearn.feature_extraction.text import TfidfVectorizer\n",
    "from sklearn.feature_extraction.text import HashingVectorizer\n",
    "from sklearn.base import TransformerMixin\n",
    "from sklearn.pipeline import Pipeline\n",
    "from sklearn.svm import OneClassSVM\n",
    "from sklearn.utils import shuffle\n",
    "from sklearn.feature_extraction._stop_words import ENGLISH_STOP_WORDS\n",
    "from sklearn.metrics import accuracy_score\n",
    "from sklearn.metrics import confusion_matrix \n",
    "from sklearn.metrics import classification_report \n",
    "from nltk.corpus import stopwords\n",
    "import pandas as pd\n",
    "import numpy as np\n",
    "import matplotlib.pyplot as plt\n",
    "import seaborn as sns\n",
    "from nltk.stem.porter import PorterStemmer\n",
    "import string\n",
    "import spacy\n",
    "from spacy.lang.en import English\n",
    "import preprocessor as p\n",
    "# spacy.load(\"en_core_web_sm\")\n",
    "parser = English()\n",
    "import warnings\n",
    "warnings.filterwarnings('ignore')"
   ]
  },
  {
   "cell_type": "code",
   "execution_count": 3,
   "id": "7908b394",
   "metadata": {},
   "outputs": [],
   "source": [
    "sus = pd.read_csv(\"suspicious.csv\")"
   ]
  },
  {
   "cell_type": "code",
   "execution_count": 4,
   "id": "45f0b9ce",
   "metadata": {},
   "outputs": [
    {
     "data": {
      "text/html": [
       "<div>\n",
       "<style scoped>\n",
       "    .dataframe tbody tr th:only-of-type {\n",
       "        vertical-align: middle;\n",
       "    }\n",
       "\n",
       "    .dataframe tbody tr th {\n",
       "        vertical-align: top;\n",
       "    }\n",
       "\n",
       "    .dataframe thead th {\n",
       "        text-align: right;\n",
       "    }\n",
       "</style>\n",
       "<table border=\"1\" class=\"dataframe\">\n",
       "  <thead>\n",
       "    <tr style=\"text-align: right;\">\n",
       "      <th></th>\n",
       "      <th>Unnamed: 0</th>\n",
       "      <th>username</th>\n",
       "      <th>name</th>\n",
       "      <th>tweet</th>\n",
       "      <th>category</th>\n",
       "    </tr>\n",
       "  </thead>\n",
       "  <tbody>\n",
       "    <tr>\n",
       "      <th>0</th>\n",
       "      <td>0</td>\n",
       "      <td>comrade0072</td>\n",
       "      <td>I thank you</td>\n",
       "      <td>@LadyhawkAnnie The fact that nobody has attemp...</td>\n",
       "      <td>accurate</td>\n",
       "    </tr>\n",
       "    <tr>\n",
       "      <th>1</th>\n",
       "      <td>1</td>\n",
       "      <td>comrade0072</td>\n",
       "      <td>I thank you</td>\n",
       "      <td>@Newzroom405 Maybe he needs Pfizer for the spear.</td>\n",
       "      <td>accurate</td>\n",
       "    </tr>\n",
       "    <tr>\n",
       "      <th>2</th>\n",
       "      <td>2</td>\n",
       "      <td>nuru_yochanan</td>\n",
       "      <td>Yochanan</td>\n",
       "      <td>@__Inolofatse__ Fostofol I'm not your fan, sec...</td>\n",
       "      <td>accurate</td>\n",
       "    </tr>\n",
       "    <tr>\n",
       "      <th>3</th>\n",
       "      <td>3</td>\n",
       "      <td>azania109</td>\n",
       "      <td>Azania</td>\n",
       "      <td>@SundayTimesZA Asina ndaba we trust our own na...</td>\n",
       "      <td>accurate</td>\n",
       "    </tr>\n",
       "    <tr>\n",
       "      <th>4</th>\n",
       "      <td>4</td>\n",
       "      <td>muslimassocsa</td>\n",
       "      <td>Muslim Association of South Africa</td>\n",
       "      <td>As August comes to an end we look back at 27 d...</td>\n",
       "      <td>accurate</td>\n",
       "    </tr>\n",
       "    <tr>\n",
       "      <th>...</th>\n",
       "      <td>...</td>\n",
       "      <td>...</td>\n",
       "      <td>...</td>\n",
       "      <td>...</td>\n",
       "      <td>...</td>\n",
       "    </tr>\n",
       "    <tr>\n",
       "      <th>32608</th>\n",
       "      <td>32608</td>\n",
       "      <td>ndim_uchris</td>\n",
       "      <td>uTata ka Zama and others</td>\n",
       "      <td>Corona emo specialeng</td>\n",
       "      <td>accurate</td>\n",
       "    </tr>\n",
       "    <tr>\n",
       "      <th>32609</th>\n",
       "      <td>32609</td>\n",
       "      <td>collen_el</td>\n",
       "      <td>Collen Jay El'Padroni</td>\n",
       "      <td>@SbusisoMthimkul @mizar_CDXX Kodwa Bafo wena i...</td>\n",
       "      <td>accurate</td>\n",
       "    </tr>\n",
       "    <tr>\n",
       "      <th>32610</th>\n",
       "      <td>32610</td>\n",
       "      <td>em_jay7</td>\n",
       "      <td>High Sauce</td>\n",
       "      <td>Hahahaha re nwa Corona</td>\n",
       "      <td>accurate</td>\n",
       "    </tr>\n",
       "    <tr>\n",
       "      <th>32611</th>\n",
       "      <td>32611</td>\n",
       "      <td>fana__n</td>\n",
       "      <td>FANA</td>\n",
       "      <td>@lebohang_dh Inside joke yeah but I open beer ...</td>\n",
       "      <td>accurate</td>\n",
       "    </tr>\n",
       "    <tr>\n",
       "      <th>32612</th>\n",
       "      <td>32612</td>\n",
       "      <td>ts_muffins</td>\n",
       "      <td>Mama Kenzie 👑</td>\n",
       "      <td>@Juks_Afrika @VinDollar016 @nonhlanhla_Nox It’...</td>\n",
       "      <td>accurate</td>\n",
       "    </tr>\n",
       "  </tbody>\n",
       "</table>\n",
       "<p>32613 rows × 5 columns</p>\n",
       "</div>"
      ],
      "text/plain": [
       "       Unnamed: 0       username                                name  \\\n",
       "0               0    comrade0072                         I thank you   \n",
       "1               1    comrade0072                         I thank you   \n",
       "2               2  nuru_yochanan                            Yochanan   \n",
       "3               3      azania109                              Azania   \n",
       "4               4  muslimassocsa  Muslim Association of South Africa   \n",
       "...           ...            ...                                 ...   \n",
       "32608       32608    ndim_uchris            uTata ka Zama and others   \n",
       "32609       32609      collen_el               Collen Jay El'Padroni   \n",
       "32610       32610        em_jay7                          High Sauce   \n",
       "32611       32611        fana__n                                FANA   \n",
       "32612       32612     ts_muffins                       Mama Kenzie 👑   \n",
       "\n",
       "                                                   tweet  category  \n",
       "0      @LadyhawkAnnie The fact that nobody has attemp...  accurate  \n",
       "1      @Newzroom405 Maybe he needs Pfizer for the spear.  accurate  \n",
       "2      @__Inolofatse__ Fostofol I'm not your fan, sec...  accurate  \n",
       "3      @SundayTimesZA Asina ndaba we trust our own na...  accurate  \n",
       "4      As August comes to an end we look back at 27 d...  accurate  \n",
       "...                                                  ...       ...  \n",
       "32608                              Corona emo specialeng  accurate  \n",
       "32609  @SbusisoMthimkul @mizar_CDXX Kodwa Bafo wena i...  accurate  \n",
       "32610                             Hahahaha re nwa Corona  accurate  \n",
       "32611  @lebohang_dh Inside joke yeah but I open beer ...  accurate  \n",
       "32612  @Juks_Afrika @VinDollar016 @nonhlanhla_Nox It’...  accurate  \n",
       "\n",
       "[32613 rows x 5 columns]"
      ]
     },
     "execution_count": 4,
     "metadata": {},
     "output_type": "execute_result"
    }
   ],
   "source": [
    "sus"
   ]
  },
  {
   "cell_type": "code",
   "execution_count": 5,
   "id": "9e786045",
   "metadata": {},
   "outputs": [],
   "source": [
    "del sus[\"Unnamed: 0\"] # removing index column"
   ]
  },
  {
   "cell_type": "code",
   "execution_count": 6,
   "id": "37f59e28",
   "metadata": {},
   "outputs": [
    {
     "data": {
      "text/html": [
       "<div>\n",
       "<style scoped>\n",
       "    .dataframe tbody tr th:only-of-type {\n",
       "        vertical-align: middle;\n",
       "    }\n",
       "\n",
       "    .dataframe tbody tr th {\n",
       "        vertical-align: top;\n",
       "    }\n",
       "\n",
       "    .dataframe thead th {\n",
       "        text-align: right;\n",
       "    }\n",
       "</style>\n",
       "<table border=\"1\" class=\"dataframe\">\n",
       "  <thead>\n",
       "    <tr style=\"text-align: right;\">\n",
       "      <th></th>\n",
       "      <th>username</th>\n",
       "      <th>name</th>\n",
       "      <th>tweet</th>\n",
       "      <th>category</th>\n",
       "    </tr>\n",
       "  </thead>\n",
       "  <tbody>\n",
       "    <tr>\n",
       "      <th>75</th>\n",
       "      <td>azania109</td>\n",
       "      <td>Azania</td>\n",
       "      <td>@mzwaimbeje Proof ? Am not vaccinated,alot of ...</td>\n",
       "      <td>suspicious</td>\n",
       "    </tr>\n",
       "    <tr>\n",
       "      <th>109</th>\n",
       "      <td>nuru_yochanan</td>\n",
       "      <td>Yochanan</td>\n",
       "      <td>@News24 @Sport24news CR17, Phoenix massacre, h...</td>\n",
       "      <td>suspicious</td>\n",
       "    </tr>\n",
       "    <tr>\n",
       "      <th>179</th>\n",
       "      <td>cedricdebeer1</td>\n",
       "      <td>Cedric De Beer</td>\n",
       "      <td>True. Plus there are the hesitant, and there a...</td>\n",
       "      <td>suspicious</td>\n",
       "    </tr>\n",
       "    <tr>\n",
       "      <th>211</th>\n",
       "      <td>mr_s_ayerst</td>\n",
       "      <td>Stephen Ayerst</td>\n",
       "      <td>@russiancosmist Next, car license renewals for...</td>\n",
       "      <td>suspicious</td>\n",
       "    </tr>\n",
       "    <tr>\n",
       "      <th>215</th>\n",
       "      <td>pampie59</td>\n",
       "      <td>Thandeka</td>\n",
       "      <td>They couldnt get away with this one; They want...</td>\n",
       "      <td>suspicious</td>\n",
       "    </tr>\n",
       "    <tr>\n",
       "      <th>...</th>\n",
       "      <td>...</td>\n",
       "      <td>...</td>\n",
       "      <td>...</td>\n",
       "      <td>...</td>\n",
       "    </tr>\n",
       "    <tr>\n",
       "      <th>32425</th>\n",
       "      <td>nolencemashego</td>\n",
       "      <td>NOLENCE MASHEGO</td>\n",
       "      <td>Reports says Cocaine kills corona virus scient...</td>\n",
       "      <td>suspicious</td>\n",
       "    </tr>\n",
       "    <tr>\n",
       "      <th>32468</th>\n",
       "      <td>trevorbzungu</td>\n",
       "      <td>Trevor Zungu</td>\n",
       "      <td>So many ground staff at OR Tambo walking aroun...</td>\n",
       "      <td>suspicious</td>\n",
       "    </tr>\n",
       "    <tr>\n",
       "      <th>32556</th>\n",
       "      <td>bozzie_t</td>\n",
       "      <td>Certified Vaxxed Malume</td>\n",
       "      <td>Came to Diepkloof go tlo etsa ntho tsa ka and ...</td>\n",
       "      <td>suspicious</td>\n",
       "    </tr>\n",
       "    <tr>\n",
       "      <th>32563</th>\n",
       "      <td>katjanechild</td>\n",
       "      <td>Katharine Child</td>\n",
       "      <td>Prof on Corona virus.  U waaaay more likely to...</td>\n",
       "      <td>suspicious</td>\n",
       "    </tr>\n",
       "    <tr>\n",
       "      <th>32567</th>\n",
       "      <td>wooda_magoo</td>\n",
       "      <td>Sihle Wooda Magubane</td>\n",
       "      <td>Yoh! If you're flying to China right now.... D...</td>\n",
       "      <td>suspicious</td>\n",
       "    </tr>\n",
       "  </tbody>\n",
       "</table>\n",
       "<p>783 rows × 4 columns</p>\n",
       "</div>"
      ],
      "text/plain": [
       "             username                     name  \\\n",
       "75          azania109                   Azania   \n",
       "109     nuru_yochanan                 Yochanan   \n",
       "179     cedricdebeer1           Cedric De Beer   \n",
       "211       mr_s_ayerst           Stephen Ayerst   \n",
       "215          pampie59                 Thandeka   \n",
       "...               ...                      ...   \n",
       "32425  nolencemashego          NOLENCE MASHEGO   \n",
       "32468    trevorbzungu             Trevor Zungu   \n",
       "32556        bozzie_t  Certified Vaxxed Malume   \n",
       "32563    katjanechild          Katharine Child   \n",
       "32567     wooda_magoo     Sihle Wooda Magubane   \n",
       "\n",
       "                                                   tweet    category  \n",
       "75     @mzwaimbeje Proof ? Am not vaccinated,alot of ...  suspicious  \n",
       "109    @News24 @Sport24news CR17, Phoenix massacre, h...  suspicious  \n",
       "179    True. Plus there are the hesitant, and there a...  suspicious  \n",
       "211    @russiancosmist Next, car license renewals for...  suspicious  \n",
       "215    They couldnt get away with this one; They want...  suspicious  \n",
       "...                                                  ...         ...  \n",
       "32425  Reports says Cocaine kills corona virus scient...  suspicious  \n",
       "32468  So many ground staff at OR Tambo walking aroun...  suspicious  \n",
       "32556  Came to Diepkloof go tlo etsa ntho tsa ka and ...  suspicious  \n",
       "32563  Prof on Corona virus.  U waaaay more likely to...  suspicious  \n",
       "32567  Yoh! If you're flying to China right now.... D...  suspicious  \n",
       "\n",
       "[783 rows x 4 columns]"
      ]
     },
     "execution_count": 6,
     "metadata": {},
     "output_type": "execute_result"
    }
   ],
   "source": [
    "sus[sus['category'] == \"suspicious\"]"
   ]
  },
  {
   "cell_type": "code",
   "execution_count": 7,
   "id": "d2786601",
   "metadata": {},
   "outputs": [
    {
     "data": {
      "text/plain": [
       "0        @LadyhawkAnnie The fact that nobody has attemp...\n",
       "1        @Newzroom405 Maybe he needs Pfizer for the spear.\n",
       "2        @__Inolofatse__ Fostofol I'm not your fan, sec...\n",
       "3        @SundayTimesZA Asina ndaba we trust our own na...\n",
       "4        As August comes to an end we look back at 27 d...\n",
       "                               ...                        \n",
       "32608                                Corona emo specialeng\n",
       "32609    @SbusisoMthimkul @mizar_CDXX Kodwa Bafo wena i...\n",
       "32610                               Hahahaha re nwa Corona\n",
       "32611    @lebohang_dh Inside joke yeah but I open beer ...\n",
       "32612    @Juks_Afrika @VinDollar016 @nonhlanhla_Nox It’...\n",
       "Name: tweet, Length: 32613, dtype: object"
      ]
     },
     "execution_count": 7,
     "metadata": {},
     "output_type": "execute_result"
    }
   ],
   "source": [
    "sus.tweet"
   ]
  },
  {
   "cell_type": "code",
   "execution_count": 8,
   "id": "7853b619",
   "metadata": {},
   "outputs": [
    {
     "data": {
      "text/plain": [
       "\"@LadyhawkAnnie The fact that nobody has attempted to steal the vaccine tells me that it has no value. Especially the thieving ANC members. If that does not convince you it's of no value.....nothing ever will.\""
      ]
     },
     "execution_count": 8,
     "metadata": {},
     "output_type": "execute_result"
    }
   ],
   "source": [
    "sus['tweet'].iloc[0]"
   ]
  },
  {
   "cell_type": "code",
   "execution_count": 9,
   "id": "f2935afd",
   "metadata": {},
   "outputs": [
    {
     "data": {
      "text/plain": [
       "array(['accurate', 'suspicious'], dtype=object)"
      ]
     },
     "execution_count": 9,
     "metadata": {},
     "output_type": "execute_result"
    }
   ],
   "source": [
    "sus['category'].unique()"
   ]
  },
  {
   "cell_type": "code",
   "execution_count": 10,
   "id": "8328f78c",
   "metadata": {},
   "outputs": [
    {
     "data": {
      "text/plain": [
       "accurate      31830\n",
       "suspicious      783\n",
       "Name: category, dtype: int64"
      ]
     },
     "execution_count": 10,
     "metadata": {},
     "output_type": "execute_result"
    }
   ],
   "source": [
    "sus['category'].value_counts()"
   ]
  },
  {
   "cell_type": "code",
   "execution_count": 11,
   "id": "c5e417e1",
   "metadata": {},
   "outputs": [
    {
     "data": {
      "text/plain": [
       "<AxesSubplot:xlabel='category', ylabel='count'>"
      ]
     },
     "execution_count": 11,
     "metadata": {},
     "output_type": "execute_result"
    },
    {
     "data": {
      "image/png": "[encoded data removed]",
      "text/plain": [
       "<Figure size 432x288 with 1 Axes>"
      ]
     },
     "metadata": {
      "needs_background": "light"
     },
     "output_type": "display_data"
    }
   ],
   "source": [
    "sns.countplot(sus['category'])"
   ]
  },
  {
   "cell_type": "markdown",
   "id": "d1f7b7ef",
   "metadata": {},
   "source": [
    "#### Data preparation"
   ]
  },
  {
   "cell_type": "code",
   "execution_count": 12,
   "id": "762b55b3",
   "metadata": {},
   "outputs": [],
   "source": [
    "# change category labels\n",
    "sus['label'] = sus['category'].map({'suspicious':1, 'accurate':-1})"
   ]
  },
  {
   "cell_type": "code",
   "execution_count": 13,
   "id": "c5cc890a",
   "metadata": {},
   "outputs": [
    {
     "data": {
      "text/plain": [
       "-1    31830\n",
       " 1      783\n",
       "Name: label, dtype: int64"
      ]
     },
     "execution_count": 13,
     "metadata": {},
     "output_type": "execute_result"
    }
   ],
   "source": [
    "sus['label'].value_counts()"
   ]
  },
  {
   "cell_type": "code",
   "execution_count": 14,
   "id": "0272301f",
   "metadata": {},
   "outputs": [],
   "source": [
    "# creating a target class\n",
    "sus_df = sus[sus['label'] == 1]"
   ]
  },
  {
   "cell_type": "code",
   "execution_count": 15,
   "id": "1a46b4b1",
   "metadata": {},
   "outputs": [
    {
     "data": {
      "text/html": [
       "<div>\n",
       "<style scoped>\n",
       "    .dataframe tbody tr th:only-of-type {\n",
       "        vertical-align: middle;\n",
       "    }\n",
       "\n",
       "    .dataframe tbody tr th {\n",
       "        vertical-align: top;\n",
       "    }\n",
       "\n",
       "    .dataframe thead th {\n",
       "        text-align: right;\n",
       "    }\n",
       "</style>\n",
       "<table border=\"1\" class=\"dataframe\">\n",
       "  <thead>\n",
       "    <tr style=\"text-align: right;\">\n",
       "      <th></th>\n",
       "      <th>username</th>\n",
       "      <th>name</th>\n",
       "      <th>tweet</th>\n",
       "      <th>category</th>\n",
       "      <th>label</th>\n",
       "    </tr>\n",
       "  </thead>\n",
       "  <tbody>\n",
       "    <tr>\n",
       "      <th>75</th>\n",
       "      <td>azania109</td>\n",
       "      <td>Azania</td>\n",
       "      <td>@mzwaimbeje Proof ? Am not vaccinated,alot of ...</td>\n",
       "      <td>suspicious</td>\n",
       "      <td>1</td>\n",
       "    </tr>\n",
       "    <tr>\n",
       "      <th>109</th>\n",
       "      <td>nuru_yochanan</td>\n",
       "      <td>Yochanan</td>\n",
       "      <td>@News24 @Sport24news CR17, Phoenix massacre, h...</td>\n",
       "      <td>suspicious</td>\n",
       "      <td>1</td>\n",
       "    </tr>\n",
       "    <tr>\n",
       "      <th>179</th>\n",
       "      <td>cedricdebeer1</td>\n",
       "      <td>Cedric De Beer</td>\n",
       "      <td>True. Plus there are the hesitant, and there a...</td>\n",
       "      <td>suspicious</td>\n",
       "      <td>1</td>\n",
       "    </tr>\n",
       "    <tr>\n",
       "      <th>211</th>\n",
       "      <td>mr_s_ayerst</td>\n",
       "      <td>Stephen Ayerst</td>\n",
       "      <td>@russiancosmist Next, car license renewals for...</td>\n",
       "      <td>suspicious</td>\n",
       "      <td>1</td>\n",
       "    </tr>\n",
       "    <tr>\n",
       "      <th>215</th>\n",
       "      <td>pampie59</td>\n",
       "      <td>Thandeka</td>\n",
       "      <td>They couldnt get away with this one; They want...</td>\n",
       "      <td>suspicious</td>\n",
       "      <td>1</td>\n",
       "    </tr>\n",
       "    <tr>\n",
       "      <th>...</th>\n",
       "      <td>...</td>\n",
       "      <td>...</td>\n",
       "      <td>...</td>\n",
       "      <td>...</td>\n",
       "      <td>...</td>\n",
       "    </tr>\n",
       "    <tr>\n",
       "      <th>32425</th>\n",
       "      <td>nolencemashego</td>\n",
       "      <td>NOLENCE MASHEGO</td>\n",
       "      <td>Reports says Cocaine kills corona virus scient...</td>\n",
       "      <td>suspicious</td>\n",
       "      <td>1</td>\n",
       "    </tr>\n",
       "    <tr>\n",
       "      <th>32468</th>\n",
       "      <td>trevorbzungu</td>\n",
       "      <td>Trevor Zungu</td>\n",
       "      <td>So many ground staff at OR Tambo walking aroun...</td>\n",
       "      <td>suspicious</td>\n",
       "      <td>1</td>\n",
       "    </tr>\n",
       "    <tr>\n",
       "      <th>32556</th>\n",
       "      <td>bozzie_t</td>\n",
       "      <td>Certified Vaxxed Malume</td>\n",
       "      <td>Came to Diepkloof go tlo etsa ntho tsa ka and ...</td>\n",
       "      <td>suspicious</td>\n",
       "      <td>1</td>\n",
       "    </tr>\n",
       "    <tr>\n",
       "      <th>32563</th>\n",
       "      <td>katjanechild</td>\n",
       "      <td>Katharine Child</td>\n",
       "      <td>Prof on Corona virus.  U waaaay more likely to...</td>\n",
       "      <td>suspicious</td>\n",
       "      <td>1</td>\n",
       "    </tr>\n",
       "    <tr>\n",
       "      <th>32567</th>\n",
       "      <td>wooda_magoo</td>\n",
       "      <td>Sihle Wooda Magubane</td>\n",
       "      <td>Yoh! If you're flying to China right now.... D...</td>\n",
       "      <td>suspicious</td>\n",
       "      <td>1</td>\n",
       "    </tr>\n",
       "  </tbody>\n",
       "</table>\n",
       "<p>783 rows × 5 columns</p>\n",
       "</div>"
      ],
      "text/plain": [
       "             username                     name  \\\n",
       "75          azania109                   Azania   \n",
       "109     nuru_yochanan                 Yochanan   \n",
       "179     cedricdebeer1           Cedric De Beer   \n",
       "211       mr_s_ayerst           Stephen Ayerst   \n",
       "215          pampie59                 Thandeka   \n",
       "...               ...                      ...   \n",
       "32425  nolencemashego          NOLENCE MASHEGO   \n",
       "32468    trevorbzungu             Trevor Zungu   \n",
       "32556        bozzie_t  Certified Vaxxed Malume   \n",
       "32563    katjanechild          Katharine Child   \n",
       "32567     wooda_magoo     Sihle Wooda Magubane   \n",
       "\n",
       "                                                   tweet    category  label  \n",
       "75     @mzwaimbeje Proof ? Am not vaccinated,alot of ...  suspicious      1  \n",
       "109    @News24 @Sport24news CR17, Phoenix massacre, h...  suspicious      1  \n",
       "179    True. Plus there are the hesitant, and there a...  suspicious      1  \n",
       "211    @russiancosmist Next, car license renewals for...  suspicious      1  \n",
       "215    They couldnt get away with this one; They want...  suspicious      1  \n",
       "...                                                  ...         ...    ...  \n",
       "32425  Reports says Cocaine kills corona virus scient...  suspicious      1  \n",
       "32468  So many ground staff at OR Tambo walking aroun...  suspicious      1  \n",
       "32556  Came to Diepkloof go tlo etsa ntho tsa ka and ...  suspicious      1  \n",
       "32563  Prof on Corona virus.  U waaaay more likely to...  suspicious      1  \n",
       "32567  Yoh! If you're flying to China right now.... D...  suspicious      1  \n",
       "\n",
       "[783 rows x 5 columns]"
      ]
     },
     "execution_count": 15,
     "metadata": {},
     "output_type": "execute_result"
    }
   ],
   "source": [
    "sus_df"
   ]
  },
  {
   "cell_type": "code",
   "execution_count": 16,
   "id": "6aae3405",
   "metadata": {},
   "outputs": [
    {
     "data": {
      "text/html": [
       "<div>\n",
       "<style scoped>\n",
       "    .dataframe tbody tr th:only-of-type {\n",
       "        vertical-align: middle;\n",
       "    }\n",
       "\n",
       "    .dataframe tbody tr th {\n",
       "        vertical-align: top;\n",
       "    }\n",
       "\n",
       "    .dataframe thead th {\n",
       "        text-align: right;\n",
       "    }\n",
       "</style>\n",
       "<table border=\"1\" class=\"dataframe\">\n",
       "  <thead>\n",
       "    <tr style=\"text-align: right;\">\n",
       "      <th></th>\n",
       "      <th>username</th>\n",
       "      <th>name</th>\n",
       "      <th>tweet</th>\n",
       "      <th>category</th>\n",
       "      <th>label</th>\n",
       "    </tr>\n",
       "  </thead>\n",
       "  <tbody>\n",
       "    <tr>\n",
       "      <th>75</th>\n",
       "      <td>azania109</td>\n",
       "      <td>Azania</td>\n",
       "      <td>@mzwaimbeje Proof ? Am not vaccinated,alot of ...</td>\n",
       "      <td>suspicious</td>\n",
       "      <td>1</td>\n",
       "    </tr>\n",
       "    <tr>\n",
       "      <th>109</th>\n",
       "      <td>nuru_yochanan</td>\n",
       "      <td>Yochanan</td>\n",
       "      <td>@News24 @Sport24news CR17, Phoenix massacre, h...</td>\n",
       "      <td>suspicious</td>\n",
       "      <td>1</td>\n",
       "    </tr>\n",
       "    <tr>\n",
       "      <th>179</th>\n",
       "      <td>cedricdebeer1</td>\n",
       "      <td>Cedric De Beer</td>\n",
       "      <td>True. Plus there are the hesitant, and there a...</td>\n",
       "      <td>suspicious</td>\n",
       "      <td>1</td>\n",
       "    </tr>\n",
       "    <tr>\n",
       "      <th>211</th>\n",
       "      <td>mr_s_ayerst</td>\n",
       "      <td>Stephen Ayerst</td>\n",
       "      <td>@russiancosmist Next, car license renewals for...</td>\n",
       "      <td>suspicious</td>\n",
       "      <td>1</td>\n",
       "    </tr>\n",
       "    <tr>\n",
       "      <th>215</th>\n",
       "      <td>pampie59</td>\n",
       "      <td>Thandeka</td>\n",
       "      <td>They couldnt get away with this one; They want...</td>\n",
       "      <td>suspicious</td>\n",
       "      <td>1</td>\n",
       "    </tr>\n",
       "    <tr>\n",
       "      <th>...</th>\n",
       "      <td>...</td>\n",
       "      <td>...</td>\n",
       "      <td>...</td>\n",
       "      <td>...</td>\n",
       "      <td>...</td>\n",
       "    </tr>\n",
       "    <tr>\n",
       "      <th>32425</th>\n",
       "      <td>nolencemashego</td>\n",
       "      <td>NOLENCE MASHEGO</td>\n",
       "      <td>Reports says Cocaine kills corona virus scient...</td>\n",
       "      <td>suspicious</td>\n",
       "      <td>1</td>\n",
       "    </tr>\n",
       "    <tr>\n",
       "      <th>32468</th>\n",
       "      <td>trevorbzungu</td>\n",
       "      <td>Trevor Zungu</td>\n",
       "      <td>So many ground staff at OR Tambo walking aroun...</td>\n",
       "      <td>suspicious</td>\n",
       "      <td>1</td>\n",
       "    </tr>\n",
       "    <tr>\n",
       "      <th>32556</th>\n",
       "      <td>bozzie_t</td>\n",
       "      <td>Certified Vaxxed Malume</td>\n",
       "      <td>Came to Diepkloof go tlo etsa ntho tsa ka and ...</td>\n",
       "      <td>suspicious</td>\n",
       "      <td>1</td>\n",
       "    </tr>\n",
       "    <tr>\n",
       "      <th>32563</th>\n",
       "      <td>katjanechild</td>\n",
       "      <td>Katharine Child</td>\n",
       "      <td>Prof on Corona virus.  U waaaay more likely to...</td>\n",
       "      <td>suspicious</td>\n",
       "      <td>1</td>\n",
       "    </tr>\n",
       "    <tr>\n",
       "      <th>32567</th>\n",
       "      <td>wooda_magoo</td>\n",
       "      <td>Sihle Wooda Magubane</td>\n",
       "      <td>Yoh! If you're flying to China right now.... D...</td>\n",
       "      <td>suspicious</td>\n",
       "      <td>1</td>\n",
       "    </tr>\n",
       "  </tbody>\n",
       "</table>\n",
       "<p>783 rows × 5 columns</p>\n",
       "</div>"
      ],
      "text/plain": [
       "             username                     name  \\\n",
       "75          azania109                   Azania   \n",
       "109     nuru_yochanan                 Yochanan   \n",
       "179     cedricdebeer1           Cedric De Beer   \n",
       "211       mr_s_ayerst           Stephen Ayerst   \n",
       "215          pampie59                 Thandeka   \n",
       "...               ...                      ...   \n",
       "32425  nolencemashego          NOLENCE MASHEGO   \n",
       "32468    trevorbzungu             Trevor Zungu   \n",
       "32556        bozzie_t  Certified Vaxxed Malume   \n",
       "32563    katjanechild          Katharine Child   \n",
       "32567     wooda_magoo     Sihle Wooda Magubane   \n",
       "\n",
       "                                                   tweet    category  label  \n",
       "75     @mzwaimbeje Proof ? Am not vaccinated,alot of ...  suspicious      1  \n",
       "109    @News24 @Sport24news CR17, Phoenix massacre, h...  suspicious      1  \n",
       "179    True. Plus there are the hesitant, and there a...  suspicious      1  \n",
       "211    @russiancosmist Next, car license renewals for...  suspicious      1  \n",
       "215    They couldnt get away with this one; They want...  suspicious      1  \n",
       "...                                                  ...         ...    ...  \n",
       "32425  Reports says Cocaine kills corona virus scient...  suspicious      1  \n",
       "32468  So many ground staff at OR Tambo walking aroun...  suspicious      1  \n",
       "32556  Came to Diepkloof go tlo etsa ntho tsa ka and ...  suspicious      1  \n",
       "32563  Prof on Corona virus.  U waaaay more likely to...  suspicious      1  \n",
       "32567  Yoh! If you're flying to China right now.... D...  suspicious      1  \n",
       "\n",
       "[783 rows x 5 columns]"
      ]
     },
     "execution_count": 16,
     "metadata": {},
     "output_type": "execute_result"
    }
   ],
   "source": [
    "sus_df"
   ]
  },
  {
   "cell_type": "markdown",
   "id": "f8c93ba1",
   "metadata": {},
   "source": [
    "##### create train and test data"
   ]
  },
  {
   "cell_type": "code",
   "execution_count": 17,
   "id": "6413e0d6",
   "metadata": {},
   "outputs": [],
   "source": [
    "from sklearn.model_selection import train_test_split"
   ]
  },
  {
   "cell_type": "code",
   "execution_count": 18,
   "id": "c5577553",
   "metadata": {},
   "outputs": [],
   "source": [
    "# create train and test data\n",
    "train_text = sus_df['tweet'].tolist()\n",
    "train_labels = sus_df['label'].tolist()\n",
    "\n",
    "test_text = sus['tweet'].tolist()\n",
    "test_labels = sus['label'].tolist()"
   ]
  },
  {
   "cell_type": "code",
   "execution_count": 19,
   "id": "e6667623",
   "metadata": {},
   "outputs": [
    {
     "data": {
      "text/plain": [
       "list"
      ]
     },
     "execution_count": 19,
     "metadata": {},
     "output_type": "execute_result"
    }
   ],
   "source": [
    "type(train_text)"
   ]
  },
  {
   "cell_type": "markdown",
   "id": "f32cc6f7",
   "metadata": {},
   "source": [
    "#### Tokenization"
   ]
  },
  {
   "cell_type": "code",
   "execution_count": 20,
   "id": "7a76a8dd",
   "metadata": {},
   "outputs": [],
   "source": [
    "# stop words list\n",
    "STOPLIST = set(stopwords.words('english') + list()) \n",
    "# special character\n",
    "SYMBOLS = \" \".join(string.punctuation).split(\" \") + [\"-\", \"...\", \"”\", \"”\",\"''\"]"
   ]
  },
  {
   "cell_type": "code",
   "execution_count": 21,
   "id": "663325ed",
   "metadata": {},
   "outputs": [],
   "source": [
    "# class for cleaning the text\n",
    "class CleanTextTransformer(TransformerMixin):\n",
    "    def transform(self, X, **transform_params):\n",
    "        return [cleanText(text) for text in X]\n",
    "    def fit(self, X, y=None, **fit_params):\n",
    "        return self\n",
    "    def get_params(self, deep=True):\n",
    "            return {}\n",
    "\n",
    "def cleanText(text):\n",
    "    text = text.strip().replace(\"\\n\", \" \").replace(\"\\r\", \" \")\n",
    "    text = text.lower()\n",
    "    return text"
   ]
  },
  {
   "cell_type": "code",
   "execution_count": 23,
   "id": "d32ac350",
   "metadata": {},
   "outputs": [
    {
     "data": {
      "text/plain": [
       "(783, 5110)"
      ]
     },
     "execution_count": 23,
     "metadata": {},
     "output_type": "execute_result"
    }
   ],
   "source": [
    "# getting features\n",
    "vectorizer1 = CountVectorizer()\n",
    "\n",
    "features1 = vectorizer1.fit_transform(train_text).toarray()\n",
    "features1.shape"
   ]
  },
  {
   "cell_type": "code",
   "execution_count": 24,
   "id": "1d6e4f7a",
   "metadata": {},
   "outputs": [
    {
     "data": {
      "text/plain": [
       "(783, 20)"
      ]
     },
     "execution_count": 24,
     "metadata": {},
     "output_type": "execute_result"
    }
   ],
   "source": [
    "# getting features\n",
    "vectorizer = HashingVectorizer(n_features=20,tokenizer=tokenizeText)\n",
    "\n",
    "features = vectorizer.fit_transform(train_text).toarray()\n",
    "features.shape"
   ]
  },
  {
   "cell_type": "code",
   "execution_count": 25,
   "id": "d061e259",
   "metadata": {},
   "outputs": [],
   "source": [
    "# OneClassSVM algorithm\n",
    "clf = OneClassSVM(nu=0.1, kernel=\"rbf\", gamma=0.1)\n",
    "pipe_clf = Pipeline([('cleanText', CleanTextTransformer()), ('vectorizer', vectorizer), ('clf', clf)])"
   ]
  },
  {
   "cell_type": "code",
   "execution_count": 26,
   "id": "a32baa5a",
   "metadata": {},
   "outputs": [
    {
     "data": {
      "text/plain": [
       "Pipeline(steps=[('cleanText',\n",
       "                 <__main__.CleanTextTransformer object at 0x000002C3026A4D90>),\n",
       "                ('vectorizer',\n",
       "                 HashingVectorizer(n_features=20,\n",
       "                                   tokenizer=<function tokenizeText at 0x000002C3026AAB80>)),\n",
       "                ('clf', OneClassSVM(gamma=0.1, nu=0.1))])"
      ]
     },
     "execution_count": 26,
     "metadata": {},
     "output_type": "execute_result"
    }
   ],
   "source": [
    "# fit OneClassSVM model \n",
    "pipe_clf.fit(train_text, train_labels)"
   ]
  },
  {
   "cell_type": "code",
   "execution_count": 27,
   "id": "26555d58",
   "metadata": {},
   "outputs": [
    {
     "data": {
      "text/plain": [
       "array([ 1,  1, -1, ...,  1,  1, -1], dtype=int64)"
      ]
     },
     "execution_count": 27,
     "metadata": {},
     "output_type": "execute_result"
    }
   ],
   "source": [
    "# validate OneClassSVM model with test set\n",
    "preds_test = pipe_clf.predict(test_text)\n",
    "preds_test"
   ]
  },
  {
   "cell_type": "code",
   "execution_count": 28,
   "id": "dc49d9ea",
   "metadata": {},
   "outputs": [
    {
     "name": "stdout",
     "output_type": "stream",
     "text": [
      "Confusion Matrix :\n",
      "[[14809 17021]\n",
      " [  125   658]]\n",
      "Accuracy Score : 0.47425873118081746\n",
      "Report : \n",
      "              precision    recall  f1-score   support\n",
      "\n",
      "          -1       0.99      0.47      0.63     31830\n",
      "           1       0.04      0.84      0.07       783\n",
      "\n",
      "    accuracy                           0.47     32613\n",
      "   macro avg       0.51      0.65      0.35     32613\n",
      "weighted avg       0.97      0.47      0.62     32613\n",
      "\n"
     ]
    }
   ],
   "source": [
    "results = confusion_matrix(test_labels, preds_test) \n",
    "print('Confusion Matrix :')\n",
    "print(results) \n",
    "print('Accuracy Score :',accuracy_score(test_labels, preds_test)) \n",
    "print('Report : ')\n",
    "print(classification_report(test_labels, preds_test)) "
   ]
  },
  {
   "cell_type": "code",
   "execution_count": 29,
   "id": "1faf8367",
   "metadata": {},
   "outputs": [],
   "source": [
    "# OneClassSVM algorithm\n",
    "clf1 = OneClassSVM(nu=0.1, kernel=\"rbf\", gamma=0.1)\n",
    "pipe_clf1= Pipeline([('cleanText', CleanTextTransformer()), ('vectorizer', vectorizer1), ('clf', clf1)])"
   ]
  },
  {
   "cell_type": "code",
   "execution_count": 30,
   "id": "6d662247",
   "metadata": {},
   "outputs": [
    {
     "data": {
      "text/plain": [
       "Pipeline(steps=[('cleanText',\n",
       "                 <__main__.CleanTextTransformer object at 0x000002C3026BD5B0>),\n",
       "                ('vectorizer', CountVectorizer()),\n",
       "                ('clf', OneClassSVM(gamma=0.1, nu=0.1))])"
      ]
     },
     "execution_count": 30,
     "metadata": {},
     "output_type": "execute_result"
    }
   ],
   "source": [
    "# fit OneClassSVM model \n",
    "pipe_clf1.fit(train_text, train_labels)"
   ]
  },
  {
   "cell_type": "code",
   "execution_count": 31,
   "id": "17039973",
   "metadata": {},
   "outputs": [
    {
     "data": {
      "text/plain": [
       "array([-1,  1, -1, ...,  1,  1, -1], dtype=int64)"
      ]
     },
     "execution_count": 31,
     "metadata": {},
     "output_type": "execute_result"
    }
   ],
   "source": [
    "# validate OneClassSVM model with test set\n",
    "preds_test1 = pipe_clf1.predict(test_text)\n",
    "preds_test1"
   ]
  },
  {
   "cell_type": "code",
   "execution_count": 32,
   "id": "f548e372",
   "metadata": {},
   "outputs": [
    {
     "name": "stdout",
     "output_type": "stream",
     "text": [
      "Confusion Matrix :\n",
      "[[12157 19673]\n",
      " [  279   504]]\n",
      "Accuracy Score : 0.3882194217030019\n",
      "Report : \n",
      "              precision    recall  f1-score   support\n",
      "\n",
      "          -1       0.98      0.38      0.55     31830\n",
      "           1       0.02      0.64      0.05       783\n",
      "\n",
      "    accuracy                           0.39     32613\n",
      "   macro avg       0.50      0.51      0.30     32613\n",
      "weighted avg       0.95      0.39      0.54     32613\n",
      "\n"
     ]
    }
   ],
   "source": [
    "results = confusion_matrix(test_labels, preds_test1) \n",
    "print('Confusion Matrix :')\n",
    "print(results) \n",
    "print('Accuracy Score :',accuracy_score(test_labels, preds_test1)) \n",
    "print('Report : ')\n",
    "print(classification_report(test_labels, preds_test1)) "
   ]
  },
  {
   "cell_type": "code",
   "execution_count": 41,
   "id": "0d581bed",
   "metadata": {},
   "outputs": [],
   "source": [
    "text_sus = []\n",
    "for index in preds_test:\n",
    "    if index == 1:\n",
    "        text = \"suspicious\"\n",
    "    elif index == -1:\n",
    "         text = \"not suspicious\"\n",
    "    text_sus.append(text)\n",
    "\n",
    "sus[\"class\"] = text_sus"
   ]
  },
  {
   "cell_type": "code",
   "execution_count": 42,
   "id": "fba86893",
   "metadata": {},
   "outputs": [
    {
     "data": {
      "text/html": [
       "<div>\n",
       "<style scoped>\n",
       "    .dataframe tbody tr th:only-of-type {\n",
       "        vertical-align: middle;\n",
       "    }\n",
       "\n",
       "    .dataframe tbody tr th {\n",
       "        vertical-align: top;\n",
       "    }\n",
       "\n",
       "    .dataframe thead th {\n",
       "        text-align: right;\n",
       "    }\n",
       "</style>\n",
       "<table border=\"1\" class=\"dataframe\">\n",
       "  <thead>\n",
       "    <tr style=\"text-align: right;\">\n",
       "      <th></th>\n",
       "      <th>username</th>\n",
       "      <th>name</th>\n",
       "      <th>tweet</th>\n",
       "      <th>category</th>\n",
       "      <th>label</th>\n",
       "      <th>class</th>\n",
       "    </tr>\n",
       "  </thead>\n",
       "  <tbody>\n",
       "    <tr>\n",
       "      <th>0</th>\n",
       "      <td>comrade0072</td>\n",
       "      <td>I thank you</td>\n",
       "      <td>@LadyhawkAnnie The fact that nobody has attemp...</td>\n",
       "      <td>accurate</td>\n",
       "      <td>-1</td>\n",
       "      <td>suspicious</td>\n",
       "    </tr>\n",
       "    <tr>\n",
       "      <th>1</th>\n",
       "      <td>comrade0072</td>\n",
       "      <td>I thank you</td>\n",
       "      <td>@Newzroom405 Maybe he needs Pfizer for the spear.</td>\n",
       "      <td>accurate</td>\n",
       "      <td>-1</td>\n",
       "      <td>suspicious</td>\n",
       "    </tr>\n",
       "    <tr>\n",
       "      <th>2</th>\n",
       "      <td>nuru_yochanan</td>\n",
       "      <td>Yochanan</td>\n",
       "      <td>@__Inolofatse__ Fostofol I'm not your fan, sec...</td>\n",
       "      <td>accurate</td>\n",
       "      <td>-1</td>\n",
       "      <td>not suspicious</td>\n",
       "    </tr>\n",
       "    <tr>\n",
       "      <th>3</th>\n",
       "      <td>azania109</td>\n",
       "      <td>Azania</td>\n",
       "      <td>@SundayTimesZA Asina ndaba we trust our own na...</td>\n",
       "      <td>accurate</td>\n",
       "      <td>-1</td>\n",
       "      <td>suspicious</td>\n",
       "    </tr>\n",
       "    <tr>\n",
       "      <th>4</th>\n",
       "      <td>muslimassocsa</td>\n",
       "      <td>Muslim Association of South Africa</td>\n",
       "      <td>As August comes to an end we look back at 27 d...</td>\n",
       "      <td>accurate</td>\n",
       "      <td>-1</td>\n",
       "      <td>suspicious</td>\n",
       "    </tr>\n",
       "    <tr>\n",
       "      <th>...</th>\n",
       "      <td>...</td>\n",
       "      <td>...</td>\n",
       "      <td>...</td>\n",
       "      <td>...</td>\n",
       "      <td>...</td>\n",
       "      <td>...</td>\n",
       "    </tr>\n",
       "    <tr>\n",
       "      <th>32608</th>\n",
       "      <td>ndim_uchris</td>\n",
       "      <td>uTata ka Zama and others</td>\n",
       "      <td>Corona emo specialeng</td>\n",
       "      <td>accurate</td>\n",
       "      <td>-1</td>\n",
       "      <td>suspicious</td>\n",
       "    </tr>\n",
       "    <tr>\n",
       "      <th>32609</th>\n",
       "      <td>collen_el</td>\n",
       "      <td>Collen Jay El'Padroni</td>\n",
       "      <td>@SbusisoMthimkul @mizar_CDXX Kodwa Bafo wena i...</td>\n",
       "      <td>accurate</td>\n",
       "      <td>-1</td>\n",
       "      <td>not suspicious</td>\n",
       "    </tr>\n",
       "    <tr>\n",
       "      <th>32610</th>\n",
       "      <td>em_jay7</td>\n",
       "      <td>High Sauce</td>\n",
       "      <td>Hahahaha re nwa Corona</td>\n",
       "      <td>accurate</td>\n",
       "      <td>-1</td>\n",
       "      <td>suspicious</td>\n",
       "    </tr>\n",
       "    <tr>\n",
       "      <th>32611</th>\n",
       "      <td>fana__n</td>\n",
       "      <td>FANA</td>\n",
       "      <td>@lebohang_dh Inside joke yeah but I open beer ...</td>\n",
       "      <td>accurate</td>\n",
       "      <td>-1</td>\n",
       "      <td>suspicious</td>\n",
       "    </tr>\n",
       "    <tr>\n",
       "      <th>32612</th>\n",
       "      <td>ts_muffins</td>\n",
       "      <td>Mama Kenzie 👑</td>\n",
       "      <td>@Juks_Afrika @VinDollar016 @nonhlanhla_Nox It’...</td>\n",
       "      <td>accurate</td>\n",
       "      <td>-1</td>\n",
       "      <td>not suspicious</td>\n",
       "    </tr>\n",
       "  </tbody>\n",
       "</table>\n",
       "<p>32613 rows × 6 columns</p>\n",
       "</div>"
      ],
      "text/plain": [
       "            username                                name  \\\n",
       "0        comrade0072                         I thank you   \n",
       "1        comrade0072                         I thank you   \n",
       "2      nuru_yochanan                            Yochanan   \n",
       "3          azania109                              Azania   \n",
       "4      muslimassocsa  Muslim Association of South Africa   \n",
       "...              ...                                 ...   \n",
       "32608    ndim_uchris            uTata ka Zama and others   \n",
       "32609      collen_el               Collen Jay El'Padroni   \n",
       "32610        em_jay7                          High Sauce   \n",
       "32611        fana__n                                FANA   \n",
       "32612     ts_muffins                       Mama Kenzie 👑   \n",
       "\n",
       "                                                   tweet  category  label  \\\n",
       "0      @LadyhawkAnnie The fact that nobody has attemp...  accurate     -1   \n",
       "1      @Newzroom405 Maybe he needs Pfizer for the spear.  accurate     -1   \n",
       "2      @__Inolofatse__ Fostofol I'm not your fan, sec...  accurate     -1   \n",
       "3      @SundayTimesZA Asina ndaba we trust our own na...  accurate     -1   \n",
       "4      As August comes to an end we look back at 27 d...  accurate     -1   \n",
       "...                                                  ...       ...    ...   \n",
       "32608                              Corona emo specialeng  accurate     -1   \n",
       "32609  @SbusisoMthimkul @mizar_CDXX Kodwa Bafo wena i...  accurate     -1   \n",
       "32610                             Hahahaha re nwa Corona  accurate     -1   \n",
       "32611  @lebohang_dh Inside joke yeah but I open beer ...  accurate     -1   \n",
       "32612  @Juks_Afrika @VinDollar016 @nonhlanhla_Nox It’...  accurate     -1   \n",
       "\n",
       "                class  \n",
       "0          suspicious  \n",
       "1          suspicious  \n",
       "2      not suspicious  \n",
       "3          suspicious  \n",
       "4          suspicious  \n",
       "...               ...  \n",
       "32608      suspicious  \n",
       "32609  not suspicious  \n",
       "32610      suspicious  \n",
       "32611      suspicious  \n",
       "32612  not suspicious  \n",
       "\n",
       "[32613 rows x 6 columns]"
      ]
     },
     "execution_count": 42,
     "metadata": {},
     "output_type": "execute_result"
    }
   ],
   "source": [
    "sus"
   ]
  },
  {
   "cell_type": "code",
   "execution_count": 43,
   "id": "9ffa19c1",
   "metadata": {},
   "outputs": [
    {
     "data": {
      "text/plain": [
       "suspicious        17679\n",
       "not suspicious    14934\n",
       "Name: class, dtype: int64"
      ]
     },
     "execution_count": 43,
     "metadata": {},
     "output_type": "execute_result"
    }
   ],
   "source": [
    "sus['class'].value_counts()"
   ]
  },
  {
   "cell_type": "code",
   "execution_count": 44,
   "id": "405ebe7b",
   "metadata": {},
   "outputs": [
    {
     "data": {
      "text/plain": [
       "<AxesSubplot:xlabel='class', ylabel='count'>"
      ]
     },
     "execution_count": 44,
     "metadata": {},
     "output_type": "execute_result"
    },
    {
     "data": {
      "image/png": "[encoded data removed]",
      "text/plain": [
       "<Figure size 432x288 with 1 Axes>"
      ]
     },
     "metadata": {
      "needs_background": "light"
     },
     "output_type": "display_data"
    }
   ],
   "source": [
    "sns.countplot(sus['class'])"
   ]
  },
  {
   "cell_type": "code",
   "execution_count": 45,
   "id": "273ed6d0",
   "metadata": {},
   "outputs": [
    {
     "data": {
      "text/plain": [
       "<AxesSubplot:xlabel='class'>"
      ]
     },
     "execution_count": 45,
     "metadata": {},
     "output_type": "execute_result"
    },
    {
     "data": {
      "image/png": "[encoded data removed]",
      "text/plain": [
       "<Figure size 432x288 with 1 Axes>"
      ]
     },
     "metadata": {
      "needs_background": "light"
     },
     "output_type": "display_data"
    }
   ],
   "source": [
    "(sus\n",
    " .groupby(['class', 'category'])\n",
    " .size()\n",
    " .unstack()\n",
    " .plot.bar()\n",
    ")"
   ]
  },
  {
   "cell_type": "code",
   "execution_count": 46,
   "id": "72784fe2",
   "metadata": {},
   "outputs": [
    {
     "data": {
      "text/plain": [
       "Text(0.5, 1.0, 'Number of normal tweets against misinformation')"
      ]
     },
     "execution_count": 46,
     "metadata": {},
     "output_type": "execute_result"
    },
    {
     "data": {
      "image/png": "[encoded data removed]",
      "text/plain": [
       "<Figure size 432x288 with 1 Axes>"
      ]
     },
     "metadata": {
      "needs_background": "light"
     },
     "output_type": "display_data"
    }
   ],
   "source": [
    "(sus['category']\n",
    " .value_counts(sort=False)\n",
    " .plot.barh()\n",
    " .set_title('Number of normal tweets against misinformation')\n",
    ")"
   ]
  },
  {
   "cell_type": "code",
   "execution_count": null,
   "id": "a0e1e665",
   "metadata": {},
   "outputs": [],
   "source": []
  },
  {
   "cell_type": "code",
   "execution_count": null,
   "id": "4f05c843",
   "metadata": {},
   "outputs": [],
   "source": []
  },
  {
   "cell_type": "code",
   "execution_count": null,
   "id": "810c1453",
   "metadata": {},
   "outputs": [],
   "source": []
  },
  {
   "cell_type": "code",
   "execution_count": null,
   "id": "02522e76",
   "metadata": {},
   "outputs": [],
   "source": []
  },
  {
   "cell_type": "code",
   "execution_count": null,
   "id": "2213618a",
   "metadata": {},
   "outputs": [],
   "source": []
  }
 ],
 "metadata": {
  "kernelspec": {
   "display_name": "Python 3",
   "language": "python",
   "name": "python3"
  },
  "language_info": {
   "codemirror_mode": {
    "name": "ipython",
    "version": 3
   },
   "file_extension": ".py",
   "mimetype": "text/x-python",
   "name": "python",
   "nbconvert_exporter": "python",
   "pygments_lexer": "ipython3",
   "version": "3.8.8"
  }
 },
 "nbformat": 4,
 "nbformat_minor": 5
}
