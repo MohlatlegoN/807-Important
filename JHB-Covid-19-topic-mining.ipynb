{
 "cells": [
  {
   "cell_type": "markdown",
   "id": "29a69386",
   "metadata": {},
   "source": []
  },
  {
   "cell_type": "markdown",
   "id": "cbae2c64",
   "metadata": {},
   "source": [
    "####     Author : Mohlatlego  nakeng"
   ]
  },
  {
   "cell_type": "markdown",
   "id": "949e2534",
   "metadata": {},
   "source": [
    "#### Topic Modelling\n",
    "\n",
    "* Latent Dirichlet Allocation represents documents as mixtures of topics that spit out words with certain probabilities. So now suppose you have a set of documents. You’ve chosen some fixed number of K topics to discover, and want to use LDA to learn the topic representation of each document and the words associated to each topic.\n",
    "* Latent Dirichlet allocation (LDA) is a technique that automatically discovers topics that these documents contain.\n",
    "* Dirichlet is a distribution specified by a vector parameter α containing some αi corresponding to each topic i, which we write as Dir(α)"
   ]
  },
  {
   "cell_type": "markdown",
   "id": "fef9d054",
   "metadata": {},
   "source": [
    "#### Non-negative Matrix Factorization\n",
    "\n",
    "* LDA is based on probabilistic graphical modeling while NMF relies on linear algebra.\n",
    "* Both algorithms take as input a bag of words matrix (i.e., each document represented as a row, with each columns containing the count of words in the corpus).\n",
    "* The aim of each algorithm is then to produce 2 smaller matrices; a document to topic matrix and a word to topic matrix that when multiplied together reproduce the bag of words matrix with the lowest error."
   ]
  },
  {
   "cell_type": "markdown",
   "id": "7e16ba92",
   "metadata": {},
   "source": [
    "#### Importing Libraries  "
   ]
  },
  {
   "cell_type": "code",
   "execution_count": 10,
   "id": "f11019d1",
   "metadata": {},
   "outputs": [],
   "source": [
    "from sklearn.feature_extraction.text import TfidfVectorizer, CountVectorizer\n",
    "from sklearn.decomposition import NMF, LatentDirichletAllocation\n",
    "import pyLDAvis\n",
    "import pyLDAvis.sklearn\n",
    "import sys\n",
    "import pandas as pd\n",
    "import os\n",
    "import warnings\n",
    "warnings.filterwarnings(\"ignore\", category=DeprecationWarning)"
   ]
  },
  {
   "cell_type": "code",
   "execution_count": 11,
   "id": "f6677f1d",
   "metadata": {},
   "outputs": [],
   "source": [
    "import preprocessor as p"
   ]
  },
  {
   "cell_type": "code",
   "execution_count": 12,
   "id": "c64bd0a1",
   "metadata": {},
   "outputs": [],
   "source": [
    "from nltk.corpus import stopwords"
   ]
  },
  {
   "cell_type": "markdown",
   "id": "5830cb2a",
   "metadata": {},
   "source": [
    "#### Import datasets"
   ]
  },
  {
   "cell_type": "code",
   "execution_count": 13,
   "id": "bb879911",
   "metadata": {},
   "outputs": [],
   "source": [
    "data = pd.read_csv(\"data/vaccine_jhb.csv\",sep=\"\\t\" )"
   ]
  },
  {
   "cell_type": "code",
   "execution_count": 14,
   "id": "8b556332",
   "metadata": {},
   "outputs": [
    {
     "data": {
      "text/plain": [
       "Index(['id', 'conversation_id', 'created_at', 'date', 'time', 'timezone',\n",
       "       'user_id', 'username', 'name', 'place', 'tweet', 'language', 'mentions',\n",
       "       'urls', 'photos', 'replies_count', 'retweets_count', 'likes_count',\n",
       "       'hashtags', 'cashtags', 'link', 'retweet', 'quote_url', 'video',\n",
       "       'thumbnail', 'near', 'geo', 'source', 'user_rt_id', 'user_rt',\n",
       "       'retweet_id', 'reply_to', 'retweet_date', 'translate', 'trans_src',\n",
       "       'trans_dest'],\n",
       "      dtype='object')"
      ]
     },
     "execution_count": 14,
     "metadata": {},
     "output_type": "execute_result"
    }
   ],
   "source": [
    "data.columns"
   ]
  },
  {
   "cell_type": "code",
   "execution_count": 15,
   "id": "c1aed2f0",
   "metadata": {},
   "outputs": [
    {
     "data": {
      "text/plain": [
       "0       @LadyhawkAnnie The fact that nobody has attemp...\n",
       "1       @Newzroom405 Maybe he needs Pfizer for the spear.\n",
       "2       @__Inolofatse__ Fostofol I'm not your fan, sec...\n",
       "3       @SundayTimesZA Asina ndaba we trust our own na...\n",
       "4       As August comes to an end we look back at 27 d...\n",
       "                              ...                        \n",
       "9722    @TedPhaladi I agree just go with the flow beca...\n",
       "9723    And for the love of God, fuck #SAA, use this m...\n",
       "9724    And A VACCINE STRATEGY SHOULD BE ANNOUNCED AND...\n",
       "9725    Where it all start the chines are on with thei...\n",
       "9726    @leylurr ❤️❤️❤️ just you wait until we have a ...\n",
       "Name: tweet, Length: 9727, dtype: object"
      ]
     },
     "execution_count": 15,
     "metadata": {},
     "output_type": "execute_result"
    }
   ],
   "source": [
    "data.tweet"
   ]
  },
  {
   "cell_type": "markdown",
   "id": "9a7193ed",
   "metadata": {},
   "source": [
    "#### data cleaning "
   ]
  },
  {
   "cell_type": "markdown",
   "id": "802b13a8",
   "metadata": {},
   "source": [
    "* Removig mentions or Tags"
   ]
  },
  {
   "cell_type": "code",
   "execution_count": 16,
   "id": "6a178ec6",
   "metadata": {},
   "outputs": [],
   "source": [
    "import re"
   ]
  },
  {
   "cell_type": "code",
   "execution_count": 17,
   "id": "38c8cd17",
   "metadata": {},
   "outputs": [],
   "source": [
    "from nltk.stem import PorterStemmer\n",
    "stop_words=stopwords.words('english')\n",
    "stemmer=PorterStemmer()"
   ]
  },
  {
   "cell_type": "raw",
   "id": "bb0f7001",
   "metadata": {},
   "source": [
    "# Let us remove mentions like @XXXXXx  \n",
    "cleaned_data=[]\n",
    "for i in range(len(data.tweet)):\n",
    "    tweet=re.sub('[^a-zA-Z]',' ',data.tweet.iloc[i])\n",
    "    tweet=re.sub('@[A-Za-z0-9_]+',' ',data.tweet.iloc[i])\n",
    "    tweet=tweet.lower().split()\n",
    "    tweet=[stemmer.stem(word) for word in tweet if (word not in stop_words)]\n",
    "#     tweet = p.clean(data.tweet)\n",
    "    tweet=' '.join(tweet)\n",
    "    cleaned_data.append(tweet)\n",
    "    "
   ]
  },
  {
   "cell_type": "code",
   "execution_count": 18,
   "id": "5e30bf50",
   "metadata": {},
   "outputs": [],
   "source": [
    "def data_clean(text):\n",
    "    for i in range(len(data)):\n",
    "        tweet=re.sub('[^a-zA-Z]',' ',data.iloc[i])\n",
    "        tweet=re.sub('@[A-Za-z0-9_]+',' ',data.iloc[i])\n",
    "        tweet=tweet.lower().split()\n",
    "        tweet=[stemmer.stem(word) for word in tweet if (word not in stop_words)]\n",
    "    #     tweet = p.clean(data.tweet)\n",
    "        tweet=' '.join(tweet)\n",
    "        return tweet"
   ]
  },
  {
   "cell_type": "code",
   "execution_count": 19,
   "id": "d935af9a",
   "metadata": {},
   "outputs": [],
   "source": [
    "def display_topics(model, feature_names, no_top_words):\n",
    "    \n",
    "    for topic_idx, topic in enumerate(model.components_):\n",
    "        print(\"Topic:\", (topic_idx))\n",
    "        print(\" \".join([feature_names[i]\n",
    "        for i in topic.argsort()[:-no_top_words - 1:-1]]))\n",
    "\n",
    "\n",
    "def tfidf_vectorizer(documents,total_features):\n",
    "\n",
    "    #  TFIDF Vectorizer\n",
    "    tfidf_vectorizer = TfidfVectorizer(max_df=0.95, min_df=2, max_features=total_features, stop_words='english')\n",
    "    tfidf = tfidf_vectorizer.fit_transform(documents)\n",
    "    tfidf_feature_names = tfidf_vectorizer.get_feature_names()\n",
    "    return tfidf_vectorizer,tfidf,tfidf_feature_names\n",
    "\n",
    "def count_vectorizer(documents,total_features):\n",
    "\n",
    "    #  Count Vectorizer\n",
    "    tf_vectorizer = CountVectorizer(max_df=0.95, min_df=2, max_features=total_features, stop_words='english')\n",
    "    tf = tf_vectorizer.fit_transform(documents)\n",
    "    tf_feature_names = tf_vectorizer.get_feature_names()\n",
    "    return tf_vectorizer,tf,tf_feature_names"
   ]
  },
  {
   "cell_type": "code",
   "execution_count": 34,
   "id": "9c12abc8",
   "metadata": {},
   "outputs": [
    {
     "data": {
      "text/plain": [
       "0       @LadyhawkAnnie The fact that nobody has attemp...\n",
       "1       @Newzroom405 Maybe he needs Pfizer for the spear.\n",
       "2       @__Inolofatse__ Fostofol I'm not your fan, sec...\n",
       "3       @SundayTimesZA Asina ndaba we trust our own na...\n",
       "4       As August comes to an end we look back at 27 d...\n",
       "                              ...                        \n",
       "9722    @TedPhaladi I agree just go with the flow beca...\n",
       "9723    And for the love of God, fuck #SAA, use this m...\n",
       "9724    And A VACCINE STRATEGY SHOULD BE ANNOUNCED AND...\n",
       "9725    Where it all start the chines are on with thei...\n",
       "9726    @leylurr ❤️❤️❤️ just you wait until we have a ...\n",
       "Name: tweet, Length: 9727, dtype: object"
      ]
     },
     "execution_count": 34,
     "metadata": {},
     "output_type": "execute_result"
    }
   ],
   "source": [
    "data['tweet']"
   ]
  },
  {
   "cell_type": "code",
   "execution_count": 20,
   "id": "64bdd8e1",
   "metadata": {},
   "outputs": [
    {
     "name": "stderr",
     "output_type": "stream",
     "text": [
      "C:\\Users\\Mohlatlego\\anaconda3\\lib\\site-packages\\sklearn\\utils\\deprecation.py:87: FutureWarning: Function get_feature_names is deprecated; get_feature_names is deprecated in 1.0 and will be removed in 1.2. Please use get_feature_names_out instead.\n",
      "  warnings.warn(msg, category=FutureWarning)\n"
     ]
    }
   ],
   "source": [
    "total_features = 15000\n",
    "num_topic = 20\n",
    "tfidf_vectorizer, tfidf, tfidf_feature_names = tfidf_vectorizer(data['tweet'],total_features)\n",
    "tf_vectorizer, tf, tf_feature_names = count_vectorizer(data['tweet'],total_features)"
   ]
  },
  {
   "cell_type": "code",
   "execution_count": 21,
   "id": "1e53e31f",
   "metadata": {},
   "outputs": [],
   "source": [
    "model_lda = LatentDirichletAllocation(n_components=num_topic, max_iter=30, learning_method='online', learning_offset=50.,random_state=0).fit(tfidf)\n",
    "no_top_words = 20"
   ]
  },
  {
   "cell_type": "code",
   "execution_count": 22,
   "id": "b5ecf8df",
   "metadata": {},
   "outputs": [
    {
     "name": "stdout",
     "output_type": "stream",
     "text": [
      "Topic: 0\n",
      "gene therapy lockdownhouseparty experimental universities skynews kimberleypipet baba lynnbrittney2 khadijapatel thread authority zoeharcombe declined pentse radio702 bullied revolutionary hase abuse\n",
      "Topic: 1\n",
      "kingphaahla2 johnson_yolande unokwandalo thando_honey chile bdlivesa potus gloves donate hello veins edmnangagwa appreciated existence r350 noxnonozi khayajames locals diy amazulu\n",
      "Topic: 2\n",
      "ne queen tea ncube_johnson church lock yhooo established zanu cap bonang_m aunts grace scn_nkosi dozes astrazenaca sole overthinking container covidvaccine\n",
      "Topic: 3\n",
      "promote masego version lava tablet suncloud shaken chava sunboxambassador spreadalittlesunshine sunbox mokang pilane sunshinecinema sparkconversation pontsho busts cape discusses northern\n",
      "Topic: 4\n",
      "sabreakingnews carteblanchetv mnet utshwala sam zimbabwean reacting zimbabweans lakho material pruwolfie presently hermainem wath covid_19sa robert mnangagwa nanoza23 sogama_l_sabifa engineered\n",
      "Topic: 5\n",
      "bonitascares bonitasmedical passport unitetofightcorona chip presjgzuma distance successfully rands 40yghhq1hu dzumasambudla ancestors steps sanitize sickening lukanyomngqolo champagne myths bag ny\n",
      "Topic: 6\n",
      "vaccine vaccines vaccinated people https covid don vaccinate just amp need want know 19 like government sa south africa going\n",
      "Topic: 7\n",
      "johnson puff clicks_sa comrades mina micellar clicksbeautyschoolbattle sbwl suspended hi comment expecting bara patbafo hermanmashaba ntate lindamoeketsi que rupert ni\n",
      "Topic: 8\n",
      "baby secure iol girl calvin propaganda distributing mo4lo convoy ticket zukxman googlenews lottery powder patriarchy khayamaloney meds olympics charged bcz\n",
      "Topic: 9\n",
      "bambo_johnson pfizer https vaccine ya radio2000za vaccinated ke ba le okay promo volunteers update gt fully good nkunzi amazing listening\n",
      "Topic: 10\n",
      "birthday johnson effects pierre jesus fikiswar magic amp novaccine balance nolorata theokadi institute serum grow lemon hayi news24 christ struggling\n",
      "Topic: 11\n",
      "ye vele ku suspect thina ngathi ngale la joke mjolo bo bucs 4am vaccine ey peterman43 ini suppliers ngo lere\n",
      "Topic: 12\n",
      "certificate dna treated obtain warn drops barrybateman aint nami activity 19keys_ nucleus tjo trauma rna advertising okare mucus modify hesitating\n",
      "Topic: 13\n",
      "street sunday drive west 45 houghton site kopa open 08h00 eligible savaccine booze soldiers vaccinessavelives acquisition getvaccinated 16h00 vacation tsona\n",
      "Topic: 14\n",
      "repaoc loopy_johnson kharajabola huggison thecomrade_elmo cup deserve olaotan_johnson pierredevos zimbos mp hype advocate hlaoivan mashile lebo https vngalwana sabs gailallan15\n",
      "Topic: 15\n",
      "se life ilandile joe determined building rid episode skeemsaam matamela useful saving illegal c19 shes leon_schreib denaechettiar offices culture usina\n",
      "Topic: 16\n",
      "2021 created track portal goodthingsguy page https visit dashboard today country information africans july vaccine completely south 25 june delivery\n",
      "Topic: 17\n",
      "vaccinated vaccine https got getting vaccinate today vaccinerolloutsa jab pfizer registered site vaccination amp let dischem wait discovery_sa ready register\n",
      "Topic: 18\n",
      "red smart clicks challenge kgomo389 profit neh beer shame cause clot nie complaining explanation deputy suppose socialism dumb spike protein\n",
      "Topic: 19\n",
      "abantu kaizerchiefs drunk fetch gay yi announcing remembered migos issa vaccine pty lengana officialpsl pastorpulem sollyhlaka vip r5 pilot mediclinic\n"
     ]
    }
   ],
   "source": [
    "display_topics(model_lda, tfidf_feature_names, no_top_words)"
   ]
  },
  {
   "cell_type": "markdown",
   "id": "d7f5e271",
   "metadata": {},
   "source": [
    "##### Testing on JHB data"
   ]
  },
  {
   "cell_type": "code",
   "execution_count": 23,
   "id": "3c4aaeed",
   "metadata": {},
   "outputs": [
    {
     "data": {
      "text/html": [
       "\n",
       "<link rel=\"stylesheet\" type=\"text/css\" href=\"https://cdn.jsdelivr.net/gh/bmabey/pyLDAvis@3.2.2/pyLDAvis/js/ldavis.v1.0.0.css\">\n",
       "\n",
       "\n",
       "<div id=\"ldavis_el1335619160928951202510183903\"></div>\n",
       "<script type=\"text/javascript\">\n",
       "\n",
       "var ldavis_el1335619160928951202510183903_data = {\"mdsDat\": {\"x\": [-0.07422378718506441, -0.29134325494296287, -0.17381789178789475, 0.07348917040269377, -0.006361178640887866, 0.05989840454578811, 0.03903919318908307, 0.024797823943636273, 0.037201183870560865, 0.03481175969466562, 0.03502184135998112, 0.03404370227712838, 0.03452826266436946, 0.030178031453207303, 0.0314645703572904, 0.025373415704146293, 0.025669332328424107, 0.020335352696663422, 0.021408716350465793, 0.018485351718705564], \"y\": [-0.15200126481542778, -0.09692554031709862, 0.2363879294858895, 0.011035260841938205, -0.011717422822291068, 0.007357243847978911, 0.003621207959462667, -0.00100434110177596, 0.0001997874113152228, 0.0005489484031217763, 0.002710795907832634, 0.0007060073538738871, -0.00038376106779794915, -0.00022046356377302366, 0.00030764955103691413, 0.0002669813167725404, 9.961076215287158e-05, -0.0002965399245496057, -0.0002455985849619558, -0.0004464906436991354], \"topics\": [1, 2, 3, 4, 5, 6, 7, 8, 9, 10, 11, 12, 13, 14, 15, 16, 17, 18, 19, 20], \"cluster\": [1, 1, 1, 1, 1, 1, 1, 1, 1, 1, 1, 1, 1, 1, 1, 1, 1, 1, 1, 1], \"Freq\": [60.46081363496951, 6.689313240022725, 6.101591554336143, 2.204583970610091, 2.1667120080775755, 1.98842783449614, 1.7407383136437176, 1.7278263849360609, 1.5477809077766138, 1.5069684788523992, 1.474129385844219, 1.4512459183073698, 1.4498519251835076, 1.4083765191710653, 1.4000637760174974, 1.3929925561850274, 1.3598916996941126, 1.3526111134584684, 1.3019421003543434, 1.274138678063432]}, \"tinfo\": {\"Term\": [\"vaccinated\", \"vaccine\", \"https\", \"johnson\", \"bambo_johnson\", \"country\", \"pfizer\", \"south\", \"vaccinate\", \"got\", \"today\", \"getting\", \"amp\", \"effects\", \"africans\", \"2021\", \"information\", \"life\", \"vaccination\", \"jab\", \"let\", \"site\", \"track\", \"created\", \"vaccinerolloutsa\", \"visit\", \"know\", \"drive\", \"open\", \"ye\", \"don\", \"government\", \"did\", \"cyrilramaphosa\", \"money\", \"virus\", \"sa\", \"familymeeting\", \"like\", \"say\", \"does\", \"make\", \"countries\", \"president\", \"right\", \"people\", \"work\", \"anc\", \"million\", \"ramaphosa\", \"year\", \"said\", \"roll\", \"world\", \"new\", \"want\", \"saying\", \"doesn\", \"rollout\", \"stop\", \"know\", \"really\", \"vaccines\", \"need\", \"covid\", \"taking\", \"covid19\", \"going\", \"19\", \"africa\", \"vaccine\", \"just\", \"vaccinate\", \"south\", \"amp\", \"vaccinated\", \"health\", \"think\", \"https\", \"getting\", \"let\", \"dischem\", \"qualify\", \"strategy\", \"arrival\", \"mzansi\", \"minutes\", \"shem\", \"zim\", \"ama\", \"fans\", \"mark\", \"ad\", \"king\", \"airport\", \"failure\", \"staysafe\", \"december\", \"boys\", \"david_makhura\", \"alfred_cabonena\", \"stress\", \"loading\", \"ins\", \"couple\", \"policy\", \"impressed\", \"borders\", \"landed\", \"johnsonandjohnson\", \"sandton\", \"gautenghealth\", \"groove\", \"finally\", \"discovery_sa\", \"walk\", \"discovery\", \"vaccinated\", \"vaccinerolloutsa\", \"registered\", \"https\", \"got\", \"site\", \"vaccine\", \"getting\", \"jab\", \"today\", \"queue\", \"vaccinate\", \"ready\", \"vaccinatetosavesouthafrica\", \"vaccination\", \"register\", \"let\", \"wait\", \"pfizer\", \"waiting\", \"amp\", \"dose\", \"1st\", \"come\", \"covid\", \"bambo_johnson\", \"radio2000za\", \"okay\", \"promo\", \"update\", \"gt\", \"nkunzi\", \"listening\", \"price\", \"amazing\", \"stadiums\", \"chiefs\", \"stadium\", \"offer\", \"chuffed\", \"volunteers\", \"influencer\", \"arms\", \"football\", \"option\", \"distributed\", \"race\", \"ways\", \"drinking\", \"quiet\", \"soweto\", \"sore\", \"limpopo\", \"praiseandworship\", \"lt\", \"ya\", \"ba\", \"pfizer\", \"le\", \"ke\", \"https\", \"administered\", \"water\", \"arm\", \"vaccine\", \"vaccinated\", \"fully\", \"team\", \"healthcare\", \"good\", \"vaccination\", \"friend\", \"got\", \"amp\", \"vaccineforsouthafrica\", \"puff\", \"clicks_sa\", \"comrades\", \"micellar\", \"clicksbeautyschoolbattle\", \"sbwl\", \"suspended\", \"comment\", \"expecting\", \"bara\", \"patbafo\", \"hermanmashaba\", \"ntate\", \"lindamoeketsi\", \"que\", \"rupert\", \"ni\", \"ukhozi_fm\", \"fresh\", \"hmmm\", \"wasting\", \"tjovitjo\", \"strange\", \"konje\", \"feather_ruffler\", \"venternic\", \"paulmtirara\", \"wide\", \"john\", \"sizwedhlomo\", \"johnson\", \"mina\", \"hi\", \"drama\", \"sent\", \"portal\", \"goodthingsguy\", \"page\", \"dashboard\", \"25\", \"june\", \"delivery\", \"infographic\", \"clicking\", \"9amonymqia\", \"click\", \"created\", \"dololo\", \"level2\", \"r3\", \"yini\", \"track\", \"aovrokmpky\", \"receives\", \"khayelitsha\", \"tseba\", \"visit\", \"jealous\", \"07\", \"mtn\", \"graphs\", \"29\", \"dosage\", \"billionaires\", \"09\", \"july\", \"22\", \"completely\", \"2021\", \"information\", \"august\", \"africans\", \"daily\", \"today\", \"country\", \"https\", \"south\", \"vaccine\", \"vaccinated\", \"smart\", \"clicks\", \"challenge\", \"kgomo389\", \"profit\", \"beer\", \"clot\", \"nie\", \"complaining\", \"explanation\", \"deputy\", \"suppose\", \"socialism\", \"dumb\", \"spike\", \"protein\", \"ndi\", \"yah\", \"swear\", \"discussing\", \"boring\", \"red\", \"block\", \"te\", \"season\", \"leratokganyago\", \"pure\", \"previously\", \"paratus2014\", \"democratic\", \"shame\", \"neh\", \"jnj\", \"suspend\", \"change\", \"cause\", \"kaconfessor\", \"birthday\", \"pierre\", \"jesus\", \"fikiswar\", \"magic\", \"balance\", \"nolorata\", \"theokadi\", \"institute\", \"serum\", \"grow\", \"lemon\", \"hayi\", \"christ\", \"holiday\", \"michael\", \"reduction\", \"zickie_s\", \"buddynice\", \"kelvinw40709444\", \"chris\", \"supplies\", \"serves\", \"newton\", \"savior\", \"hemel\", \"aarde\", \"vonderleyen\", \"upper\", \"2lah3\", \"novaccine\", \"effects\", \"struggling\", \"johnson\", \"amp\", \"news24\", \"en\", \"vaccine\", \"street\", \"sunday\", \"kopa\", \"08h00\", \"savaccine\", \"booze\", \"soldiers\", \"acquisition\", \"16h00\", \"vacation\", \"tsona\", \"fridges\", \"ideas\", \"crane\", \"45\", \"socialist\", \"drjaytee87\", \"table\", \"gqomgvng\", \"surrounding\", \"incapable\", \"crowded\", \"15h00\", \"milk\", \"st\", \"hollow\", \"umuthi\", \"cried\", \"ausi\", \"correctly\", \"west\", \"vaccinessavelives\", \"houghton\", \"drive\", \"gpvaccination\", \"eligible\", \"site\", \"getvaccinated\", \"open\", \"welcome\", \"masjid\", \"vaccination\", \"ye\", \"vele\", \"ku\", \"suspect\", \"ngathi\", \"ngale\", \"mjolo\", \"bucs\", \"4am\", \"thina\", \"ey\", \"peterman43\", \"ini\", \"suppliers\", \"ngo\", \"lere\", \"ine\", \"inoba\", \"chow\", \"tru\", \"johnson_led\", \"60million\", \"ri\", \"ayisebenzi\", \"rob\", \"migrants\", \"niggas\", \"real_precious_m\", \"odds\", \"shapa\", \"la\", \"bo\", \"joke\", \"vaccine\", \"bonitascares\", \"bonitasmedical\", \"unitetofightcorona\", \"chip\", \"presjgzuma\", \"distance\", \"successfully\", \"rands\", \"40yghhq1hu\", \"dzumasambudla\", \"ancestors\", \"steps\", \"sanitize\", \"sickening\", \"lukanyomngqolo\", \"champagne\", \"bag\", \"contacted\", \"hani\", \"hired\", \"crow\", \"cured\", \"highlight\", \"belt\", \"rfid\", \"investigate\", \"dishing\", \"assurance\", \"alcoholbanlifted\", \"mphahlelemm\", \"passport\", \"myths\", \"ny\", \"deny\", \"kingphaahla2\", \"johnson_yolande\", \"unokwandalo\", \"thando_honey\", \"chile\", \"bdlivesa\", \"potus\", \"gloves\", \"donate\", \"hello\", \"veins\", \"edmnangagwa\", \"appreciated\", \"existence\", \"r350\", \"noxnonozi\", \"khayajames\", \"locals\", \"diy\", \"amazulu\", \"distrust\", \"aut\", \"bladenzimande\", \"sweet\", \"ms_zamandlovu\", \"growing\", \"prob\", \"ndoda\", \"manufactures\", \"unjani\", \"pfizer\", \"gene\", \"therapy\", \"lockdownhouseparty\", \"universities\", \"skynews\", \"kimberleypipet\", \"baba\", \"lynnbrittney2\", \"khadijapatel\", \"authority\", \"zoeharcombe\", \"declined\", \"pentse\", \"bullied\", \"revolutionary\", \"hase\", \"abuse\", \"beware\", \"kudala\", \"rebaone59275709\", \"experimental\", \"language\", \"500billion\", \"thefreds\", \"budgets\", \"master_tapita\", \"thoroughly\", \"owners\", \"iam_ph\", \"deleted\", \"thread\", \"radio702\", \"se\", \"ilandile\", \"joe\", \"determined\", \"building\", \"rid\", \"episode\", \"skeemsaam\", \"matamela\", \"useful\", \"illegal\", \"c19\", \"shes\", \"leon_schreib\", \"denaechettiar\", \"offices\", \"culture\", \"usina\", \"tidoo\", \"ngithi\", \"liberty\", \"ons\", \"wara\", \"champions\", \"allows\", \"saam\", \"concluded\", \"realntarasibizo\", \"mcclinton201005\", \"cleaners\", \"life\", \"saving\", \"queen\", \"tea\", \"ncube_johnson\", \"church\", \"lock\", \"ne\", \"yhooo\", \"established\", \"zanu\", \"cap\", \"bonang_m\", \"aunts\", \"grace\", \"scn_nkosi\", \"dozes\", \"astrazenaca\", \"sole\", \"overthinking\", \"container\", \"troubled\", \"proposing\", \"powervaccinates\", \"graduate\", \"zapu\", \"uncles\", \"tigresa_za\", \"kube\", \"oo\", \"thomasmsengana\", \"pearlmodiadie\", \"covidvaccine\", \"leaders\", \"baby\", \"secure\", \"iol\", \"calvin\", \"distributing\", \"mo4lo\", \"convoy\", \"ticket\", \"zukxman\", \"googlenews\", \"lottery\", \"powder\", \"patriarchy\", \"girl\", \"khayamaloney\", \"meds\", \"olympics\", \"charged\", \"bcz\", \"notion\", \"coach\", \"sec\", \"outlive\", \"band\", \"r250\", \"ibiza\", \"ase\", \"phophi\", \"immunised\", \"propaganda\", \"guy\", \"kharajabola\", \"repaoc\", \"loopy_johnson\", \"huggison\", \"thecomrade_elmo\", \"cup\", \"deserve\", \"olaotan_johnson\", \"pierredevos\", \"zimbos\", \"mp\", \"hype\", \"hlaoivan\", \"mashile\", \"lebo\", \"vngalwana\", \"sabs\", \"gailallan15\", \"botched\", \"mps\", \"acacios__\", \"lap\", \"dance\", \"advocate\", \"spoon\", \"junior\", \"portfolio\", \"matthew\", \"biz_retail\", \"shane\", \"collier\", \"https\", \"sabreakingnews\", \"carteblanchetv\", \"mnet\", \"utshwala\", \"sam\", \"zimbabwean\", \"reacting\", \"zimbabweans\", \"lakho\", \"material\", \"pruwolfie\", \"presently\", \"hermainem\", \"wath\", \"covid_19sa\", \"robert\", \"mnangagwa\", \"nanoza23\", \"sogama_l_sabifa\", \"engineered\", \"hev\", \"dragging\", \"harmless\", \"ndi_muvenda_\", \"iammofolo\", \"mmadikgosi_23\", \"imported\", \"presume\", \"reliance\", \"zimbabweanlivesmatter\", \"abantu\", \"kaizerchiefs\", \"drunk\", \"fetch\", \"gay\", \"yi\", \"announcing\", \"remembered\", \"migos\", \"issa\", \"pty\", \"lengana\", \"pastorpulem\", \"sollyhlaka\", \"vip\", \"r5\", \"pilot\", \"mediclinic\", \"lueendal07\", \"zukzfranco\", \"moes\", \"wedding\", \"vodacom\", \"08\", \"inkinga\", \"morningside\", \"hosp\", \"carries\", \"fika\", \"nomsa_maseko\", \"officialpsl\", \"venue\", \"vaccine\", \"certificate\", \"treated\", \"obtain\", \"warn\", \"drops\", \"barrybateman\", \"aint\", \"nami\", \"activity\", \"19keys_\", \"nucleus\", \"tjo\", \"trauma\", \"rna\", \"advertising\", \"okare\", \"mucus\", \"modify\", \"dna\", \"hesitating\", \"stylesalebogang\", \"iets\", \"hom\", \"kan\", \"hou\", \"keuse\", \"dom\", \"pointed\", \"speculation\", \"disliked\", \"nose\", \"located\", \"plse\", \"skepsel_sa\", \"airways\", \"affects\", \"locate\", \"involving\", \"confirm\", \"masego\", \"version\", \"lava\", \"promote\", \"tablet\", \"suncloud\", \"shaken\", \"chava\", \"sunboxambassador\", \"spreadalittlesunshine\", \"sunbox\", \"mokang\", \"pilane\", \"sunshinecinema\", \"sparkconversation\", \"pontsho\", \"busts\", \"iets\", \"hom\", \"kan\", \"hou\", \"keuse\", \"dom\", \"pointed\", \"disliked\", \"speculation\", \"adamant\", \"9min\", \"fedgvt\", \"renz\", \"cape\", \"discusses\", \"northern\", \"myths\", \"ambassador\", \"resistance\", \"twa\", \"mina\", \"rollout\", \"imaginary\", \"ibuhlungu\", \"data\", \"accused\"], \"Freq\": [267.0, 442.0, 233.0, 79.0, 51.0, 46.0, 79.0, 64.0, 107.0, 67.0, 47.0, 76.0, 90.0, 35.0, 26.0, 21.0, 20.0, 22.0, 50.0, 42.0, 49.0, 22.0, 14.0, 14.0, 29.0, 14.0, 63.0, 15.0, 20.0, 10.0, 97.1918235125078, 57.92183978983961, 42.318168497256075, 42.20125851099697, 41.3404287643313, 39.214579521842374, 56.792851857791675, 37.747980166764776, 59.80661378260404, 34.73680799607415, 34.14638227840693, 33.43618314378752, 33.19245396765215, 33.039630164494795, 33.029319573568074, 143.90715515500239, 31.973322986606558, 31.68776761358612, 30.13867543440715, 29.593451973808257, 29.551938650603987, 29.438272151622574, 28.518830500129777, 33.99705167093552, 27.860462606619702, 63.72751792155679, 26.55321335833743, 26.190811699569885, 38.15366854059646, 25.61198002517165, 61.10633561173726, 31.330306837010895, 194.58586468006794, 66.0241621919182, 110.53359434051968, 42.21187104529275, 40.86530666204764, 51.409022975009044, 60.78594261485788, 51.45934517112864, 329.7930847207744, 78.62588837985814, 84.26665360972186, 54.76431329190312, 70.22041937593987, 156.56730131305616, 36.636631261834765, 41.08560286445585, 124.11498353417414, 50.22113350178025, 37.91342442440535, 10.301361250122516, 7.510233228712643, 7.385277404823073, 7.308304336567978, 5.80942266411639, 5.637661653396114, 5.374775717717635, 4.854488178468082, 4.798238583045312, 4.724862597126955, 4.416711902623994, 4.307129167351827, 4.238066245354953, 4.231319194908152, 4.156699840041013, 4.074810197223104, 4.0599279719769665, 4.036167489571666, 3.802539052839265, 3.6538331629243284, 3.3019790566975016, 3.277630281098424, 3.247630791569947, 3.1424079559252585, 3.129823518873061, 3.066402178240999, 3.026128599503853, 2.956297434481168, 2.8961457818834386, 4.406587859516636, 6.61765489681806, 4.057072458418918, 7.822946490061288, 8.75397632098371, 8.124173655015955, 8.214151292160944, 93.53147287487532, 16.21807644895732, 11.545007022067491, 72.13041061630844, 27.90817609378536, 11.528878892369288, 74.67523533156651, 22.586356184528444, 15.319032163379958, 16.459539099244694, 7.307787979412543, 20.46323216488876, 8.578705196470192, 5.17016596820607, 11.508434755859737, 8.46140978815532, 10.912436430650907, 9.39906068220609, 12.155214943804486, 7.873325721780565, 10.987029228438443, 7.60108592930823, 7.280621675860413, 7.520572926677621, 7.401294335242626, 50.26528585815061, 12.57932890784114, 6.9862174639377566, 6.8747658738410085, 6.713667849336842, 6.699647655848274, 6.26419319399397, 6.143094853902223, 5.0076253042862025, 6.203101898070431, 4.79539960070294, 4.3424880287020855, 4.308136324527463, 4.295205927574542, 4.192216413509459, 6.860289900184043, 3.9911522223628833, 3.8722629626934646, 3.8544354909619187, 3.8242362934727736, 3.818843929381806, 3.694945772906157, 3.663016645622736, 3.5755921993151314, 3.5393462147751773, 3.53224631188209, 3.4804862698526993, 3.461352256565276, 3.451794850226464, 3.4362319290993804, 14.512716750838472, 8.696555395066753, 32.54885177549444, 8.382913646815263, 9.98307147686576, 24.79510223148421, 6.021210596696911, 5.543170226452404, 5.077214282298413, 20.092012607056557, 12.279887951752368, 6.421420799869586, 4.6756451939936, 5.232372595501838, 6.351909821824952, 5.904795838856548, 4.979126749109407, 5.836614771001356, 5.976886079797427, 5.072113816199432, 8.836056634412445, 5.85998904043043, 5.421269063641087, 3.751788823222941, 3.7517888204695704, 3.716910044988987, 3.4870408088829468, 3.0881260024799553, 2.986294722410057, 2.794815574917612, 2.772581695206467, 2.6853785941011763, 2.597074879971091, 2.579417590987104, 2.534462070926198, 2.5136891134934576, 2.3964900026094296, 2.2775946701330434, 2.272774558574171, 2.208288166041949, 2.2058368091657337, 2.121692277448991, 2.112946229273416, 2.0182957864384767, 1.9741811166457757, 1.967644389849269, 1.9363109291236213, 1.8440115596545321, 1.843998442591014, 1.8226390874931642, 38.190339937907716, 5.3597571517271225, 3.48008899576846, 2.2407456076433228, 2.0255057507877687, 10.414186689285424, 10.076779090985948, 9.938639875075447, 9.356154952141546, 5.623470963785169, 5.0275626912600355, 4.833387931939897, 4.465828160431982, 4.285070166391543, 4.241728779323416, 2.3365579298301213, 10.854082990020247, 2.2560846221083977, 2.2354324386037376, 2.2068566071340885, 2.0136497307499286, 10.551627489838516, 1.9080473664276232, 1.726065059357626, 1.6240167615232877, 1.5820597350925463, 9.474865391396971, 1.5337469236360737, 1.53118904321638, 1.5096406830322273, 1.3860107328360116, 2.3297374571228144, 1.3839591789861831, 1.3703390132482947, 1.352403281425221, 6.6661583535248115, 3.6391632086591517, 5.854967082097664, 11.454424183299771, 8.53582893782414, 3.8672885094427376, 7.322906255294633, 4.19127032957324, 8.905049546845285, 8.637840244580884, 9.516907785656457, 5.756103775645358, 6.306694440525278, 4.297666671480413, 3.804853799911498, 3.44435287436893, 3.2624462634705282, 3.201806428720634, 3.071604086764536, 2.883530003961953, 2.4878316030900134, 2.4685023216097264, 2.454842016136425, 2.3863139969344895, 2.3221094053302713, 2.288781028755637, 2.276814430076837, 2.259045067207375, 2.256263627103754, 2.248659947600785, 2.236644596446368, 2.212273630796732, 1.9855411253173134, 1.9187814644227053, 1.8967788896933238, 3.8311208137257804, 1.8503792903151157, 1.7781836901683252, 1.751828097747617, 1.7268990524774381, 1.6215022664492382, 1.6131597018114234, 1.5891981105088333, 1.560492031402756, 2.6507986899137523, 2.9820326608156544, 2.1590920988641096, 1.7217597768920228, 2.1759763174943125, 2.5843959376223014, 1.7557615388378967, 6.12309560770343, 3.5195050290485153, 3.365243087418685, 3.147648371083044, 3.041243351964659, 2.7457211017478067, 2.596477359591344, 2.596477359583068, 2.4373419015377746, 2.437341901252018, 2.278905886865012, 2.2350844492017328, 2.0020791984659496, 1.9499748008746, 1.8608980332803247, 1.8058724006681788, 1.6248283054156358, 1.5226754831099998, 1.4009612666385658, 1.363457055466561, 1.330107727659154, 1.3221774603235152, 1.3198937884382635, 1.3169658261540482, 1.310227679631211, 1.3013043608382449, 1.3013043608306718, 1.256374055873006, 1.238272973212668, 1.2331849050927568, 2.8055269194810184, 4.539668592755824, 1.9111664967359714, 4.800131001713111, 2.8364959663554474, 1.9520982103718547, 1.3653752795152077, 1.3310982088275558, 7.311588261975688, 4.972381366917828, 3.307598276976069, 2.8548704743589446, 2.735784190928439, 2.7274633235779313, 2.599360760722005, 2.5558395236033755, 2.3144399712871477, 2.1633203682777316, 2.0778578231953118, 1.9461126254107808, 1.7763663710666273, 1.7622131052269745, 4.708019730569157, 1.4931330946846288, 1.4260451980177693, 1.4086385929003478, 1.387708288748982, 1.3410976862615394, 1.298718061233602, 1.2082289158424282, 1.1280476015768612, 1.1179673519263604, 1.1037963444260699, 1.0873456599668643, 1.0583589002142468, 1.0545298443105833, 1.04719388984842, 0.9763809434670064, 4.866933406617167, 2.575764758779766, 4.628338801105262, 4.929622414973661, 1.3863355365386028, 2.821473089327814, 4.262281534235696, 2.32696644644974, 3.0750574714609114, 1.8031561574115653, 1.5549249917635786, 1.4923607635512375, 9.61242956305893, 6.157694679847723, 5.572658407557666, 3.9356639967831564, 3.260778796571724, 2.8372106988673456, 2.1984361029699397, 2.111183912411701, 2.108881324876078, 3.578708911839088, 1.6495840732877638, 1.5318609473718068, 1.527702385194595, 1.4619805956386538, 1.4568357075658644, 1.453116782742908, 1.4509416210136656, 1.4167644340995185, 1.3697685271627664, 1.2707326249814925, 1.223250634205091, 1.2230268735298744, 1.1862286632444041, 1.170990534496784, 1.1563116475964337, 1.1128886166293812, 1.1011058632158424, 1.0947032900682767, 1.0917492224215763, 1.0584641516199171, 2.2746793735576016, 2.129966830862035, 2.2328631318246175, 1.8496211963192213, 5.4453776210874985, 5.354133297406109, 4.83849587290176, 2.7840391216115057, 2.7382515588271445, 2.5445031432861467, 2.1020418307620674, 1.9925174162026185, 1.8254380512023147, 1.6291178450745076, 1.543773894170468, 1.4904321803792175, 1.4426528097355493, 1.2604136835293178, 1.2584234533320477, 1.2541869617230679, 1.2206701805663798, 1.1278268799418418, 1.118539669039507, 1.104046986924694, 1.089064780108974, 1.0473803194869125, 1.0305429382936284, 1.0223466500655323, 1.021190212666909, 1.0104212585905112, 1.0087158197950947, 0.9837574746242367, 0.9812444563675193, 0.976098188108773, 5.093810710712646, 1.2438593539171288, 1.1301013234660098, 1.011307465038801, 7.147517799760414, 7.147517796325532, 6.002858848219394, 3.9722214075125066, 2.9068460453769442, 2.8586647085989196, 2.8243489445149135, 2.2369386622844742, 2.193925309480172, 1.830131155076393, 1.8167680114635567, 1.7850105150548259, 1.7099118541360845, 1.5129418559002024, 1.3743551450833744, 1.3688440562540993, 1.3027380571342764, 1.1976059346788162, 1.1553416485947396, 1.1233129665001527, 1.071245675819607, 1.065355170686026, 1.0238021158133015, 0.9824973723171461, 0.8885302739122742, 0.88468143430416, 0.878470232312651, 0.8330615688807251, 0.8116094998020901, 0.7957654971591581, 0.9502685078445546, 6.554319074943229, 6.03251185982789, 4.395012806940157, 3.420383893481607, 2.991204627028422, 2.5381473536135495, 2.4179975091244423, 1.9710587238440533, 1.8311537804709785, 1.507712431918725, 1.4723523214070842, 1.454150637355955, 1.26264075969696, 1.1534882423615842, 1.1166153610761862, 1.0949353055752986, 1.059599638333716, 1.0374521507376095, 1.0114025544830507, 0.9927641313970051, 3.9584449395083032, 0.9621621998672575, 0.9517754131951988, 0.9400736480233268, 0.8683086473107022, 0.857222388972863, 0.845621732160865, 0.83713935195129, 0.812482445185906, 0.7987605853871768, 1.6688013847982146, 1.212468874181688, 4.278540349181122, 2.175585095061748, 1.9104429323378675, 1.882155189919957, 1.866971210835841, 1.8294124616673766, 1.5483557779972066, 1.5416659499853351, 1.5411170431849834, 1.4895017289458312, 1.465687085675441, 1.3873900629358014, 1.3342127473924048, 1.2765804074024854, 1.2344340503616875, 1.2342169236457012, 1.0807668135091901, 1.0737141791105214, 1.073122070660856, 1.0533625938528992, 1.0405340890881032, 1.0151868000386965, 0.9827977466043486, 0.9440638588192646, 0.9409065826677677, 0.9318361991023473, 0.910603274521739, 0.9044233392771259, 0.9044233382367292, 0.8867420707215934, 3.3067637449749254, 1.4762961172577063, 2.802554965769447, 2.736471565051521, 2.391668653964972, 2.312064286356493, 2.210806710507826, 5.271607623472699, 1.7857523241547577, 1.7481325447160758, 1.4970647728948667, 1.4422251766389225, 1.3650774112330244, 1.3286101297467756, 1.2892897352420896, 1.2634259377264365, 1.1499850464409014, 1.1246182297053569, 1.1111479629052763, 1.0588049869868028, 1.0507249280136897, 0.9734977879467049, 0.9636221532004257, 0.9469950747750655, 0.9343368317229432, 0.9084740265282383, 0.8966702121091062, 0.8592336837345648, 0.8112652961856767, 0.8018090686677515, 0.7779220091618136, 0.7779220091382839, 1.0484788965852225, 0.979125148477672, 5.4231554678213385, 4.073699499159352, 4.0048290343465105, 2.774820156312453, 2.1963654110888666, 1.831080607936659, 1.779969927899724, 1.6159736517357624, 1.3118028966447461, 1.300675577960963, 1.285627644122889, 1.230171343941653, 1.142120207848541, 2.807249726427556, 1.063280051125398, 1.0161359561764802, 1.0035031962704928, 0.983944908809493, 0.9554263115819388, 0.8711568404522371, 0.8575412563882252, 0.8239385323608431, 0.7947834832693816, 0.741348282862057, 0.7380121652313407, 0.7341795122660677, 0.7320916403001486, 0.6966451982847915, 0.6860183197097853, 2.357957629867038, 0.9345806939256934, 4.260774413781138, 4.260774413805957, 4.260774413785829, 3.525031063508045, 3.014938758025018, 2.741764839306742, 2.4639966256929484, 2.4487907939438154, 2.2210793958647845, 2.0809511442764412, 1.9966921210038886, 1.388915441107119, 1.2495180515716537, 1.2068707700822894, 1.206870770045204, 1.0944709883990271, 0.9281013897535187, 0.8451181487672881, 0.8450589910396067, 0.8133347568932032, 0.7934791550654112, 0.7684181410873415, 0.7510767502724444, 1.2960998351837647, 0.700657198652117, 0.6519663217920985, 0.6032084641837983, 0.5713328166472048, 0.5713328166131757, 0.5713328166106534, 0.5713328166120978, 1.1458586582822126, 2.9421451914883803, 1.9196857332024355, 1.7466720004648333, 1.557126601501513, 1.4830367249683636, 1.448993418573328, 1.3801096157594812, 1.3654657728658959, 1.3549229486815315, 1.3454927189182635, 1.242052285942339, 1.2064638583724583, 1.1500665740679281, 1.1441679111699001, 1.0733026027825756, 1.0353140375052419, 1.0213422003365848, 0.9948312254414696, 0.9948312247975986, 0.9884814410642072, 0.971082740015347, 0.950775439507516, 0.94076012461837, 0.8813532217121127, 0.8531350510582677, 0.8531350510335044, 0.8342766160415941, 0.7564771939431487, 0.7331069242147522, 0.7087607797632192, 4.543726847635291, 2.5805719005494034, 2.1241948460286455, 2.1063063706969394, 1.8035473800969697, 1.754105610583776, 1.7177327167384737, 1.7140423804700762, 1.6843135726067704, 1.683148718765403, 1.169040231656543, 1.1102530533896846, 1.0593817639959016, 1.0583989325390128, 0.9582645544747584, 0.8931775892939683, 0.8424044293323512, 0.8385550444996964, 0.8311676963166541, 0.8057837525032353, 0.7757976428288689, 0.726570083395943, 0.7148663299139514, 0.7023028860984288, 0.6483138631142463, 0.6237096189210912, 0.606848211671532, 0.47845858202943353, 0.47720673852852163, 0.8102518160288131, 1.079739801471963, 0.6561420365736341, 1.675260717443354, 4.6976026562841415, 1.50678649719669, 1.3505215106769741, 1.2438635058474596, 1.1505097442821612, 1.1262298523527488, 1.0873043496987316, 1.01052423536014, 0.9420180770469943, 0.8937789453438126, 0.8933099370711194, 0.8643117498181782, 0.8175149944832985, 0.779429318421147, 0.7612397719410633, 0.6821040304014567, 0.6461739337752928, 0.602947241944241, 1.7348511531595623, 0.31346632244584305, 0.30833357916738696, 0.04250485886613096, 0.042504858861479325, 0.042504858863758876, 0.04250485886416626, 0.04250485886196914, 0.04250485885684167, 0.0425048588674729, 0.0425048588712732, 0.042504858869958896, 0.042504882540393335, 0.04250488190044111, 0.04250488009717635, 0.04250487007334043, 0.042504869190072604, 0.04250486817587195, 0.04250486679613031, 0.04250486672967545, 0.042504866521658344, 1.584778864833147, 1.5029260050284774, 1.24619412487248, 2.392204623906311, 0.9186160490276494, 0.8758367285169356, 0.8120692179557001, 0.716312478979505, 0.45923561693863246, 0.4592356169165253, 0.459235616880893, 0.4592356168434783, 0.4592356168250153, 0.4592356168221503, 0.459235616788884, 0.45923561669587704, 0.45923561622604187, 0.04263450583076253, 0.04263450581744594, 0.042634505828640736, 0.04263450582721955, 0.04263450582521623, 0.04263450582382296, 0.04263450583443932, 0.04263450584107533, 0.042634505830331605, 0.04263450582765684, 0.0426345058200888, 0.04263450584485136, 0.042634505836786456, 0.04263457336837955, 0.04263454523777603, 0.04263452658783181, 0.042634518445549364, 0.04263451635273783, 0.04263451127929638, 0.04263451045302456, 0.04263451032056391, 0.042634509831825505, 0.04263450957267346, 0.04263450931476968, 0.04263450927266859, 0.04263450886460346], \"Total\": [267.0, 442.0, 233.0, 79.0, 51.0, 46.0, 79.0, 64.0, 107.0, 67.0, 47.0, 76.0, 90.0, 35.0, 26.0, 21.0, 20.0, 22.0, 50.0, 42.0, 49.0, 22.0, 14.0, 14.0, 29.0, 14.0, 63.0, 15.0, 20.0, 10.0, 97.97678286383298, 58.70679863125433, 43.10312734331477, 42.9862173545881, 42.12538760479291, 39.999538364453045, 57.94912686651802, 38.532939014342816, 61.15200277761515, 35.521766859204185, 34.93134112095252, 34.22114198937373, 33.97741280804959, 33.82458901186647, 33.81427841719122, 147.34169473926545, 32.75828189086873, 32.47272645532991, 30.923634275782995, 30.37841081511909, 30.33689749115739, 30.223230992731803, 29.303789343903272, 34.950171237963225, 28.6454215047381, 65.59594835648372, 27.338172211277417, 26.97577054274425, 39.31314030966152, 26.396938866079456, 63.28696470813971, 32.29846403905151, 204.68094194853174, 69.2040105482648, 119.60379592785762, 44.22055721648744, 42.8020042390474, 54.95548426796419, 65.8635391149862, 55.07672895839798, 442.4575817118128, 89.9073536022045, 107.86601485292678, 64.25247790589688, 90.68817673622925, 267.34300412623566, 38.683397695229075, 45.292943709164305, 233.56581468294883, 76.35680445286485, 49.572816998574034, 11.086163774000179, 8.295035751127934, 8.170079955903054, 8.0931068619324, 6.5942251855415925, 6.422464173881898, 6.159578241985507, 5.639290705357965, 5.583041106385717, 5.509665131147314, 5.201514428604457, 5.091931717872013, 5.022868774857797, 5.016121718031673, 4.94150236412366, 4.859612746994611, 4.844730497421121, 4.820970010735599, 4.5874215431826295, 4.438635693994112, 4.086781581601976, 4.062432805927894, 4.032433311732475, 3.9272104794227003, 3.9146260825641863, 3.851204698575634, 3.8109311231040675, 3.7410999569849523, 3.6809483036073396, 5.6152403171284275, 8.682118549591449, 5.235498194765826, 10.556205919014948, 12.05902334872022, 11.868390669095648, 12.181077775243075, 267.34300412623566, 29.985781930487246, 20.619416039854553, 233.56581468294883, 67.14183509675254, 22.01336727275714, 442.4575817118128, 76.35680445286485, 42.05357873859618, 47.571658003069835, 13.245275812612334, 107.86601485292678, 20.918359932203103, 7.774435280126415, 50.04852865891234, 25.98733306937357, 49.572816998574034, 34.258870495878874, 79.59189250386356, 24.00842882702161, 90.68817673622925, 22.57834955095272, 20.184377544960263, 33.5588644796087, 119.60379592785762, 51.04969899057379, 13.36374187606446, 7.770630447358195, 7.659178845364743, 7.498080823345657, 7.484060624985346, 7.04860616209688, 6.927507825910194, 5.79203827951942, 7.207238325923654, 5.579812571782084, 5.126900998857867, 5.092549296052082, 5.079618905534632, 4.976629382307767, 8.145786251193497, 4.775565192577818, 4.65667593692622, 4.638848466109539, 4.608649266571861, 4.603256901096079, 4.479358746583356, 4.447429630340945, 4.360005167996569, 4.323759188522311, 4.316659281542096, 4.264899240209911, 4.245765236492108, 4.236207818364799, 4.220644898323867, 19.229432787022244, 11.771973920563072, 79.59189250386356, 16.90420775776443, 22.408065652469755, 233.56581468294883, 12.821826065258945, 11.688683323753303, 10.098767652214777, 442.4575817118128, 267.34300412623566, 27.814127644665444, 9.401561483573925, 15.060351747796481, 37.979543218500545, 50.04852865891234, 15.276912548283564, 67.14183509675254, 90.68817673622925, 22.090403036800804, 9.619613284853399, 6.643545689085158, 6.2048257153388695, 4.535345472003149, 4.535345471910078, 4.50046669254123, 4.270597458902242, 3.871682651763412, 3.7698513717770767, 3.5783722310297845, 3.5561383437535246, 3.4689352440910284, 3.3806315281585717, 3.362974238820991, 3.3180187230899976, 3.2972457643573634, 3.1800466511446217, 3.061151318407766, 3.05633120980083, 2.9918448172878067, 2.9893934632343697, 2.9052489287917855, 2.896502878477444, 2.8018524482492975, 2.757737765118592, 2.751201037662979, 2.719867578734691, 2.627568210219474, 2.6275551082774777, 2.6061957353980203, 79.38661538976892, 10.426136403874946, 8.262000501894098, 4.429635940968317, 6.201939041488603, 11.1951035665267, 10.85769596237197, 10.719556745306287, 10.137071821917273, 6.404387842127992, 5.808479569533372, 5.614304817554357, 5.246745030267613, 5.065987036220189, 5.022645649159269, 3.1174748011168325, 14.503443059653613, 3.037001494609494, 3.0163493127472236, 2.987773477316891, 2.7945666052744444, 14.840584073187674, 2.68896423622868, 2.506981930811047, 2.404933635532243, 2.3629766088556514, 14.175197885633617, 2.3146637948230704, 2.312105914519491, 2.29055755444765, 2.166927605598576, 3.643367239290786, 2.164876050537429, 2.151255883114147, 2.1333201532519883, 10.696422730737442, 5.840414166203918, 10.064229260544883, 21.395019001808496, 20.501708349508547, 7.8467889281224865, 26.964617570874335, 12.391094347437734, 47.571658003069835, 46.225321992986345, 233.56581468294883, 64.25247790589688, 442.4575817118128, 267.34300412623566, 4.5871128037200535, 4.226611878862242, 4.044705266731328, 3.984065431481767, 3.853863090030533, 3.6657890067942125, 3.270090605990982, 3.250761323324475, 3.2371010183384095, 3.16857299973504, 3.10436841194959, 3.071040036008282, 3.0590734609285395, 3.04130406954371, 3.0385226338408127, 3.030918950532371, 3.0189035981157533, 2.9945326331464144, 2.7678001291473056, 2.7010404674575357, 2.6790378918955176, 5.446586311717907, 2.6326383088800576, 2.560442691881338, 2.534087104627361, 2.5091580555748987, 2.4037612729769156, 2.395418707317611, 2.3714571182499102, 2.3427513115542293, 5.474270124297521, 8.011560669355623, 4.863530219813331, 2.9218474335136446, 7.183495944260353, 14.26887828994138, 3.5052632529341285, 6.904683299753651, 4.301092723218943, 4.146830780282101, 3.9292360610357013, 3.8228310422164475, 3.5273087952864173, 3.378065049126732, 3.3780650491454076, 3.2189295914744727, 3.218929591468911, 3.0604935767228145, 3.0166721469271076, 2.7836668895361374, 2.7315624913945236, 2.6424857241390294, 2.5874600906482295, 2.4064159976972457, 2.3042631737655213, 2.1825489564477913, 2.145044745172597, 2.111695420391572, 2.1037651517050615, 2.101481479576743, 2.0985535158213193, 2.0918153770541448, 2.082892050430678, 2.082892050436882, 2.0379617455325807, 2.019860668333886, 2.0147725968209325, 5.879143239981638, 35.02015292002433, 6.111140359138381, 79.38661538976892, 90.68817673622925, 19.37906415670818, 3.782664599608349, 442.4575817118128, 8.092482637213964, 5.753275689662467, 4.08849259847458, 3.6357647950086234, 3.5166785119109303, 3.508357646490596, 3.3802550823475497, 3.336733845319844, 3.0953342922199045, 2.944214692244007, 2.8587521442204356, 2.72700694810773, 2.5572606926674775, 2.5431074295511804, 6.892654682567746, 2.274027435133544, 2.2069395187929812, 2.189532932710396, 2.1686026115025117, 2.1219920077618877, 2.0796123820686394, 1.9891232389368914, 1.9089419222567536, 1.8988616756241818, 1.8846906704852935, 1.868239981353089, 1.8392532211922297, 1.8354241667896556, 1.828088211890979, 1.757275264450168, 9.864542254794696, 5.283460061498307, 11.996835525316971, 15.741835515943654, 2.717158848156378, 8.802603946786393, 22.01336727275714, 9.176983941341287, 20.515309718517315, 7.3796512000765455, 7.982336250300083, 50.04852865891234, 10.39421826688352, 6.939483383805522, 6.35444711985118, 4.717452734945947, 4.042567499791384, 3.618999402250587, 2.9802248074084763, 2.892972616452703, 2.890670029873135, 5.0794694209496685, 2.431372779712017, 2.313649653728412, 2.3094910884372717, 2.2437693014520788, 2.238624411532358, 2.2349054861332482, 2.2327303248794053, 2.198553137136828, 2.151557230923812, 2.052521328047283, 2.0050393376045776, 2.0048155770553864, 1.9680173665197946, 1.952779247160939, 1.9381003558864975, 1.894677321381171, 1.8828945666098282, 1.8764919992191325, 1.873537926731185, 1.8402528553858692, 5.518153151579823, 5.655525150168482, 6.721671839526364, 442.4575817118128, 6.226031039129176, 6.134786839052904, 5.6191492889448105, 3.564692533534665, 3.5189049685991636, 3.325156553397082, 2.882695241787623, 2.773170826886635, 2.6060914593472684, 2.409771253317497, 2.324427314162894, 2.2710855914766443, 2.2233062187762154, 2.0410670921533356, 2.039076861934933, 2.034840371805227, 2.0013235888002723, 1.9084802888048888, 1.8991930790245692, 1.8847003962274893, 1.869718188630295, 1.828033727847214, 1.811196352280016, 1.8030000690824846, 1.8018436211053657, 1.791074667298691, 1.7893692285022293, 1.7644108846734825, 1.76189786905658, 1.756751596228375, 9.702680222162531, 3.0308367459863206, 2.597444883843848, 3.090781099118974, 7.928783007781388, 7.928783007469714, 6.784124017089278, 4.753486558905216, 3.688111179787465, 3.6399298439848304, 3.6056140786942628, 3.021108844619219, 2.9751904446097073, 2.611396296643924, 2.598033144234269, 2.566275647925522, 2.491176988358218, 2.294206994168698, 2.155620284804563, 2.1501091897691533, 2.084003190330029, 1.9788710712687019, 1.9366067813229904, 1.904578101424545, 1.852510813008913, 1.8466203038175113, 1.80506725059623, 1.7637625057690467, 1.669795411998548, 1.6659465678526924, 1.659735365311621, 1.6143267018347591, 1.5928746328627041, 1.5770306304444266, 79.59189250386356, 7.33523582802955, 6.813428611662404, 5.175929558564766, 4.2013006456925694, 3.7721213786008883, 3.3190641052168264, 3.1989142616994766, 2.7626312652248113, 2.612070532837834, 2.2886291849994267, 2.2532690741670747, 2.2350673888233326, 2.0435575114477227, 1.93440500392727, 1.8975321183716731, 1.8758520569967523, 1.840516391791648, 1.818368905182258, 1.7923193093682628, 1.773680883177172, 7.096229912834407, 1.7430789525485033, 1.7326921664972947, 1.720990399526973, 1.6492253999087967, 1.6381391409215218, 1.6265384845041861, 1.6180561044341524, 1.5933991969454695, 1.5796773385162945, 4.185029163101413, 6.819628694887707, 5.059411865887699, 2.9564562750265906, 2.6913141203493107, 2.663026372127918, 2.647842394996619, 2.6102836458982765, 2.3292269579108402, 2.3225371298527473, 2.321988226127654, 2.2703729096539345, 2.2465582685361496, 2.1682612454590147, 2.115083927173894, 2.057451587558293, 2.015305230748145, 2.0150881054089127, 1.8616379948143784, 1.8545853608471508, 1.8539932510614403, 1.8342337767967463, 1.8214052741758509, 1.7960580226772405, 1.7636689265433767, 1.7249350387625293, 1.7217777644670273, 1.7127073792759377, 1.6914744544323679, 1.6852945234572123, 1.6852945233106642, 1.6676132511710924, 22.18829765776142, 6.609739198913359, 3.5833524978368487, 3.5172691033422243, 3.172466190416119, 3.09286182027374, 2.991604245932387, 7.535569051543119, 2.5665498552141464, 2.528930077852855, 2.2778623042166264, 2.223022726941904, 2.145874945061317, 2.109407663073035, 2.070087269423071, 2.044223471208391, 1.930782577410096, 1.9054157609502267, 1.891945496444668, 1.8396025181767919, 1.8315224598314144, 1.7542953199433182, 1.7444196847185613, 1.727792609315771, 1.715135402887155, 1.689271558073775, 1.6774677446979687, 1.6400312156833958, 1.5920628308562952, 1.5826066002010066, 1.5587195408712342, 1.5587195408846664, 9.281035042167902, 14.536923869009916, 6.204050691170245, 4.854594691282563, 4.785724243507598, 3.5557153431973743, 2.977260599620669, 2.6119757954515728, 2.5608651303801984, 2.3968688384084036, 2.0926980835016082, 2.081570765064007, 2.0665228324666463, 2.011066530639468, 1.923015394236244, 4.7485314415497175, 1.8441752379684464, 1.7970311443672686, 1.7843983844684383, 1.7648400963704793, 1.7363214989873814, 1.652052027455692, 1.638436458039482, 1.6048337199262679, 1.5756786715589037, 1.5222434719943254, 1.5189073522047936, 1.5150746999230948, 1.5129868280402836, 1.4775403846518431, 1.4669135065758132, 5.0422953690814785, 7.604035114840537, 5.041599300717353, 5.041599300793577, 5.041599300771483, 4.3058559505280565, 3.795763645040313, 3.522589739569973, 3.244821517005742, 3.2296156801063938, 3.0019042814958867, 2.861776032868021, 2.777517011502252, 2.16974032737977, 2.030342937720259, 1.9876956563402701, 1.9876956563009078, 1.875295874259471, 1.708926274956056, 1.6259430344267778, 1.6258838771757396, 1.5941596443678618, 1.5743042624987076, 1.549243028794965, 1.5319016358414639, 2.7345257363830417, 1.4814820955360002, 1.4327912123303732, 1.3840333502671087, 1.3521577018761126, 1.352157701850361, 1.3521577018595348, 1.352157701875393, 233.56581468294883, 3.722758550939643, 2.7002990923427164, 2.5272853589620055, 2.3377399628185267, 2.2636500861839757, 2.2296067789939324, 2.1607229743542167, 2.146079132655879, 2.1355363077760043, 2.1261060838203067, 2.022665645087687, 1.9870772183891814, 1.9306799324857167, 1.9247812703696645, 1.853915961522909, 1.815927398347386, 1.801955563387852, 1.7754455196699634, 1.7754455195796603, 1.7690948003160123, 1.751696098501791, 1.7313887986178538, 1.7213734850569284, 1.6619665801456562, 1.6337484099651907, 1.6337484099379989, 1.6148899747869867, 1.5370905540600845, 1.5137202848498044, 1.4893741400614178, 5.324541537532536, 3.361386590514875, 2.905009537457425, 2.88712105989457, 2.5843620701009233, 2.5349203000586007, 2.498547406202882, 2.494857069922785, 2.4651282612055425, 2.463963407398441, 1.9498549214290783, 1.891067742102617, 1.8401964590441553, 1.8392136225998728, 1.7390792448121726, 1.6739922801183662, 1.623219119139817, 1.619369733595139, 1.611982385424863, 1.586598442439823, 1.556612332127979, 1.507384774556611, 1.4956810323911438, 1.4831175855191425, 1.4291285639119058, 1.404524310257893, 1.38766290419428, 1.259273273208819, 1.2580214300699626, 2.1633562258925805, 3.7624970406431584, 2.5501082183950565, 442.4575817118128, 5.477903110800681, 2.2870869526513182, 2.1308219677540507, 2.024163960413625, 1.9308102025617748, 1.906530306897367, 1.8676048057046197, 1.7908246901309992, 1.7223185329046726, 1.6740794012297182, 1.6736103912368874, 1.644612205029893, 1.5978154505161861, 1.5597297731645052, 1.5415402267636849, 1.4624044862200603, 1.4264743879342603, 1.3832477038801971, 5.897569207211014, 1.2831652982068316, 1.404593693717014, 1.0804280985940675, 1.080428098789312, 1.0892460259365409, 1.108359001936702, 1.1083590019570895, 1.1095472189458597, 1.1174072715732948, 1.1186240730983765, 1.1186240731077297, 1.5721527908954014, 1.2751551420784315, 1.5486423799548839, 1.580181499902822, 1.3406246740325725, 2.5074186645215204, 1.5230385085760352, 1.3668734509810616, 3.009296965426818, 2.364949671744617, 2.2830968120989663, 2.026364932502111, 3.9113469018059277, 1.698786856259873, 1.6560075355577761, 1.5922400277506377, 1.4964832893414801, 1.239406424046967, 1.2394064240356002, 1.239406424041894, 1.2394064240011151, 1.2394064240151401, 1.2394064240320728, 1.2394064240005216, 1.239406424001308, 1.239406423952918, 1.0804280985940675, 1.080428098789312, 1.0892460259365409, 1.108359001936702, 1.1083590019570895, 1.1095472189458597, 1.1174072715732948, 1.1186240731077297, 1.1186240730983765, 1.1186240730419403, 1.120736410737817, 1.125818540086471, 1.1258185400989091, 5.587926454784527, 1.3476219034442365, 1.5299989873788045, 3.0308367459863206, 2.293439763483727, 2.7536538294385777, 1.6150423603774284, 10.426136403874946, 39.31314030966152, 1.3091609579346026, 1.7577371010639968, 13.436639882797788, 1.7238922356673514], \"Category\": [\"Default\", \"Default\", \"Default\", \"Default\", \"Default\", \"Default\", \"Default\", \"Default\", \"Default\", \"Default\", \"Default\", \"Default\", \"Default\", \"Default\", \"Default\", \"Default\", \"Default\", \"Default\", \"Default\", \"Default\", \"Default\", \"Default\", \"Default\", \"Default\", \"Default\", \"Default\", \"Default\", \"Default\", \"Default\", \"Default\", \"Topic1\", \"Topic1\", \"Topic1\", \"Topic1\", \"Topic1\", \"Topic1\", \"Topic1\", \"Topic1\", \"Topic1\", \"Topic1\", \"Topic1\", \"Topic1\", \"Topic1\", \"Topic1\", \"Topic1\", \"Topic1\", \"Topic1\", \"Topic1\", \"Topic1\", \"Topic1\", \"Topic1\", \"Topic1\", \"Topic1\", \"Topic1\", \"Topic1\", \"Topic1\", \"Topic1\", \"Topic1\", \"Topic1\", \"Topic1\", \"Topic1\", \"Topic1\", \"Topic1\", \"Topic1\", \"Topic1\", \"Topic1\", \"Topic1\", \"Topic1\", \"Topic1\", \"Topic1\", \"Topic1\", \"Topic1\", \"Topic1\", \"Topic1\", \"Topic1\", \"Topic1\", \"Topic1\", \"Topic1\", \"Topic1\", \"Topic1\", \"Topic1\", \"Topic2\", \"Topic2\", \"Topic2\", \"Topic2\", \"Topic2\", \"Topic2\", \"Topic2\", \"Topic2\", \"Topic2\", \"Topic2\", \"Topic2\", \"Topic2\", \"Topic2\", \"Topic2\", \"Topic2\", \"Topic2\", \"Topic2\", \"Topic2\", \"Topic2\", \"Topic2\", \"Topic2\", \"Topic2\", \"Topic2\", \"Topic2\", \"Topic2\", \"Topic2\", \"Topic2\", \"Topic2\", \"Topic2\", \"Topic2\", \"Topic2\", \"Topic2\", \"Topic2\", \"Topic2\", \"Topic2\", \"Topic2\", \"Topic2\", \"Topic2\", \"Topic2\", \"Topic2\", \"Topic2\", \"Topic2\", \"Topic2\", \"Topic2\", \"Topic2\", \"Topic2\", \"Topic2\", \"Topic2\", \"Topic2\", \"Topic2\", \"Topic2\", \"Topic2\", \"Topic2\", \"Topic2\", \"Topic2\", \"Topic2\", \"Topic2\", \"Topic2\", \"Topic2\", \"Topic2\", \"Topic2\", \"Topic3\", \"Topic3\", \"Topic3\", \"Topic3\", \"Topic3\", \"Topic3\", \"Topic3\", \"Topic3\", \"Topic3\", \"Topic3\", \"Topic3\", \"Topic3\", \"Topic3\", \"Topic3\", \"Topic3\", \"Topic3\", \"Topic3\", \"Topic3\", \"Topic3\", \"Topic3\", \"Topic3\", \"Topic3\", \"Topic3\", \"Topic3\", \"Topic3\", \"Topic3\", \"Topic3\", \"Topic3\", \"Topic3\", \"Topic3\", \"Topic3\", \"Topic3\", \"Topic3\", \"Topic3\", \"Topic3\", \"Topic3\", \"Topic3\", \"Topic3\", \"Topic3\", \"Topic3\", \"Topic3\", \"Topic3\", \"Topic3\", \"Topic3\", \"Topic3\", \"Topic3\", \"Topic3\", \"Topic3\", \"Topic3\", \"Topic3\", \"Topic4\", \"Topic4\", \"Topic4\", \"Topic4\", \"Topic4\", \"Topic4\", \"Topic4\", \"Topic4\", \"Topic4\", \"Topic4\", \"Topic4\", \"Topic4\", \"Topic4\", \"Topic4\", \"Topic4\", \"Topic4\", \"Topic4\", \"Topic4\", \"Topic4\", \"Topic4\", \"Topic4\", \"Topic4\", \"Topic4\", \"Topic4\", \"Topic4\", \"Topic4\", \"Topic4\", \"Topic4\", \"Topic4\", \"Topic4\", \"Topic4\", \"Topic4\", \"Topic4\", \"Topic4\", \"Topic4\", \"Topic5\", \"Topic5\", \"Topic5\", \"Topic5\", \"Topic5\", \"Topic5\", \"Topic5\", \"Topic5\", \"Topic5\", \"Topic5\", \"Topic5\", \"Topic5\", \"Topic5\", \"Topic5\", \"Topic5\", \"Topic5\", \"Topic5\", \"Topic5\", \"Topic5\", \"Topic5\", \"Topic5\", \"Topic5\", \"Topic5\", \"Topic5\", \"Topic5\", \"Topic5\", \"Topic5\", \"Topic5\", \"Topic5\", \"Topic5\", \"Topic5\", \"Topic5\", \"Topic5\", \"Topic5\", \"Topic5\", \"Topic5\", \"Topic5\", \"Topic5\", \"Topic5\", \"Topic5\", \"Topic5\", \"Topic5\", \"Topic5\", \"Topic5\", \"Topic6\", \"Topic6\", \"Topic6\", \"Topic6\", \"Topic6\", \"Topic6\", \"Topic6\", \"Topic6\", \"Topic6\", \"Topic6\", \"Topic6\", \"Topic6\", \"Topic6\", \"Topic6\", \"Topic6\", \"Topic6\", \"Topic6\", \"Topic6\", \"Topic6\", \"Topic6\", \"Topic6\", \"Topic6\", \"Topic6\", \"Topic6\", \"Topic6\", \"Topic6\", \"Topic6\", \"Topic6\", \"Topic6\", \"Topic6\", \"Topic6\", \"Topic6\", \"Topic6\", \"Topic6\", \"Topic6\", \"Topic6\", \"Topic6\", \"Topic7\", \"Topic7\", \"Topic7\", \"Topic7\", \"Topic7\", \"Topic7\", \"Topic7\", \"Topic7\", \"Topic7\", \"Topic7\", \"Topic7\", \"Topic7\", \"Topic7\", \"Topic7\", \"Topic7\", \"Topic7\", \"Topic7\", \"Topic7\", \"Topic7\", \"Topic7\", \"Topic7\", \"Topic7\", \"Topic7\", \"Topic7\", \"Topic7\", \"Topic7\", \"Topic7\", \"Topic7\", \"Topic7\", \"Topic7\", \"Topic7\", \"Topic7\", \"Topic7\", \"Topic7\", \"Topic7\", \"Topic7\", \"Topic7\", \"Topic7\", \"Topic8\", \"Topic8\", \"Topic8\", \"Topic8\", \"Topic8\", \"Topic8\", \"Topic8\", \"Topic8\", \"Topic8\", \"Topic8\", \"Topic8\", \"Topic8\", \"Topic8\", \"Topic8\", \"Topic8\", \"Topic8\", \"Topic8\", \"Topic8\", \"Topic8\", \"Topic8\", \"Topic8\", \"Topic8\", \"Topic8\", \"Topic8\", \"Topic8\", \"Topic8\", \"Topic8\", \"Topic8\", \"Topic8\", \"Topic8\", \"Topic8\", \"Topic8\", \"Topic8\", \"Topic8\", \"Topic8\", \"Topic8\", \"Topic8\", \"Topic8\", \"Topic8\", \"Topic8\", \"Topic8\", \"Topic8\", \"Topic9\", \"Topic9\", \"Topic9\", \"Topic9\", \"Topic9\", \"Topic9\", \"Topic9\", \"Topic9\", \"Topic9\", \"Topic9\", \"Topic9\", \"Topic9\", \"Topic9\", \"Topic9\", \"Topic9\", \"Topic9\", \"Topic9\", \"Topic9\", \"Topic9\", \"Topic9\", \"Topic9\", \"Topic9\", \"Topic9\", \"Topic9\", \"Topic9\", \"Topic9\", \"Topic9\", \"Topic9\", \"Topic9\", \"Topic9\", \"Topic9\", \"Topic9\", \"Topic9\", \"Topic9\", \"Topic10\", \"Topic10\", \"Topic10\", \"Topic10\", \"Topic10\", \"Topic10\", \"Topic10\", \"Topic10\", \"Topic10\", \"Topic10\", \"Topic10\", \"Topic10\", \"Topic10\", \"Topic10\", \"Topic10\", \"Topic10\", \"Topic10\", \"Topic10\", \"Topic10\", \"Topic10\", \"Topic10\", \"Topic10\", \"Topic10\", \"Topic10\", \"Topic10\", \"Topic10\", \"Topic10\", \"Topic10\", \"Topic10\", \"Topic10\", \"Topic10\", \"Topic10\", \"Topic10\", \"Topic10\", \"Topic11\", \"Topic11\", \"Topic11\", \"Topic11\", \"Topic11\", \"Topic11\", \"Topic11\", \"Topic11\", \"Topic11\", \"Topic11\", \"Topic11\", \"Topic11\", \"Topic11\", \"Topic11\", \"Topic11\", \"Topic11\", \"Topic11\", \"Topic11\", \"Topic11\", \"Topic11\", \"Topic11\", \"Topic11\", \"Topic11\", \"Topic11\", \"Topic11\", \"Topic11\", \"Topic11\", \"Topic11\", \"Topic11\", \"Topic11\", \"Topic11\", \"Topic12\", \"Topic12\", \"Topic12\", \"Topic12\", \"Topic12\", \"Topic12\", \"Topic12\", \"Topic12\", \"Topic12\", \"Topic12\", \"Topic12\", \"Topic12\", \"Topic12\", \"Topic12\", \"Topic12\", \"Topic12\", \"Topic12\", \"Topic12\", \"Topic12\", \"Topic12\", \"Topic12\", \"Topic12\", \"Topic12\", \"Topic12\", \"Topic12\", \"Topic12\", \"Topic12\", \"Topic12\", \"Topic12\", \"Topic12\", \"Topic12\", \"Topic12\", \"Topic13\", \"Topic13\", \"Topic13\", \"Topic13\", \"Topic13\", \"Topic13\", \"Topic13\", \"Topic13\", \"Topic13\", \"Topic13\", \"Topic13\", \"Topic13\", \"Topic13\", \"Topic13\", \"Topic13\", \"Topic13\", \"Topic13\", \"Topic13\", \"Topic13\", \"Topic13\", \"Topic13\", \"Topic13\", \"Topic13\", \"Topic13\", \"Topic13\", \"Topic13\", \"Topic13\", \"Topic13\", \"Topic13\", \"Topic13\", \"Topic13\", \"Topic13\", \"Topic14\", \"Topic14\", \"Topic14\", \"Topic14\", \"Topic14\", \"Topic14\", \"Topic14\", \"Topic14\", \"Topic14\", \"Topic14\", \"Topic14\", \"Topic14\", \"Topic14\", \"Topic14\", \"Topic14\", \"Topic14\", \"Topic14\", \"Topic14\", \"Topic14\", \"Topic14\", \"Topic14\", \"Topic14\", \"Topic14\", \"Topic14\", \"Topic14\", \"Topic14\", \"Topic14\", \"Topic14\", \"Topic14\", \"Topic14\", \"Topic14\", \"Topic14\", \"Topic15\", \"Topic15\", \"Topic15\", \"Topic15\", \"Topic15\", \"Topic15\", \"Topic15\", \"Topic15\", \"Topic15\", \"Topic15\", \"Topic15\", \"Topic15\", \"Topic15\", \"Topic15\", \"Topic15\", \"Topic15\", \"Topic15\", \"Topic15\", \"Topic15\", \"Topic15\", \"Topic15\", \"Topic15\", \"Topic15\", \"Topic15\", \"Topic15\", \"Topic15\", \"Topic15\", \"Topic15\", \"Topic15\", \"Topic15\", \"Topic15\", \"Topic16\", \"Topic16\", \"Topic16\", \"Topic16\", \"Topic16\", \"Topic16\", \"Topic16\", \"Topic16\", \"Topic16\", \"Topic16\", \"Topic16\", \"Topic16\", \"Topic16\", \"Topic16\", \"Topic16\", \"Topic16\", \"Topic16\", \"Topic16\", \"Topic16\", \"Topic16\", \"Topic16\", \"Topic16\", \"Topic16\", \"Topic16\", \"Topic16\", \"Topic16\", \"Topic16\", \"Topic16\", \"Topic16\", \"Topic16\", \"Topic16\", \"Topic16\", \"Topic17\", \"Topic17\", \"Topic17\", \"Topic17\", \"Topic17\", \"Topic17\", \"Topic17\", \"Topic17\", \"Topic17\", \"Topic17\", \"Topic17\", \"Topic17\", \"Topic17\", \"Topic17\", \"Topic17\", \"Topic17\", \"Topic17\", \"Topic17\", \"Topic17\", \"Topic17\", \"Topic17\", \"Topic17\", \"Topic17\", \"Topic17\", \"Topic17\", \"Topic17\", \"Topic17\", \"Topic17\", \"Topic17\", \"Topic17\", \"Topic18\", \"Topic18\", \"Topic18\", \"Topic18\", \"Topic18\", \"Topic18\", \"Topic18\", \"Topic18\", \"Topic18\", \"Topic18\", \"Topic18\", \"Topic18\", \"Topic18\", \"Topic18\", \"Topic18\", \"Topic18\", \"Topic18\", \"Topic18\", \"Topic18\", \"Topic18\", \"Topic18\", \"Topic18\", \"Topic18\", \"Topic18\", \"Topic18\", \"Topic18\", \"Topic18\", \"Topic18\", \"Topic18\", \"Topic18\", \"Topic18\", \"Topic18\", \"Topic18\", \"Topic19\", \"Topic19\", \"Topic19\", \"Topic19\", \"Topic19\", \"Topic19\", \"Topic19\", \"Topic19\", \"Topic19\", \"Topic19\", \"Topic19\", \"Topic19\", \"Topic19\", \"Topic19\", \"Topic19\", \"Topic19\", \"Topic19\", \"Topic19\", \"Topic19\", \"Topic19\", \"Topic19\", \"Topic19\", \"Topic19\", \"Topic19\", \"Topic19\", \"Topic19\", \"Topic19\", \"Topic19\", \"Topic19\", \"Topic19\", \"Topic19\", \"Topic19\", \"Topic19\", \"Topic19\", \"Topic19\", \"Topic19\", \"Topic19\", \"Topic19\", \"Topic19\", \"Topic20\", \"Topic20\", \"Topic20\", \"Topic20\", \"Topic20\", \"Topic20\", \"Topic20\", \"Topic20\", \"Topic20\", \"Topic20\", \"Topic20\", \"Topic20\", \"Topic20\", \"Topic20\", \"Topic20\", \"Topic20\", \"Topic20\", \"Topic20\", \"Topic20\", \"Topic20\", \"Topic20\", \"Topic20\", \"Topic20\", \"Topic20\", \"Topic20\", \"Topic20\", \"Topic20\", \"Topic20\", \"Topic20\", \"Topic20\", \"Topic20\", \"Topic20\", \"Topic20\", \"Topic20\", \"Topic20\", \"Topic20\", \"Topic20\", \"Topic20\", \"Topic20\", \"Topic20\", \"Topic20\", \"Topic20\", \"Topic20\"], \"logprob\": [30.0, 29.0, 28.0, 27.0, 26.0, 25.0, 24.0, 23.0, 22.0, 21.0, 20.0, 19.0, 18.0, 17.0, 16.0, 15.0, 14.0, 13.0, 12.0, 11.0, 10.0, 9.0, 8.0, 7.0, 6.0, 5.0, 4.0, 3.0, 2.0, 1.0, -5.1861, -5.7037, -6.0176, -6.0204, -6.041, -6.0938, -5.7234, -6.1319, -5.6717, -6.215, -6.2322, -6.2532, -6.2605, -6.2651, -6.2654, -4.7937, -6.2979, -6.3069, -6.357, -6.3753, -6.3767, -6.3805, -6.4123, -6.2366, -6.4356, -5.6082, -6.4837, -6.4974, -6.1212, -6.5198, -5.6502, -6.3182, -4.492, -5.5728, -5.0575, -6.0201, -6.0525, -5.823, -5.6555, -5.822, -3.9644, -5.3981, -5.3288, -5.7598, -5.5112, -4.7093, -6.1618, -6.0472, -4.9416, -5.8464, -6.1275, -5.2291, -5.5451, -5.5619, -5.5723, -5.8019, -5.8319, -5.8796, -5.9814, -5.9931, -6.0085, -6.0759, -6.1011, -6.1172, -6.1188, -6.1366, -6.1565, -6.1602, -6.166, -6.2257, -6.2656, -6.3668, -6.3742, -6.3834, -6.4164, -6.4204, -6.4408, -6.4541, -6.4774, -6.498, -6.0782, -5.6716, -6.1609, -5.5043, -5.3918, -5.4665, -5.4555, -3.023, -4.7752, -5.1151, -3.2829, -4.2324, -5.1165, -3.2482, -4.444, -4.8322, -4.7604, -5.5724, -4.5427, -5.4121, -5.9184, -5.1183, -5.4258, -5.1714, -5.3207, -5.0636, -5.4979, -5.1646, -5.5331, -5.5761, -5.5437, -5.5597, -3.5521, -4.9373, -5.5254, -5.5415, -5.5652, -5.5673, -5.6345, -5.6541, -5.8584, -5.6443, -5.9017, -6.0009, -6.0089, -6.0119, -6.0362, -5.5436, -6.0853, -6.1155, -6.1202, -6.128, -6.1294, -6.1624, -6.1711, -6.1953, -6.2054, -6.2074, -6.2222, -6.2277, -6.2305, -6.235, -4.7944, -5.3065, -3.9866, -5.3432, -5.1685, -4.2587, -5.6741, -5.7568, -5.8446, -4.4691, -4.9614, -5.6097, -5.927, -5.8145, -5.6206, -5.6936, -5.8641, -5.7052, -5.6815, -5.8456, -4.2725, -4.6832, -4.761, -5.1291, -5.1291, -5.1385, -5.2023, -5.3238, -5.3573, -5.4236, -5.4316, -5.4636, -5.497, -5.5038, -5.5214, -5.5296, -5.5774, -5.6283, -5.6304, -5.6592, -5.6603, -5.6992, -5.7033, -5.7491, -5.7712, -5.7745, -5.7906, -5.8394, -5.8394, -5.8511, -2.8088, -4.7725, -5.2043, -5.6446, -5.7456, -4.0909, -4.1238, -4.1376, -4.198, -4.7071, -4.8191, -4.8585, -4.9376, -4.9789, -4.9891, -5.5854, -4.0495, -5.6204, -5.6296, -5.6425, -5.7341, -4.0778, -5.788, -5.8882, -5.9491, -5.9753, -4.1854, -6.0063, -6.008, -6.0222, -6.1076, -5.5883, -6.1091, -6.119, -6.1322, -4.537, -5.1423, -4.6668, -3.9957, -4.2898, -5.0815, -4.443, -5.001, -4.2474, -4.2779, -4.181, -4.6838, -4.5924, -4.976, -5.0119, -5.1114, -5.1657, -5.1845, -5.226, -5.2892, -5.4368, -5.4446, -5.4501, -5.4784, -5.5057, -5.5202, -5.5254, -5.5332, -5.5345, -5.5378, -5.5432, -5.5542, -5.6623, -5.6965, -5.708, -5.005, -5.7328, -5.7726, -5.7875, -5.8019, -5.8648, -5.87, -5.8849, -5.9032, -5.3733, -5.2556, -5.5785, -5.8048, -5.5707, -5.3987, -5.7853, -4.4031, -4.9568, -5.0016, -5.0685, -5.1029, -5.2051, -5.261, -5.261, -5.3242, -5.3242, -5.3914, -5.4109, -5.521, -5.5473, -5.5941, -5.6241, -5.7297, -5.7947, -5.878, -5.9051, -5.9299, -5.9359, -5.9376, -5.9398, -5.9449, -5.9518, -5.9518, -5.9869, -6.0014, -6.0055, -5.1836, -4.7023, -5.5674, -4.6465, -5.1726, -5.5462, -5.9037, -5.9291, -4.2182, -4.6038, -5.0115, -5.1587, -5.2013, -5.2043, -5.2524, -5.2693, -5.3685, -5.4361, -5.4764, -5.5419, -5.6331, -5.6411, -4.6584, -5.8068, -5.8528, -5.8651, -5.88, -5.9142, -5.9463, -6.0185, -6.0872, -6.0962, -6.1089, -6.124, -6.151, -6.1546, -6.1616, -6.2316, -4.6252, -5.2616, -4.6755, -4.6124, -5.881, -5.1704, -4.7579, -5.3631, -5.0844, -5.6182, -5.7663, -5.8073, -3.8346, -4.28, -4.3798, -4.7276, -4.9157, -5.0548, -5.3099, -5.3504, -5.3515, -4.8227, -5.5971, -5.6712, -5.6739, -5.7179, -5.7214, -5.7239, -5.7254, -5.7493, -5.783, -5.8581, -5.8961, -5.8963, -5.9269, -5.9398, -5.9524, -5.9907, -6.0013, -6.0072, -6.0099, -6.0408, -5.2758, -5.3416, -5.2944, -5.4827, -4.3762, -4.3931, -4.4943, -5.047, -5.0636, -5.137, -5.328, -5.3815, -5.4691, -5.5829, -5.6367, -5.6719, -5.7045, -5.8395, -5.8411, -5.8444, -5.8715, -5.9506, -5.9589, -5.972, -5.9856, -6.0246, -6.0408, -6.0488, -6.05, -6.0606, -6.0623, -6.0873, -6.0899, -6.0951, -4.4429, -5.8527, -5.9486, -6.0597, -4.0821, -4.0821, -4.2567, -4.6696, -4.9818, -4.9985, -5.0106, -5.2438, -5.2632, -5.4445, -5.4518, -5.4695, -5.5125, -5.6348, -5.7309, -5.7349, -5.7844, -5.8686, -5.9045, -5.9326, -5.9801, -5.9856, -6.0254, -6.0666, -6.1671, -6.1714, -6.1785, -6.2315, -6.2576, -6.2774, -6.0999, -4.1531, -4.2361, -4.5528, -4.8035, -4.9376, -5.1018, -5.1503, -5.3547, -5.4283, -5.6227, -5.6464, -5.6588, -5.8001, -5.8905, -5.923, -5.9426, -5.9754, -5.9965, -6.0219, -6.0405, -4.6574, -6.0718, -6.0827, -6.0951, -6.1745, -6.1873, -6.2009, -6.211, -6.2409, -6.258, -5.5212, -5.8406, -4.5787, -5.255, -5.385, -5.3999, -5.408, -5.4283, -5.5951, -5.5994, -5.5998, -5.6339, -5.65, -5.7049, -5.744, -5.7881, -5.8217, -5.8219, -5.9546, -5.9612, -5.9617, -5.9803, -5.9926, -6.0172, -6.0496, -6.0899, -6.0932, -6.1029, -6.1259, -6.1328, -6.1328, -6.1525, -4.8363, -5.6428, -4.9727, -4.9966, -5.1313, -5.1651, -5.2099, -4.3409, -5.4234, -5.4447, -5.5998, -5.6371, -5.6921, -5.7191, -5.7492, -5.7694, -5.8635, -5.8858, -5.8979, -5.9461, -5.9538, -6.0301, -6.0403, -6.0577, -6.0712, -6.0993, -6.1123, -6.155, -6.2124, -6.2242, -6.2544, -6.2544, -5.9559, -6.0244, -4.3067, -4.5928, -4.6099, -4.9768, -5.2105, -5.3924, -5.4208, -5.5174, -5.7259, -5.7345, -5.7461, -5.7902, -5.8645, -4.9651, -5.936, -5.9813, -5.9939, -6.0135, -6.0429, -6.1353, -6.151, -6.191, -6.227, -6.2966, -6.3011, -6.3064, -6.3092, -6.3588, -6.3742, -5.1396, -6.065, -4.5428, -4.5428, -4.5428, -4.7324, -4.8887, -4.9837, -5.0905, -5.0967, -5.1943, -5.2595, -5.3008, -5.6638, -5.7695, -5.8043, -5.8043, -5.902, -6.0669, -6.1606, -6.1606, -6.1989, -6.2236, -6.2557, -6.2785, -5.7329, -6.348, -6.4201, -6.4978, -6.5521, -6.5521, -6.5521, -6.5521, -5.8561, -4.8891, -5.3161, -5.4105, -5.5254, -5.5741, -5.5974, -5.6461, -5.6567, -5.6645, -5.6715, -5.7515, -5.7805, -5.8284, -5.8336, -5.8975, -5.9335, -5.9471, -5.9734, -5.9734, -5.9798, -5.9976, -6.0187, -6.0293, -6.0945, -6.1271, -6.1271, -6.1494, -6.2473, -6.2787, -6.3125, -4.4491, -5.0149, -5.2095, -5.2179, -5.3731, -5.4009, -5.4219, -5.424, -5.4415, -5.4422, -5.8067, -5.8583, -5.9052, -5.9061, -6.0055, -6.0758, -6.1344, -6.1389, -6.1478, -6.1788, -6.2167, -6.2823, -6.2985, -6.3163, -6.3963, -6.4349, -6.4623, -6.7001, -6.7027, -6.1733, -5.8862, -6.3842, -5.4469, -4.3776, -5.5147, -5.6242, -5.7065, -5.7845, -5.8058, -5.841, -5.9142, -5.9844, -6.037, -6.0375, -6.0705, -6.1262, -6.1739, -6.1975, -6.3073, -6.3614, -6.4306, -5.3738, -7.0848, -7.1013, -9.0828, -9.0828, -9.0828, -9.0828, -9.0828, -9.0828, -9.0828, -9.0828, -9.0828, -9.0828, -9.0828, -9.0828, -9.0828, -9.0828, -9.0828, -9.0828, -9.0828, -9.0828, -5.4427, -5.4957, -5.683, -5.0309, -5.988, -6.0357, -6.1113, -6.2367, -6.6813, -6.6813, -6.6813, -6.6813, -6.6813, -6.6813, -6.6813, -6.6813, -6.6813, -9.0582, -9.0582, -9.0582, -9.0582, -9.0582, -9.0582, -9.0582, -9.0582, -9.0582, -9.0582, -9.0582, -9.0582, -9.0582, -9.0582, -9.0582, -9.0582, -9.0582, -9.0582, -9.0582, -9.0582, -9.0582, -9.0582, -9.0582, -9.0582, -9.0582, -9.0582], \"loglift\": [30.0, 29.0, 28.0, 27.0, 26.0, 25.0, 24.0, 23.0, 22.0, 21.0, 20.0, 19.0, 18.0, 17.0, 16.0, 15.0, 14.0, 13.0, 12.0, 11.0, 10.0, 9.0, 8.0, 7.0, 6.0, 5.0, 4.0, 3.0, 2.0, 1.0, 0.4951, 0.4897, 0.4848, 0.4847, 0.4844, 0.4834, 0.483, 0.4826, 0.4809, 0.4808, 0.4804, 0.48, 0.4798, 0.4797, 0.4797, 0.4796, 0.4789, 0.4787, 0.4775, 0.477, 0.477, 0.4769, 0.476, 0.4755, 0.4754, 0.4743, 0.474, 0.4736, 0.4732, 0.473, 0.4681, 0.4727, 0.4526, 0.4561, 0.4243, 0.4567, 0.4569, 0.4365, 0.4229, 0.4352, 0.2093, 0.3691, 0.2563, 0.3434, 0.2474, -0.0319, 0.4488, 0.4057, -0.1291, 0.0842, 0.235, 2.6312, 2.6053, 2.6037, 2.6027, 2.5779, 2.5743, 2.5684, 2.5548, 2.5532, 2.551, 2.5411, 2.5373, 2.5348, 2.5345, 2.5317, 2.5285, 2.5279, 2.527, 2.517, 2.5101, 2.4914, 2.49, 2.4882, 2.4817, 2.4809, 2.4768, 2.4741, 2.4692, 2.4649, 2.4623, 2.4331, 2.4497, 2.405, 2.3844, 2.3256, 2.3106, 1.6544, 2.0901, 2.1247, 1.5297, 1.8268, 2.0579, 0.9255, 1.4866, 1.6948, 1.6433, 2.11, 1.0424, 1.8133, 2.2967, 1.2347, 1.5826, 1.1911, 1.4113, 0.8255, 1.5897, 0.5939, 1.616, 1.685, 1.209, -0.0779, 2.7811, 2.7361, 2.6902, 2.6886, 2.6861, 2.6859, 2.6786, 2.6764, 2.6511, 2.6466, 2.6451, 2.6306, 2.6293, 2.6289, 2.6251, 2.6249, 2.6172, 2.6122, 2.6114, 2.61, 2.6098, 2.6041, 2.6026, 2.5983, 2.5964, 2.5961, 2.5934, 2.5924, 2.5918, 2.591, 2.5152, 2.4938, 1.9025, 2.0953, 1.9881, 0.5538, 2.0408, 2.0506, 2.109, -0.2954, -0.2839, 1.3307, 2.0981, 1.7394, 1.0083, 0.6594, 1.6755, 0.354, 0.0771, 1.3252, 3.7297, 3.6891, 3.6796, 3.625, 3.625, 3.6233, 3.6119, 3.5885, 3.5816, 3.5675, 3.5657, 3.5586, 3.551, 3.5494, 3.5452, 3.5433, 3.5317, 3.519, 3.5184, 3.511, 3.5107, 3.5003, 3.4992, 3.4866, 3.4804, 3.4794, 3.4748, 3.4605, 3.4605, 3.457, 3.0829, 3.1492, 2.95, 3.1331, 2.6956, 3.7597, 3.7573, 3.7563, 3.7518, 3.7019, 3.6876, 3.6822, 3.6708, 3.6645, 3.663, 3.5436, 3.5421, 3.5347, 3.5323, 3.529, 3.5042, 3.4909, 3.4889, 3.4587, 3.4393, 3.4308, 3.4291, 3.4204, 3.4198, 3.415, 3.3851, 3.3848, 3.3845, 3.381, 3.3762, 3.3591, 3.3589, 3.2903, 3.2072, 2.9557, 3.1244, 2.5284, 2.748, 2.1563, 2.1546, 0.6316, 1.4194, -0.4188, -0.2985, 3.7309, 3.7132, 3.7029, 3.6992, 3.6909, 3.6778, 3.6444, 3.6425, 3.6412, 3.6343, 3.6275, 3.6238, 3.6225, 3.6205, 3.6202, 3.6193, 3.6179, 3.6151, 3.5857, 3.5759, 3.5725, 3.566, 3.5652, 3.5532, 3.5487, 3.5442, 3.5241, 3.5225, 3.5176, 3.5115, 3.1926, 2.9295, 3.1057, 3.389, 2.7235, 2.2092, 3.2265, 3.9307, 3.8503, 3.842, 3.8291, 3.8221, 3.8004, 3.7877, 3.7877, 3.7727, 3.7727, 3.756, 3.751, 3.7213, 3.7138, 3.7002, 3.6912, 3.6581, 3.6366, 3.6075, 3.5977, 3.5886, 3.5864, 3.5858, 3.5849, 3.583, 3.5805, 3.5805, 3.5671, 3.5615, 3.56, 3.311, 2.0078, 2.8885, 1.2452, 0.586, 1.7556, 3.0319, -1.7555, 3.9568, 3.9124, 3.8464, 3.8165, 3.8072, 3.8065, 3.7956, 3.7917, 3.7676, 3.7501, 3.7393, 3.7209, 3.6939, 3.6915, 3.6771, 3.6376, 3.6216, 3.6172, 3.6119, 3.5994, 3.5875, 3.5598, 3.5322, 3.5286, 3.5233, 3.517, 3.5057, 3.5041, 3.5011, 3.4706, 3.3518, 3.3399, 3.1059, 2.8972, 3.3854, 2.9205, 2.4165, 2.6862, 2.1605, 2.6491, 2.4225, 0.5457, 4.0902, 4.0488, 4.0371, 3.9872, 3.9534, 3.925, 3.8641, 3.8533, 3.853, 3.8181, 3.7804, 3.756, 3.7551, 3.74, 3.7388, 3.7379, 3.7373, 3.7289, 3.7168, 3.6889, 3.6742, 3.6741, 3.6621, 3.6569, 3.6519, 3.6363, 3.6319, 3.6294, 3.6283, 3.6153, 3.2821, 3.1918, 3.0663, -1.309, 4.0611, 4.059, 4.0455, 3.9479, 3.9442, 3.9275, 3.8793, 3.8645, 3.839, 3.8036, 3.7858, 3.7739, 3.7626, 3.713, 3.7124, 3.7111, 3.7007, 3.6691, 3.6657, 3.6603, 3.6546, 3.6381, 3.6312, 3.6277, 3.6272, 3.6226, 3.6219, 3.6109, 3.6097, 3.6074, 3.5507, 3.3045, 3.3628, 3.0779, 4.1134, 4.1134, 4.0948, 4.0375, 3.9791, 3.9755, 3.9729, 3.9166, 3.9125, 3.8616, 3.8594, 3.8541, 3.8408, 3.8008, 3.767, 3.7656, 3.7473, 3.7149, 3.7006, 3.6891, 3.6694, 3.6671, 3.65, 3.632, 3.5862, 3.5842, 3.5809, 3.5555, 3.5428, 3.5331, -0.2108, 4.1202, 4.111, 4.0692, 4.0271, 4.0008, 3.9645, 3.9529, 3.8951, 3.8776, 3.8154, 3.8072, 3.8029, 3.7513, 3.7157, 3.7025, 3.6944, 3.6806, 3.6716, 3.6606, 3.6524, 3.649, 3.6385, 3.6336, 3.6281, 3.5912, 3.5851, 3.5786, 3.5738, 3.5592, 3.5508, 3.3133, 2.5056, 4.0661, 3.927, 3.891, 3.8867, 3.8843, 3.8782, 3.8254, 3.8239, 3.8238, 3.8122, 3.8066, 3.7872, 3.773, 3.7564, 3.7436, 3.7435, 3.6899, 3.6872, 3.6869, 3.6791, 3.6738, 3.6632, 3.649, 3.631, 3.6294, 3.625, 3.6145, 3.6113, 3.6113, 3.6021, 2.3301, 2.7347, 4.017, 4.0117, 3.9802, 3.9718, 3.9603, 3.9054, 3.9, 3.8935, 3.843, 3.8301, 3.8104, 3.8005, 3.7892, 3.7815, 3.7446, 3.7355, 3.7305, 3.7103, 3.7071, 3.6738, 3.6693, 3.6614, 3.6553, 3.6424, 3.6364, 3.6163, 3.5885, 3.5828, 3.5677, 3.5677, 2.0821, 1.5649, 4.1341, 4.0933, 4.0905, 4.0207, 3.9645, 3.9135, 3.9049, 3.8744, 3.8016, 3.7984, 3.794, 3.7771, 3.7476, 3.743, 3.718, 3.6985, 3.6931, 3.6844, 3.6713, 3.6287, 3.6212, 3.602, 3.5843, 3.5492, 3.5469, 3.5442, 3.5427, 3.5168, 3.5086, 3.5086, 2.1723, 4.1054, 4.1054, 4.1054, 4.0736, 4.0434, 4.0231, 3.9984, 3.9969, 3.9725, 3.9551, 3.9437, 3.8276, 3.7883, 3.7748, 3.7748, 3.7352, 3.6632, 3.6193, 3.6193, 3.6008, 3.5886, 3.5725, 3.561, 3.5271, 3.5249, 3.4863, 3.4432, 3.4122, 3.4122, 3.4122, 3.4122, -1.0436, 4.0624, 3.9566, 3.9283, 3.8914, 3.8749, 3.8668, 3.8495, 3.8456, 3.8428, 3.8402, 3.8101, 3.7988, 3.7797, 3.7776, 3.7512, 3.7359, 3.73, 3.7185, 3.7185, 3.7157, 3.7078, 3.6984, 3.6936, 3.6635, 3.6481, 3.6481, 3.6373, 3.5888, 3.5727, 3.5552, 4.1446, 4.0388, 3.9901, 3.9878, 3.9434, 3.9349, 3.9284, 3.9278, 3.9222, 3.922, 3.7916, 3.7706, 3.7509, 3.7506, 3.7071, 3.675, 3.6472, 3.645, 3.6407, 3.6256, 3.6068, 3.5733, 3.5649, 3.5556, 3.5127, 3.4914, 3.476, 3.3354, 3.3338, 3.3211, 3.0548, 2.9456, -1.2732, 4.1876, 3.924, 3.8853, 3.8544, 3.8236, 3.8149, 3.8004, 3.7691, 3.7379, 3.7138, 3.7135, 3.698, 3.6712, 3.6476, 3.6357, 3.5787, 3.5494, 3.511, 3.1177, 2.9319, 2.825, 1.1058, 1.1058, 1.0977, 1.0803, 1.0803, 1.0792, 1.0722, 1.0711, 1.0711, 0.7307, 0.9401, 0.7458, 0.7256, 0.89, 0.2639, 0.7625, 0.8707, 0.0815, 3.9626, 3.9448, 3.8768, 3.8712, 3.7481, 3.7259, 3.6896, 3.6261, 3.3701, 3.3701, 3.3701, 3.3701, 3.3701, 3.3701, 3.3701, 3.3701, 3.3701, 1.1305, 1.1305, 1.1223, 1.1049, 1.1049, 1.1039, 1.0968, 1.0957, 1.0957, 1.0957, 1.0938, 1.0893, 1.0893, -0.5128, 0.9095, 0.7825, 0.099, 0.3778, 0.1949, 0.7284, -1.1365, -2.4638, 0.9384, 0.6438, -1.3902, 0.6632]}, \"token.table\": {\"Topic\": [5, 18, 8, 5, 8, 8, 1, 2, 19, 1, 2, 3, 1, 3, 5, 3, 5, 5, 3, 5, 7, 10, 2, 8, 9, 12, 9, 5, 7, 18, 12, 16, 1, 8, 19, 2, 1, 3, 19, 1, 16, 1, 1, 2, 1, 5, 19, 2, 12, 10, 2, 13, 2, 3, 11, 1, 3, 1, 2, 3, 7, 1, 10, 18, 5, 11, 1, 3, 3, 2, 15, 10, 14, 1, 3, 5, 14, 8, 11, 12, 9, 1, 3, 12, 15, 10, 7, 3, 15, 4, 19, 15, 11, 6, 10, 12, 5, 7, 16, 11, 6, 1, 9, 14, 10, 10, 8, 2, 6, 16, 2, 9, 7, 12, 13, 12, 13, 15, 14, 1, 17, 1, 6, 19, 6, 10, 13, 1, 6, 15, 20, 3, 11, 10, 9, 7, 7, 3, 14, 13, 5, 5, 6, 4, 4, 6, 15, 16, 1, 2, 3, 4, 6, 1, 5, 4, 13, 1, 10, 14, 15, 8, 1, 1, 5, 2, 1, 2, 3, 1, 3, 17, 1, 14, 8, 1, 5, 8, 10, 8, 13, 16, 10, 1, 1, 3, 5, 16, 5, 1, 2, 2, 12, 12, 5, 6, 13, 1, 10, 6, 16, 13, 1, 2, 1, 2, 1, 2, 3, 6, 10, 10, 3, 15, 11, 11, 1, 19, 1, 1, 5, 1, 11, 5, 1, 2, 3, 14, 17, 1, 4, 3, 1, 2, 8, 8, 19, 18, 6, 10, 11, 1, 3, 7, 1, 8, 1, 6, 7, 17, 13, 14, 11, 4, 1, 12, 6, 9, 2, 1, 2, 4, 18, 7, 1, 2, 3, 4, 8, 1, 2, 3, 1, 3, 16, 2, 3, 18, 12, 1, 2, 3, 1, 2, 8, 1, 15, 11, 1, 3, 1, 2, 3, 5, 15, 1, 2, 3, 1, 2, 8, 8, 14, 14, 5, 2, 7, 11, 3, 1, 15, 10, 17, 12, 7, 1, 3, 1, 3, 11, 7, 17, 4, 17, 1, 4, 10, 10, 16, 4, 7, 8, 18, 2, 3, 8, 1, 2, 3, 5, 7, 16, 16, 16, 12, 17, 15, 1, 8, 13, 13, 1, 15, 17, 2, 8, 9, 3, 5, 1, 5, 9, 18, 9, 2, 7, 10, 2, 15, 18, 1, 2, 3, 5, 7, 1, 6, 13, 4, 1, 2, 3, 4, 7, 9, 11, 2, 1, 9, 1, 5, 5, 16, 1, 2, 3, 1, 6, 18, 1, 3, 7, 6, 12, 16, 11, 15, 5, 12, 2, 11, 1, 5, 4, 8, 9, 14, 12, 1, 9, 17, 2, 12, 16, 20, 1, 3, 1, 14, 16, 7, 18, 13, 6, 9, 1, 2, 5, 13, 1, 13, 1, 2, 3, 4, 3, 2, 11, 1, 14, 12, 16, 15, 3, 18, 10, 12, 7, 1, 11, 2, 20, 16, 2, 3, 8, 12, 13, 17, 16, 13, 18, 15, 4, 7, 18, 9, 8, 1, 1, 4, 2, 9, 17, 17, 17, 15, 19, 18, 1, 18, 16, 10, 16, 11, 5, 19, 3, 10, 2, 19, 17, 14, 6, 17, 11, 1, 14, 1, 2, 1, 6, 1, 1, 7, 7, 9, 9, 13, 9, 4, 6, 9, 3, 7, 6, 18, 3, 1, 15, 1, 7, 11, 4, 19, 1, 10, 19, 9, 3, 13, 3, 18, 19, 3, 16, 15, 13, 14, 1, 2, 3, 8, 3, 15, 14, 12, 5, 6, 1, 10, 18, 4, 15, 4, 14, 12, 1, 2, 3, 9, 1, 2, 3, 6, 11, 15, 7, 16, 18, 1, 2, 5, 16, 11, 15, 14, 3, 17, 1, 10, 17, 6, 3, 11, 6, 3, 1, 20, 1, 15, 14, 6, 17, 18, 4, 6, 2, 4, 14, 1, 2, 3, 15, 5, 11, 18, 3, 3, 1, 12, 1, 10, 17, 1, 2, 9, 1, 13, 12, 5, 1, 6, 7, 1, 2, 3, 1, 2, 17, 18, 16, 1, 12, 10, 9, 13, 1, 19, 9, 17, 1, 1, 4, 1, 13, 17, 16, 1, 17, 2, 10, 8, 1, 13, 7, 1, 1, 4, 14, 13, 6, 15, 15, 1, 4, 7, 7, 20, 1, 6, 16, 9, 2, 13, 10, 1, 2, 8, 4, 13, 9, 12, 6, 6, 8, 17, 8, 14, 18, 3, 1, 2, 5, 3, 6, 16, 8, 3, 3, 2, 10, 1, 4, 2, 8, 2, 1, 7, 10, 20, 8, 9, 7, 6, 8, 9, 6, 4, 6, 11, 8, 20, 1, 3, 6, 14, 1, 2, 3, 11, 16, 12, 7, 12, 1, 9, 1, 3, 14, 12, 1, 12, 15, 13, 14, 19, 4, 1, 2, 3, 5, 1, 5, 19, 19, 14, 9, 5, 8, 1, 4, 8, 14, 10, 12, 11, 11, 3, 7, 13, 13, 17, 8, 1, 2, 3, 1, 2, 3, 5, 2, 3, 1, 2, 3, 8, 1, 2, 3, 4, 5, 6, 7, 8, 9, 10, 18, 1, 3, 1, 2, 3, 1, 2, 3, 6, 3, 8, 11, 9, 4, 1, 18, 20, 18, 1, 1, 2, 5, 16, 18, 2, 3, 7, 1, 2, 3, 1, 2, 3, 1, 2, 1, 3, 13, 19, 4, 1, 3, 17, 3, 18, 1, 2, 8, 1, 8, 4, 1, 1, 1, 3, 6, 9, 1, 14, 18, 5, 14, 14, 7, 2, 17, 17, 17, 16, 12, 15, 18], \"Freq\": [0.8650122762285507, 0.6742553724423443, 0.8251358845100663, 0.46875289603185955, 0.523850405473729, 0.6461337649464817, 0.926157337119475, 0.06073162866357213, 0.5973432319073015, 0.5945192004692867, 0.34680286694041723, 0.04954326670577389, 0.3739188078927983, 0.04673985098659979, 0.5141383608525977, 0.17122073393126638, 0.6848829357250655, 0.9368576900561935, 0.27447137066387495, 0.5489427413277499, 0.4963339294855802, 0.7674327747886974, 0.14508198162445393, 0.7254099081222697, 0.6918811138356651, 0.5771365620135164, 0.49879899749620377, 0.7963930325583594, 0.48010169311955087, 0.9390479846490346, 0.5433257777327108, 0.6352012275014856, 0.5800826637013543, 0.8990827974511205, 0.5806126920747408, 0.7855564885052414, 0.4679520662237923, 0.4679520662237923, 0.6487018519778778, 0.36569412629580894, 0.36569412629580894, 0.7976330511927696, 0.9259809172495098, 0.0544694657205594, 0.7046270895576406, 0.2595994540475518, 0.535445184626581, 0.7974288154972444, 0.7459209272883363, 0.5675697879897299, 0.9011778113289121, 0.580795048372313, 0.8955692613979053, 0.8324964055120325, 0.5250506656839337, 0.43602627630428953, 0.43602627630428953, 0.7718757011026722, 0.12129475303041992, 0.06616077438022905, 0.033080387190114524, 0.9854423540326925, 0.8604269911190011, 0.8004651002557764, 0.7437808108615961, 0.8028333632441255, 0.39608793248379703, 0.49510991560474626, 0.8589818261307488, 0.8649335934171272, 0.6609442868020625, 0.566761409537018, 0.5248198427314898, 0.2548813302256804, 0.2548813302256804, 0.5097626604513608, 0.4740667332852941, 0.5470195549073628, 0.541529841263363, 0.8738855613258734, 0.5120906530801455, 0.16989504168934966, 0.7645276876020735, 0.6252121302361716, 0.8059250720043473, 0.4996693216410181, 0.8505067670879664, 0.9794377046029672, 0.6569251360886952, 0.8383700203085522, 0.5245130362639614, 0.5759302068097398, 0.8241917093423251, 0.818377706529145, 0.5546311490209108, 0.54994341200515, 0.4648447485254079, 0.8689754098083067, 0.739558705786721, 0.5539959797451818, 0.7596941795057346, 0.5304547182343673, 0.35363647882291155, 0.4660103806615002, 0.8030798382751624, 0.8150242430871333, 0.8551009624121118, 0.787209189327056, 0.7465366600637838, 0.615050074632059, 0.8297085422835201, 0.691330428993951, 0.4581798713131963, 0.6063452576314315, 0.7553319652934077, 0.5169548248530059, 0.4611990377516999, 0.8437120833475766, 0.4498379561668484, 0.894786293351959, 0.7406586943170235, 0.7709085308937197, 0.21024778115283263, 0.9127580205173019, 0.7417104095756297, 0.49143904055375165, 0.5797319768734024, 0.5568319424187911, 0.27841597120939554, 0.5666235723318911, 0.6682333221642889, 0.7801984085300439, 0.8134245020706998, 0.8415873099229882, 0.4647796422178512, 0.4735531413969586, 0.7321816748841632, 0.8037568588531535, 0.6466502922600615, 0.5996594230093479, 0.6415448809028069, 0.7895795965132317, 0.7097883803817746, 0.90313219488466, 0.8819614789599226, 0.6116038486321732, 0.6103379811241375, 0.7395587057730298, 0.7151612657985811, 0.23838708859952704, 0.02979838607494088, 0.7748568955241226, 0.6178367584668679, 0.2980854193933156, 0.5961708387866312, 0.8058244065807626, 0.5912001788614563, 0.6646070570560436, 0.5239771172204304, 0.545993850434161, 0.7809860723524594, 0.5690628100389776, 0.9712334540133664, 0.8004270907104535, 0.19469848152416436, 0.7639009968319803, 0.9280641900943742, 0.058526570546492074, 0.008360938649498868, 0.9578990687215655, 0.023363391920038182, 0.539398775756019, 0.7542262224197908, 0.10774660320282725, 0.7864394467806535, 0.2068474353062789, 0.7584405961230225, 0.5448331879323035, 0.5348399593484048, 0.5027340591196656, 0.537161361545862, 0.8516461529142565, 0.5470358586751302, 0.977057358956409, 0.4842187325642224, 0.16140624418807412, 0.32281248837614823, 0.6527834272144414, 0.8878303476691544, 0.9675037891462139, 0.8719495172499251, 0.825639321347023, 0.4474138028233937, 0.6330406695200463, 0.8905822114193732, 0.8536970997033223, 0.49620275119752866, 0.3235428093840258, 0.3235428093840258, 0.6442534308432709, 0.6163667214107853, 0.7510252323944805, 0.9744072550808576, 0.9020252815904178, 0.24628362574756935, 0.6567563353268515, 0.24877636548554977, 0.7463290964566494, 0.7420478974437945, 0.7404554000934985, 0.5588561511349105, 0.9022131595383405, 0.8689499817069871, 0.6717584615383748, 0.5398079152778412, 0.516367085793664, 0.5086841535207203, 0.3391227690138135, 0.973337951219002, 0.9638278898762835, 0.6585442923060417, 0.9900304660422409, 0.6722258750270909, 0.46192021005163353, 0.5314826034081683, 0.35432173560544555, 0.08858043390136139, 0.5179247066447923, 0.5775710232145937, 0.22575218670936653, 0.45150437341873306, 0.9174301052120102, 0.3811499614465592, 0.25409997429770614, 0.3176249678721327, 0.4531161780758359, 0.5179172964143304, 0.6884658980329807, 0.6576126405867934, 0.8299542943118062, 0.7793395076700831, 0.7995396269097887, 0.05710997335069919, 0.142774933376748, 0.5680137411868192, 0.3408082447120916, 0.2643639090030711, 0.2643639090030711, 0.2643639090030711, 0.5652608327272064, 0.8586539809730973, 0.7908482790864925, 0.8717609200405636, 0.7957873412356373, 0.28183979726794833, 0.5636795945358967, 0.6311989656439169, 0.8225805671135668, 0.8094704211902914, 0.9861692612093658, 0.907496169183483, 0.7252321178964575, 0.6927316030430102, 0.7635071941208934, 0.1894620108155895, 0.757848043262358, 0.8622829629428871, 0.6543793400357066, 0.7334048053628173, 0.5236660205205429, 0.13091650513013572, 0.3272912628253393, 0.7550119949214964, 0.21571771283471328, 0.6150276970512362, 0.8062548282445874, 0.1151792611777982, 0.7738853712250532, 0.9542978800015481, 0.6548204886031481, 0.30121742475744817, 0.03928922931618889, 0.10896826303630235, 0.5448413151815117, 0.2179365260726047, 0.21059142438228076, 0.6317742731468423, 0.6620085878607529, 0.9280238483810431, 0.05458963814006136, 0.7898989155137189, 0.0263299638504573, 0.1579797831027438, 0.9210057119535885, 0.4804064395904651, 0.491496843249018, 0.41702762457492437, 0.08936306240891236, 0.9879605318679727, 0.36803148284043496, 0.36803148284043496, 0.46112643906997425, 0.4830714215631585, 0.5830443464210817, 0.4614828836073494, 0.764015161727873, 0.6534893636802224, 0.6002593476265817, 0.9353211245551216, 0.7890547465108366, 0.13150912441847276, 0.5265394082594291, 0.5809314530988773, 0.53309108054129, 0.7184767715986572, 0.9564826826099432, 0.02585088331378225, 0.5975956040546538, 0.331997557808141, 0.7658737980789552, 0.4801016931209809, 0.5179522421992119, 0.8648186803458465, 0.5708752795963241, 0.484144245583498, 0.3631081841876235, 0.5521212533037374, 0.5305883110130661, 0.4925276323628537, 0.6684838693649416, 0.7568631238875044, 0.5352631406998053, 0.7206361119674313, 0.25006594394572534, 0.33342125859430044, 0.41677657324287554, 0.5308996103232074, 0.30826428986508814, 0.10703621175871117, 0.042814484703484465, 0.004281448470348447, 0.004281448470348447, 0.9289674447909603, 0.46088464475729396, 0.6275891201131456, 0.612089348580487, 0.6600334624099788, 0.5689132916376847, 0.7820868657367118, 0.676485567161656, 0.4451253341635322, 0.7638480157379958, 0.6817034511695784, 0.6192372332560339, 0.7789770305145163, 0.4808588411102248, 0.4478821238986899, 0.8375971929389214, 0.7623774315169987, 0.5365406537091668, 0.43898780758022743, 0.8659916507204666, 0.6997271101087879, 0.454844589884372, 0.7439676661908873, 0.621324556242895, 0.558324015328856, 0.7315966224102595, 0.835819156405945, 0.8117003661639953, 0.4993629705223279, 0.3566878360873771, 0.11889594536245902, 0.8640563715875968, 0.723444036893137, 0.4112239278070658, 0.4112239278070658, 0.7431313888177483, 0.761163864346549, 0.3904940379155549, 0.025193163736487414, 0.03778974560473112, 0.47867011099326084, 0.06298290934121853, 0.4987433319860452, 0.8828593232284568, 0.8150073710788037, 0.5950900453780344, 0.2975450226890172, 0.28046759888978057, 0.6544243974094879, 0.8608104651389311, 0.6979383956253773, 0.8786822972182662, 0.07785792506997295, 0.033367682172845546, 0.2852852775502486, 0.5705705551004971, 0.8924888343594182, 0.5355214584832936, 0.44626788206941137, 0.46619074135888805, 0.7529996812537866, 0.7656761082278809, 0.793399031023916, 0.47984571455556985, 0.5422478186517706, 0.8316237797378446, 0.903869254976025, 0.7963576552153195, 0.8828593231937523, 0.9638635741390584, 0.01580104219900096, 0.7138134633926476, 0.7337667680062091, 0.9442206201159667, 0.6281159139065808, 0.5579362978310316, 0.36244010361100776, 0.36244010361100776, 0.46826644733632394, 0.8019031927758958, 0.5736974785553632, 0.645476520735305, 0.49349452507807756, 0.47325495016620617, 0.47325495016620617, 0.8942744776777459, 0.06879034443674968, 0.50309512768217, 0.6629822210004733, 0.5288017862798148, 0.4860381678223412, 0.7970801183912505, 0.44744621470779217, 0.7665491352063586, 0.2218958022965775, 0.6630531787375927, 0.5490266302498107, 0.8112384409852929, 0.13520640683088214, 0.9811616508815825, 0.01635269418135971, 0.7065864061948532, 0.8920674935207816, 0.8661123380559544, 0.738473752875963, 0.5053386319700333, 0.6565822166472665, 0.6685376258304728, 0.7728080443794062, 0.7933990310153974, 0.48390464614725714, 0.71079185107266, 0.6203541732476403, 0.49041800172803396, 0.7239475007668996, 0.7847587211860202, 0.9643161531618988, 0.6277957972140007, 0.7690068065567555, 0.8456839584770552, 0.5030951276722072, 0.1252766068282837, 0.5011064273131348, 0.2505532136565674, 0.6104487555540967, 0.8613308101632241, 0.47034341682666364, 0.7395587057726363, 0.5933680945189079, 0.6175242004677429, 0.5564733828539729, 0.8819614789418235, 0.7729587819454813, 0.8113168111674331, 0.5277943577595713, 0.5266313038158961, 0.9701317682279565, 0.3836512246773764, 0.4795640308467205, 0.9342208594016104, 0.6710903133979166, 0.6120893485906745, 0.5549526416289104, 0.7913629511237427, 0.7657038796005493, 0.7229363166082724, 0.6424207102567036, 0.973284813059741, 0.7119848283839132, 0.7200675969643394, 0.5692324413690195, 0.627289747004312, 0.5988757621528724, 0.8731498565126796, 0.7010290604993922, 0.32994188859702883, 0.32994188859702883, 0.9098870346671687, 0.5584019505152399, 0.5632389104149416, 0.6304243701767137, 0.6624921714122632, 0.601696816257496, 0.6194532983091046, 0.2654079587513625, 0.6635198968784063, 0.9537019527787304, 0.02890005917511304, 0.4992785007919966, 0.37445887559399743, 0.9774685980923219, 0.877235343385524, 0.10320415804535576, 0.4765187032214549, 0.8289584126856603, 0.7421026365434379, 0.5451867764349927, 0.44670289256583745, 0.6289215912226076, 0.6152404932499469, 0.5310971828871495, 0.8512321247659365, 0.8880823656061727, 0.4622447232828747, 0.4622447232828747, 0.6535952038198409, 0.6360704925063051, 0.6053078131807322, 0.3401856220135651, 0.5102784330203477, 0.46509265890229745, 0.8874081588046061, 0.5975106304526149, 0.38499373219428723, 0.38499373219428723, 0.46930246408808596, 0.5337495364957615, 0.7874606489950841, 0.4962562169444569, 0.5315618798887138, 0.2657809399443569, 0.6838053421080121, 0.9008278089430712, 0.6192687298118746, 0.5604129709509315, 0.556774885540379, 0.6318689684934905, 0.5849290195784217, 0.14623225489460542, 0.09748816992973695, 0.14623225489460542, 0.8679332638769874, 0.6346471638222063, 0.5435956898945149, 0.618025541425653, 0.9328743937456784, 0.8433633417229832, 0.41225722258302777, 0.5153215282287847, 0.5434202392278406, 0.8436117242934601, 0.5200166379308502, 0.7353299166610234, 0.6415522316685914, 0.48934272434132153, 0.9773201011079797, 0.006786945146583193, 0.013573890293166385, 0.8644351130591572, 0.4020510003383404, 0.15076912512687765, 0.4146150940989135, 0.025128187521146275, 0.012564093760573138, 0.6768004518777554, 0.9299962259372997, 0.6662437614444437, 0.6160597717268905, 0.6457268720936933, 0.766356718809506, 0.8932476542602023, 0.7225259418835587, 0.8320358015371463, 0.49724859161274265, 0.5787731667610347, 0.7081805540782032, 0.5032517059456034, 0.9756216103149934, 0.8525379419934339, 0.6505797575546809, 0.8349271022599632, 0.8632539632343146, 0.6025056890995671, 0.7784396928268232, 0.9139360943681748, 0.25566640472065644, 0.5113328094413129, 0.3966447527575773, 0.3966447527575773, 0.5732565441448435, 0.6598658798344663, 0.4943970855631197, 0.5128586691296421, 0.9355885453494255, 0.8320293793248107, 0.9644322508088268, 0.9041540299706827, 0.8372048247586584, 0.37749308287253114, 0.5284903160215436, 0.9251209018805326, 0.65836800285971, 0.6693947901954265, 0.4639035951968062, 0.5973743199874799, 0.8929849619772052, 0.9727814350622896, 0.7331777467222255, 0.1466355493444451, 0.9875434295288825, 0.7211961054145902, 0.4628080563168324, 0.5736587399247495, 0.4302440549435621, 0.5329092798776289, 0.9597979632256952, 0.5933680944673104, 0.5637992772458102, 0.7977720044248462, 0.18360123989012672, 0.7344049595605069, 0.8311114960646229, 0.6156845705285634, 0.3078422852642817, 0.03848028565803521, 0.3879838296359644, 0.5819757444539465, 0.6606240333888522, 0.8016491301691681, 0.7933990310119204, 0.7263077074607324, 0.527000302296927, 0.5549871189079862, 0.5081255973713187, 0.766200256873517, 0.975919095266654, 0.641136700218987, 0.5159691534872014, 0.5506828086354477, 0.9896331037485268, 0.9665979288523332, 0.9098502854805253, 0.9836213776144674, 0.5838709005987694, 0.8058540351059794, 0.5851627508189108, 0.9595267960256807, 0.4417643902224233, 0.7123470722701956, 0.4497805977219074, 0.8530776952852105, 0.6051675988452918, 0.15129189971132295, 0.4780536614126419, 0.9853113483551569, 0.9876300358098588, 0.8887967122674922, 0.4891833080308364, 0.7906057277070839, 0.7892388530559612, 0.6231175152812366, 0.8239616805050345, 0.4837196850744817, 0.3224797900496545, 0.6213245562439685, 0.47585477660331743, 0.6280460122665695, 0.365345508093035, 0.5480182621395525, 0.7395587057817035, 0.5434035855851544, 0.8117438895277799, 0.4727944773974843, 0.48993979857124403, 0.27256166335921533, 0.5451233267184307, 0.18170777557281023, 0.7674020691675172, 0.8611272449826468, 0.6328386961000986, 0.7953084481901601, 0.8720082045412275, 0.6537927335007273, 0.43974843247274814, 0.5632389104435892, 0.8875069859865526, 0.5285564525400936, 0.5437106313873543, 0.7034163836077743, 0.8559981154431443, 0.046690806296898785, 0.09338161259379757, 0.926642511977695, 0.6582146131562367, 0.6749997202215259, 0.5305910490566113, 0.7854612233407218, 0.8960874466081029, 0.8231108543522873, 0.44031805923695144, 0.9849626932845031, 0.6904878344368525, 0.8567847607100042, 0.8650003112530523, 0.7340739748621533, 0.4909067414093848, 0.32727116093958986, 0.6937951577426394, 0.6038619864511547, 0.8690701210414862, 0.44567861738407755, 0.47533822831389666, 0.6512451731497408, 0.47125530932358334, 0.8479152255980859, 0.6844984365234005, 0.702477821632749, 0.7225955295464753, 0.5669697573959788, 0.45671841015065817, 0.5886553668078442, 0.9497845039442534, 0.02261391676057746, 0.7811149245173923, 0.8529344533659087, 0.21273061964167644, 0.21273061964167644, 0.5318265491041911, 0.84148760082352, 0.7903547956469609, 0.5810607661000651, 0.8880823656012629, 0.8806139084997419, 0.19687095582771277, 0.7874838233108511, 0.9052182667408368, 0.06623548293225635, 0.64155223167412, 0.6148025451145889, 0.4778939218951233, 0.4778939218951233, 0.8344219625000686, 0.5393762892219183, 0.6097444917128014, 0.6080460773315395, 0.6884091687219883, 0.4204183927898705, 0.33633471423189637, 0.021020919639493523, 0.18918827675544173, 0.26953117075942834, 0.741210719588428, 0.6258545063367253, 0.8744748413178995, 0.5700294520721347, 0.48720565595845705, 0.8463900965014484, 0.6996059466167495, 0.6191788057907684, 0.6533489501068782, 0.5436989254539872, 0.5961366489226009, 0.8898144083548495, 0.7140645845176026, 0.634103092669917, 0.884417794380813, 0.933572225336001, 0.49508365387641606, 0.4404562773577257, 0.5392040836250389, 0.8555271466500808, 0.6792982880184086, 0.7787438899502532, 0.18541521189291746, 0.018541521189291744, 0.5872605513397567, 0.3516082281906823, 0.04488615679029988, 0.01496205226343329, 0.6431335292971528, 0.12862670585943056, 0.5994182207523854, 0.23976728830095412, 0.11988364415047706, 0.019980607358412845, 0.745834207933044, 0.16950777453023727, 0.04520207320806328, 0.004520207320806328, 0.013560621962418981, 0.004520207320806328, 0.002260103660403164, 0.002260103660403164, 0.004520207320806328, 0.002260103660403164, 0.004520207320806328, 0.7242964274280242, 0.22634263357125758, 0.33349138679064316, 0.533586218865029, 0.10004741603719294, 0.9527022796730823, 0.024428263581361083, 0.019542610865088867, 0.004885652716272217, 0.3785398160902973, 0.567809724135446, 0.7698131197588973, 0.8646176765841146, 0.7269552361389445, 0.3921402208684943, 0.3921402208684943, 0.8760031503707015, 0.5750169251821552, 0.9750112524963208, 0.21163725714478115, 0.07054575238159372, 0.6349117714343435, 0.533249186822259, 0.6685917507433393, 0.12276285789520722, 0.8593400052664505, 0.4906863449189376, 0.5837904084551145, 0.2627056838048015, 0.1167580816910229, 0.5831285379342661, 0.3332163073910092, 0.04165203842387615, 0.2527722657303288, 0.6740593752808768, 0.9756700162666988, 0.015244844004167169, 0.5669998404745412, 0.49403112571753155, 0.6690320376348529, 0.42776417681187306, 0.5133170121742477, 0.5195395525684561, 0.8993959056061231, 0.6634006239675232, 0.27101551899624404, 0.27101551899624404, 0.27101551899624404, 0.4054927128580939, 0.5068658910726174, 0.7611600689266008, 0.9768522081409862, 0.9728135455619417, 0.20801445598018684, 0.7800542099257006, 0.6678838553509302, 0.9620733126088454, 0.9888947941609524, 0.7792562439170406, 0.7889794404793575, 0.7156744792645896, 0.43900809901848187, 0.5919711340788035, 0.8679564134732456, 0.8866363273752556, 0.44850957999474284, 0.6714229642517915, 0.4659660423436719, 0.6988667097039161, 0.44379963825210356, 0.4778520169171988, 0.6302792018768343], \"Term\": [\"07\", \"08\", \"08h00\", \"09\", \"15h00\", \"16h00\", \"19\", \"19\", \"19keys_\", \"1st\", \"1st\", \"1st\", \"2021\", \"2021\", \"2021\", \"22\", \"22\", \"25\", \"29\", \"29\", \"2lah3\", \"40yghhq1hu\", \"45\", \"45\", \"4am\", \"500billion\", \"60million\", \"9amonymqia\", \"aarde\", \"abantu\", \"abuse\", \"acacios__\", \"accused\", \"acquisition\", \"activity\", \"ad\", \"administered\", \"administered\", \"advertising\", \"advocate\", \"advocate\", \"affects\", \"africa\", \"africa\", \"africans\", \"africans\", \"aint\", \"airport\", \"airways\", \"alcoholbanlifted\", \"alfred_cabonena\", \"allows\", \"ama\", \"amazing\", \"amazulu\", \"ambassador\", \"ambassador\", \"amp\", \"amp\", \"amp\", \"amp\", \"anc\", \"ancestors\", \"announcing\", \"aovrokmpky\", \"appreciated\", \"arm\", \"arm\", \"arms\", \"arrival\", \"ase\", \"assurance\", \"astrazenaca\", \"august\", \"august\", \"august\", \"aunts\", \"ausi\", \"aut\", \"authority\", \"ayisebenzi\", \"ba\", \"ba\", \"baba\", \"baby\", \"bag\", \"balance\", \"bambo_johnson\", \"band\", \"bara\", \"barrybateman\", \"bcz\", \"bdlivesa\", \"beer\", \"belt\", \"beware\", \"billionaires\", \"birthday\", \"biz_retail\", \"bladenzimande\", \"block\", \"bo\", \"bo\", \"bonang_m\", \"bonitascares\", \"bonitasmedical\", \"booze\", \"borders\", \"boring\", \"botched\", \"boys\", \"bucs\", \"buddynice\", \"budgets\", \"building\", \"bullied\", \"c19\", \"calvin\", \"cap\", \"cape\", \"carteblanchetv\", \"cause\", \"cause\", \"certificate\", \"challenge\", \"champagne\", \"champions\", \"change\", \"change\", \"charged\", \"chava\", \"chiefs\", \"chile\", \"chip\", \"chow\", \"chris\", \"christ\", \"chuffed\", \"church\", \"cleaners\", \"click\", \"clicking\", \"clicks\", \"clicks_sa\", \"clicksbeautyschoolbattle\", \"clot\", \"coach\", \"collier\", \"come\", \"come\", \"come\", \"comment\", \"complaining\", \"completely\", \"completely\", \"comrades\", \"concluded\", \"confirm\", \"contacted\", \"container\", \"convoy\", \"correctly\", \"countries\", \"country\", \"country\", \"couple\", \"covid\", \"covid\", \"covid\", \"covid19\", \"covid19\", \"covid_19sa\", \"covidvaccine\", \"covidvaccine\", \"crane\", \"created\", \"created\", \"cried\", \"crow\", \"crowded\", \"culture\", \"cup\", \"cured\", \"cyrilramaphosa\", \"daily\", \"daily\", \"daily\", \"dance\", \"dashboard\", \"data\", \"david_makhura\", \"december\", \"declined\", \"deleted\", \"delivery\", \"democratic\", \"denaechettiar\", \"deny\", \"deny\", \"deputy\", \"deserve\", \"determined\", \"did\", \"dischem\", \"discovery\", \"discovery\", \"discovery_sa\", \"discovery_sa\", \"discusses\", \"discussing\", \"dishing\", \"distance\", \"distributed\", \"distributing\", \"distrust\", \"diy\", \"dna\", \"dna\", \"does\", \"doesn\", \"dololo\", \"don\", \"donate\", \"dosage\", \"dose\", \"dose\", \"dose\", \"dozes\", \"dragging\", \"drama\", \"drama\", \"drinking\", \"drive\", \"drive\", \"drive\", \"drjaytee87\", \"drops\", \"drunk\", \"dumb\", \"dzumasambudla\", \"edmnangagwa\", \"effects\", \"effects\", \"effects\", \"eligible\", \"eligible\", \"en\", \"en\", \"en\", \"engineered\", \"episode\", \"established\", \"existence\", \"expecting\", \"experimental\", \"experimental\", \"explanation\", \"ey\", \"failure\", \"familymeeting\", \"fans\", \"feather_ruffler\", \"fetch\", \"fikiswar\", \"finally\", \"finally\", \"football\", \"fresh\", \"fridges\", \"friend\", \"friend\", \"friend\", \"fully\", \"fully\", \"gailallan15\", \"gautenghealth\", \"gautenghealth\", \"gay\", \"gene\", \"getting\", \"getting\", \"getting\", \"getvaccinated\", \"getvaccinated\", \"getvaccinated\", \"girl\", \"girl\", \"gloves\", \"going\", \"going\", \"good\", \"good\", \"good\", \"goodthingsguy\", \"googlenews\", \"got\", \"got\", \"got\", \"government\", \"gpvaccination\", \"gpvaccination\", \"gqomgvng\", \"grace\", \"graduate\", \"graphs\", \"groove\", \"grow\", \"growing\", \"gt\", \"guy\", \"guy\", \"hani\", \"harmless\", \"hase\", \"hayi\", \"health\", \"health\", \"healthcare\", \"healthcare\", \"hello\", \"hemel\", \"hermainem\", \"hermanmashaba\", \"hev\", \"hi\", \"hi\", \"highlight\", \"hired\", \"hlaoivan\", \"hmmm\", \"holiday\", \"hollow\", \"hosp\", \"houghton\", \"houghton\", \"houghton\", \"https\", \"https\", \"https\", \"https\", \"https\", \"https\", \"huggison\", \"hype\", \"iam_ph\", \"iammofolo\", \"ibiza\", \"ibuhlungu\", \"ideas\", \"ilandile\", \"illegal\", \"imaginary\", \"immunised\", \"imported\", \"impressed\", \"incapable\", \"ine\", \"influencer\", \"infographic\", \"information\", \"information\", \"ini\", \"inkinga\", \"inoba\", \"ins\", \"institute\", \"investigate\", \"involving\", \"iol\", \"issa\", \"jab\", \"jab\", \"jab\", \"jealous\", \"jesus\", \"jnj\", \"jnj\", \"joe\", \"john\", \"johnson\", \"johnson\", \"johnson\", \"johnson\", \"johnson\", \"johnson_led\", \"johnson_yolande\", \"johnsonandjohnson\", \"joke\", \"joke\", \"july\", \"july\", \"june\", \"junior\", \"just\", \"just\", \"just\", \"kaconfessor\", \"kaconfessor\", \"kaizerchiefs\", \"ke\", \"ke\", \"kelvinw40709444\", \"kgomo389\", \"khadijapatel\", \"kharajabola\", \"khayajames\", \"khayamaloney\", \"khayelitsha\", \"kimberleypipet\", \"king\", \"kingphaahla2\", \"know\", \"know\", \"konje\", \"kopa\", \"ku\", \"kube\", \"kudala\", \"la\", \"la\", \"lakho\", \"landed\", \"language\", \"lap\", \"lava\", \"le\", \"le\", \"leaders\", \"leaders\", \"lebo\", \"lemon\", \"lengana\", \"leon_schreib\", \"leratokganyago\", \"lere\", \"let\", \"let\", \"level2\", \"liberty\", \"life\", \"life\", \"like\", \"like\", \"limpopo\", \"lindamoeketsi\", \"listening\", \"loading\", \"locals\", \"locate\", \"lock\", \"lockdownhouseparty\", \"loopy_johnson\", \"lottery\", \"lt\", \"lueendal07\", \"lukanyomngqolo\", \"lynnbrittney2\", \"magic\", \"make\", \"manufactures\", \"mark\", \"masego\", \"mashile\", \"masjid\", \"masjid\", \"masjid\", \"master_tapita\", \"matamela\", \"material\", \"matthew\", \"mcclinton201005\", \"mediclinic\", \"meds\", \"micellar\", \"michael\", \"migos\", \"migrants\", \"milk\", \"million\", \"mina\", \"mina\", \"minutes\", \"mjolo\", \"mmadikgosi_23\", \"mnangagwa\", \"mnet\", \"mo4lo\", \"modify\", \"moes\", \"money\", \"morningside\", \"mp\", \"mphahlelemm\", \"mps\", \"ms_zamandlovu\", \"mtn\", \"mucus\", \"myths\", \"myths\", \"mzansi\", \"nami\", \"nanoza23\", \"ncube_johnson\", \"ndi\", \"ndi_muvenda_\", \"ndoda\", \"ne\", \"ne\", \"need\", \"need\", \"neh\", \"neh\", \"new\", \"news24\", \"news24\", \"newton\", \"ngale\", \"ngathi\", \"ngithi\", \"ngo\", \"ni\", \"nie\", \"niggas\", \"nkunzi\", \"nolorata\", \"nomsa_maseko\", \"nomsa_maseko\", \"northern\", \"nose\", \"notion\", \"novaccine\", \"novaccine\", \"noxnonozi\", \"ntate\", \"nucleus\", \"ny\", \"ny\", \"obtain\", \"odds\", \"offer\", \"offices\", \"officialpsl\", \"officialpsl\", \"okare\", \"okay\", \"olaotan_johnson\", \"olympics\", \"ons\", \"oo\", \"open\", \"open\", \"open\", \"open\", \"option\", \"outlive\", \"overthinking\", \"owners\", \"page\", \"paratus2014\", \"passport\", \"passport\", \"pastorpulem\", \"patbafo\", \"patriarchy\", \"paulmtirara\", \"pearlmodiadie\", \"pentse\", \"people\", \"people\", \"people\", \"peterman43\", \"pfizer\", \"pfizer\", \"pfizer\", \"pfizer\", \"pfizer\", \"phophi\", \"pierre\", \"pierredevos\", \"pilot\", \"plse\", \"policy\", \"portal\", \"portfolio\", \"potus\", \"powder\", \"powervaccinates\", \"praiseandworship\", \"presently\", \"president\", \"presjgzuma\", \"presume\", \"previously\", \"price\", \"prob\", \"profit\", \"promo\", \"promote\", \"promote\", \"propaganda\", \"propaganda\", \"proposing\", \"protein\", \"pruwolfie\", \"pty\", \"puff\", \"pure\", \"qualify\", \"que\", \"queen\", \"queue\", \"queue\", \"quiet\", \"r250\", \"r3\", \"r350\", \"r5\", \"race\", \"radio2000za\", \"radio702\", \"radio702\", \"ramaphosa\", \"rands\", \"reacting\", \"ready\", \"ready\", \"real_precious_m\", \"really\", \"realntarasibizo\", \"rebaone59275709\", \"receives\", \"red\", \"red\", \"reduction\", \"register\", \"register\", \"register\", \"registered\", \"registered\", \"reliance\", \"remembered\", \"repaoc\", \"resistance\", \"revolutionary\", \"rfid\", \"ri\", \"rid\", \"right\", \"rna\", \"rob\", \"robert\", \"roll\", \"rollout\", \"rupert\", \"sa\", \"saam\", \"sabreakingnews\", \"sabs\", \"said\", \"sam\", \"sandton\", \"sanitize\", \"savaccine\", \"saving\", \"saving\", \"savior\", \"say\", \"saying\", \"sbwl\", \"scn_nkosi\", \"se\", \"season\", \"sec\", \"secure\", \"sent\", \"sent\", \"serum\", \"serves\", \"shaken\", \"shame\", \"shame\", \"shane\", \"shapa\", \"shem\", \"shes\", \"sickening\", \"site\", \"site\", \"site\", \"sizwedhlomo\", \"skeemsaam\", \"skepsel_sa\", \"skynews\", \"smart\", \"socialism\", \"socialist\", \"sogama_l_sabifa\", \"soldiers\", \"sole\", \"sollyhlaka\", \"sore\", \"south\", \"south\", \"south\", \"soweto\", \"spike\", \"spoon\", \"st\", \"stadium\", \"stadiums\", \"staysafe\", \"steps\", \"stop\", \"strange\", \"strategy\", \"street\", \"stress\", \"struggling\", \"struggling\", \"successfully\", \"suncloud\", \"sunday\", \"suppliers\", \"supplies\", \"suppose\", \"surrounding\", \"suspect\", \"suspend\", \"suspended\", \"swear\", \"sweet\", \"table\", \"tablet\", \"taking\", \"taking\", \"te\", \"tea\", \"team\", \"team\", \"team\", \"thando_honey\", \"thecomrade_elmo\", \"thefreds\", \"theokadi\", \"therapy\", \"thina\", \"thina\", \"think\", \"think\", \"thomasmsengana\", \"thoroughly\", \"thread\", \"thread\", \"ticket\", \"tidoo\", \"tigresa_za\", \"tjo\", \"tjovitjo\", \"today\", \"today\", \"today\", \"today\", \"track\", \"track\", \"trauma\", \"treated\", \"troubled\", \"tru\", \"tseba\", \"tsona\", \"twa\", \"ukhozi_fm\", \"umuthi\", \"uncles\", \"unitetofightcorona\", \"universities\", \"unjani\", \"unokwandalo\", \"update\", \"upper\", \"useful\", \"usina\", \"utshwala\", \"vacation\", \"vaccinate\", \"vaccinate\", \"vaccinate\", \"vaccinated\", \"vaccinated\", \"vaccinated\", \"vaccinated\", \"vaccinatetosavesouthafrica\", \"vaccinatetosavesouthafrica\", \"vaccination\", \"vaccination\", \"vaccination\", \"vaccination\", \"vaccine\", \"vaccine\", \"vaccine\", \"vaccine\", \"vaccine\", \"vaccine\", \"vaccine\", \"vaccine\", \"vaccine\", \"vaccine\", \"vaccine\", \"vaccineforsouthafrica\", \"vaccineforsouthafrica\", \"vaccinerolloutsa\", \"vaccinerolloutsa\", \"vaccinerolloutsa\", \"vaccines\", \"vaccines\", \"vaccines\", \"vaccines\", \"vaccinessavelives\", \"vaccinessavelives\", \"veins\", \"vele\", \"venternic\", \"venue\", \"venue\", \"version\", \"vip\", \"virus\", \"visit\", \"visit\", \"visit\", \"vngalwana\", \"vodacom\", \"volunteers\", \"volunteers\", \"vonderleyen\", \"wait\", \"wait\", \"wait\", \"waiting\", \"waiting\", \"waiting\", \"walk\", \"walk\", \"want\", \"want\", \"wara\", \"warn\", \"wasting\", \"water\", \"water\", \"wath\", \"ways\", \"wedding\", \"welcome\", \"welcome\", \"welcome\", \"west\", \"west\", \"wide\", \"work\", \"world\", \"ya\", \"ya\", \"yah\", \"ye\", \"year\", \"yhooo\", \"yi\", \"yini\", \"zanu\", \"zapu\", \"zickie_s\", \"zim\", \"zimbabwean\", \"zimbabweanlivesmatter\", \"zimbabweans\", \"zimbos\", \"zoeharcombe\", \"zukxman\", \"zukzfranco\"]}, \"R\": 30, \"lambda.step\": 0.01, \"plot.opts\": {\"xlab\": \"PC1\", \"ylab\": \"PC2\"}, \"topic.order\": [7, 18, 10, 8, 17, 19, 11, 14, 12, 6, 2, 1, 16, 3, 9, 15, 5, 20, 13, 4]};\n",
       "\n",
       "function LDAvis_load_lib(url, callback){\n",
       "  var s = document.createElement('script');\n",
       "  s.src = url;\n",
       "  s.async = true;\n",
       "  s.onreadystatechange = s.onload = callback;\n",
       "  s.onerror = function(){console.warn(\"failed to load library \" + url);};\n",
       "  document.getElementsByTagName(\"head\")[0].appendChild(s);\n",
       "}\n",
       "\n",
       "if(typeof(LDAvis) !== \"undefined\"){\n",
       "   // already loaded: just create the visualization\n",
       "   !function(LDAvis){\n",
       "       new LDAvis(\"#\" + \"ldavis_el1335619160928951202510183903\", ldavis_el1335619160928951202510183903_data);\n",
       "   }(LDAvis);\n",
       "}else if(typeof define === \"function\" && define.amd){\n",
       "   // require.js is available: use it to load d3/LDAvis\n",
       "   require.config({paths: {d3: \"https://d3js.org/d3.v5\"}});\n",
       "   require([\"d3\"], function(d3){\n",
       "      window.d3 = d3;\n",
       "      LDAvis_load_lib(\"https://cdn.jsdelivr.net/gh/bmabey/pyLDAvis@3.2.2/pyLDAvis/js/ldavis.v3.0.0.js\", function(){\n",
       "        new LDAvis(\"#\" + \"ldavis_el1335619160928951202510183903\", ldavis_el1335619160928951202510183903_data);\n",
       "      });\n",
       "    });\n",
       "}else{\n",
       "    // require.js not available: dynamically load d3 & LDAvis\n",
       "    LDAvis_load_lib(\"https://d3js.org/d3.v5.js\", function(){\n",
       "         LDAvis_load_lib(\"https://cdn.jsdelivr.net/gh/bmabey/pyLDAvis@3.2.2/pyLDAvis/js/ldavis.v3.0.0.js\", function(){\n",
       "                 new LDAvis(\"#\" + \"ldavis_el1335619160928951202510183903\", ldavis_el1335619160928951202510183903_data);\n",
       "            })\n",
       "         });\n",
       "}\n",
       "</script>"
      ],
      "text/plain": [
       "<IPython.core.display.HTML object>"
      ]
     },
     "execution_count": 23,
     "metadata": {},
     "output_type": "execute_result"
    }
   ],
   "source": [
    "data_op = pyLDAvis.sklearn.prepare(model_lda,tfidf,tfidf_vectorizer)\n",
    "pyLDAvis.enable_notebook()\n",
    "pyLDAvis.display(data_op)"
   ]
  },
  {
   "cell_type": "markdown",
   "id": "0bd2af3c",
   "metadata": {},
   "source": [
    "#### Testing on MMA data"
   ]
  },
  {
   "cell_type": "code",
   "execution_count": 24,
   "id": "d2809789",
   "metadata": {},
   "outputs": [],
   "source": [
    "data_comp =pd.read_excel(\"Complaints_Reviewed_As_Disinformation_twitter.xlsx\")"
   ]
  },
  {
   "cell_type": "code",
   "execution_count": 25,
   "id": "76cfacc4",
   "metadata": {},
   "outputs": [
    {
     "data": {
      "text/plain": [
       "0       Contrasting images used to further racist agenda\n",
       "1                            Racist Tweets by @dirkdup69\n",
       "2                All Nigerians are Criminals and must go\n",
       "3      Disinformation with xenophobic agenda re. Oran...\n",
       "4      Tweet indicating that masks are a farce and sh...\n",
       "                             ...                        \n",
       "126         Twitter: 28 deaths from vaccine in SA so far\n",
       "127    Twitter: Do not get vaccinated...you will die ...\n",
       "128    Tweet claims that new COVID-19 strains more li...\n",
       "129    Twitter: Do not get vaccinated...or else you w...\n",
       "130                 False claims about COVID-19 vaccines\n",
       "Name: title, Length: 131, dtype: object"
      ]
     },
     "execution_count": 25,
     "metadata": {},
     "output_type": "execute_result"
    }
   ],
   "source": [
    "data_comp.title"
   ]
  },
  {
   "cell_type": "code",
   "execution_count": 26,
   "id": "e6bd9fb2",
   "metadata": {},
   "outputs": [],
   "source": [
    "def display_topics_comp(model, feature_names, no_top_words):\n",
    "    \n",
    "    for topic_idx, topic in enumerate(model.components_):\n",
    "        print(\"Topic:\", (topic_idx))\n",
    "        print(\" \".join([feature_names[i]\n",
    "        for i in topic.argsort()[:-no_top_words - 1:-1]]))\n",
    "\n",
    "\n",
    "def tfidf_vectorizer_comp(documents,total_features):\n",
    "\n",
    "    #  TFIDF Vectorizer\n",
    "    tfidf_vectorizer = TfidfVectorizer(max_df=0.95, min_df=2, max_features=total_features, stop_words='english')\n",
    "    tfidf = tfidf_vectorizer.fit_transform(documents)\n",
    "    tfidf_feature_names = tfidf_vectorizer.get_feature_names()\n",
    "    return tfidf_vectorizer,tfidf,tfidf_feature_names\n",
    "\n",
    "def count_vectorizer_comp(documents,total_features):\n",
    "\n",
    "    #  Count Vectorizer\n",
    "    tf_vectorizer = CountVectorizer(max_df=0.95, min_df=2, max_features=total_features, stop_words='english')\n",
    "    tf = tf_vectorizer.fit_transform(documents)\n",
    "    tf_feature_names = tf_vectorizer.get_feature_names()\n",
    "    return tf_vectorizer,tf,tf_feature_names"
   ]
  },
  {
   "cell_type": "code",
   "execution_count": 27,
   "id": "ca7a1ee1",
   "metadata": {},
   "outputs": [
    {
     "name": "stderr",
     "output_type": "stream",
     "text": [
      "C:\\Users\\Mohlatlego\\anaconda3\\lib\\site-packages\\sklearn\\utils\\deprecation.py:87: FutureWarning: Function get_feature_names is deprecated; get_feature_names is deprecated in 1.0 and will be removed in 1.2. Please use get_feature_names_out instead.\n",
      "  warnings.warn(msg, category=FutureWarning)\n"
     ]
    }
   ],
   "source": [
    "total_features = 15000 \n",
    "num_topic = 20\n",
    "tfidf_vectorizer_comp, tfidf_comp, tfidf_feature_names_comp = tfidf_vectorizer_comp(data_comp['title'],total_features)\n",
    "tf_vectorizer_comp, tf_comp, tf_feature_names_comp = count_vectorizer_comp(data_comp['title'],total_features)"
   ]
  },
  {
   "cell_type": "code",
   "execution_count": 28,
   "id": "2a048b9c",
   "metadata": {},
   "outputs": [],
   "source": [
    "model_lda_comp = LatentDirichletAllocation(n_components=num_topic, max_iter=30, learning_method='online', learning_offset=50.,random_state=0).fit(tfidf_comp)\n",
    "no_top_words = 20"
   ]
  },
  {
   "cell_type": "code",
   "execution_count": 29,
   "id": "5c45d67c",
   "metadata": {},
   "outputs": [
    {
     "name": "stdout",
     "output_type": "stream",
     "text": [
      "Topic: 0\n",
      "masks lockdowns tweet protests ostensible zweli video conspiracy sa claims africa statements new alleged 19 alleges crimes chester constitutes pres\n",
      "Topic: 1\n",
      "likely new vaccinated claims tweet 19 covid ostensible da allegations mkhize makes video alleged claiming sa virus africa measures julius\n",
      "Topic: 2\n",
      "gates conspiracy theories vaccination mynameisjerm foundation death pres covid19 tweet 19 phoenix murder nigerians protests claims constitutes statement measures regarding\n",
      "Topic: 3\n",
      "rates measures disinformation statement efficacy violence claim dna lockdowns new mynameisjerm racist living news tweet racial theories 19 old cloth\n",
      "Topic: 4\n",
      "spreader rage super events various dr zweli mkhize associated claiming video tweet efficacy regarding current murder alleged sa taxi rates\n",
      "Topic: 5\n",
      "phoenix allegations wave foreign claims tweets protests protest used enca ostensible statements nationals mkhize vaccine taxi cites disinformation false tweet\n",
      "Topic: 6\n",
      "die poison twitter vaccinated covid19 vaccine nationals foreign south africa regarding anti lockdown flu zweli mkhize living statistics number lockdowns\n",
      "Topic: 7\n",
      "foreigners putsouthafricansfirst dr cabanac roman regarding tweet statement claiming second wave covid19 constitutes number scam likely super current south violence\n",
      "Topic: 8\n",
      "event rage tweet news super spreader fake claiming vaccine cabanac taxi number theories evidence gates phoenix south efficacy agenda cloth\n",
      "Topic: 9\n",
      "tweet claiming zuma video virus old nigerians ramaphosa zimbabweans fake south responsible kill pres africa protest violence taxi evidence foundation\n",
      "Topic: 10\n",
      "disinformation xenophobic associated accused constitutes tweet claim crimes malema julius murder agenda claiming video south africa putsouthafricansfirst foreigners related old\n",
      "Topic: 11\n",
      "sa murder phoenix tweet tweets theories death claim racial flu die events wearing foreign roman alleges image africa used lockdowns\n",
      "Topic: 12\n",
      "covid19 foreign number statement twitter nationals foreigners missing tweet living pertaining africa statistics chester new south news mkhize claim accused\n",
      "Topic: 13\n",
      "allegations phoenix malema statements deaths dna video ostensible south covid19 covid die makes julius medical evidence wave flu taxi enca\n",
      "Topic: 14\n",
      "constitutes xenophobic lockdowns dna number statement old alleged vaccine disinformation mynameisjerm racial ramaphosa roman 19 enca allegations cites new agenda\n",
      "Topic: 15\n",
      "alleged violence extreme racial current phoenix tweet video racist used agenda events medical alleges ramaphosa enca malema accused deaths protest\n",
      "Topic: 16\n",
      "false claims covid 19 tweet masks efficacy measures dna flu medical death scam statements makes cloth various pertaining vaccine twitter\n",
      "Topic: 17\n",
      "tweets image racist protests nigerians tweet alleged alleges enca africa constitutes report disinformation responsible south claiming da false old crimes\n",
      "Topic: 18\n",
      "statement missing chester cites mortality rates lockdown used da number efficacy tweet extreme alleged 19 mkhize racist dna associated constitutes\n",
      "Topic: 19\n",
      "wearing masks related evidence twitter xenophobic ramaphosa vaccine associated accused tweet crimes covid19 flu pres false likely missing cabanac wave\n"
     ]
    }
   ],
   "source": [
    "display_topics(model_lda_comp, tfidf_feature_names_comp, no_top_words)"
   ]
  },
  {
   "cell_type": "code",
   "execution_count": 30,
   "id": "178117af",
   "metadata": {
    "scrolled": true
   },
   "outputs": [],
   "source": [
    "data_op = pyLDAvis.sklearn.prepare(model_lda_comp,tfidf_comp,tfidf_vectorizer_comp)\n",
    "pyLDAvis.enable_notebook()\n",
    "pyLDAvis.display(data_op)\n",
    "pyLDAvis.save_html(data_op, 'topics_MMA_LDA.html')"
   ]
  },
  {
   "cell_type": "markdown",
   "id": "9afc1f8d",
   "metadata": {},
   "source": [
    "#### Non-negative Matrix Factorization"
   ]
  },
  {
   "cell_type": "code",
   "execution_count": 31,
   "id": "cb044851",
   "metadata": {},
   "outputs": [],
   "source": [
    "n_components = 20"
   ]
  },
  {
   "cell_type": "code",
   "execution_count": 32,
   "id": "aa891987",
   "metadata": {},
   "outputs": [],
   "source": [
    "def fit_NMF(X, n_components):\n",
    "    model = NMF(n_components=n_components,random_state=0)\n",
    "    nmf_tfidf_limit =model.fit(X)\n",
    "    return nmf_tfidf_limit"
   ]
  },
  {
   "cell_type": "code",
   "execution_count": 33,
   "id": "772fe2d2",
   "metadata": {},
   "outputs": [
    {
     "name": "stderr",
     "output_type": "stream",
     "text": [
      "C:\\Users\\Mohlatlego\\anaconda3\\lib\\site-packages\\sklearn\\decomposition\\_nmf.py:289: FutureWarning: The 'init' value, when 'init=None' and n_components is less than n_samples and n_features, will be changed from 'nndsvd' to 'nndsvda' in 1.1 (renaming of 0.26).\n",
      "  warnings.warn(\n"
     ]
    },
    {
     "name": "stdout",
     "output_type": "stream",
     "text": [
      "Topic: 0\n",
      "tweet ramaphosa ostensible image xenophobic da report cites mynameisjerm measures likely pres enca anti event rage makes associated murder allegations\n",
      "Topic: 1\n",
      "twitter flu lockdown vaccine kill medical wearing zweli zuma foreign nationals lockdowns mkhize dna deaths rates claim die poison crimes\n",
      "Topic: 2\n",
      "covid 19 measures medical dna efficacy statements pertaining false makes scam various flu rage event vaccination mortality cloth statistics second\n",
      "Topic: 3\n",
      "south africa foreign nationals living number statistics wave zimbabweans crimes responsible claiming flu regarding kill racist constitutes mortality pertaining efficacy\n",
      "Topic: 4\n",
      "masks wearing lockdowns cloth efficacy claims claim mortality used tweet rates 19 chester gates events evidence extreme fake false flu\n",
      "Topic: 5\n",
      "covid19 regarding vaccination lockdowns gates rates scam claim second wave cabanac roman vaccine dr pres foundation used mortality twitter death\n",
      "Topic: 6\n",
      "disinformation constitutes claim foundation racist xenophobic zuma accused murder agenda africa crimes cloth associated phoenix gates kill death used extreme\n",
      "Topic: 7\n",
      "alleged violence extreme phoenix racial current image protests allegations murder video events responsible zimbabweans tweet agenda enca accused report fake\n",
      "Topic: 8\n",
      "vaccine anti dna report agenda cites video deaths 19 covid19 twitter enca protests accused murder mynameisjerm xenophobic alleges foreign events\n",
      "Topic: 9\n",
      "claiming virus scam new africa claim south flu kill associated dr malema julius super spreader statement 19 tweet video news\n",
      "Topic: 10\n",
      "sa deaths responsible zimbabweans violence vaccine second pertaining medical tweet kill crimes old south cabanac roman regarding events zweli enca\n",
      "Topic: 11\n",
      "video old zuma protest taxi pres ostensible related violence alleges used kill current associated events foundation malema julius ramaphosa likely\n",
      "Topic: 12\n",
      "statement chester missing da cites number dr claiming statements agenda makes report anti roman cabanac living used protests alleges false\n",
      "Topic: 13\n",
      "fake lockdown news event spreader super rage zimbabweans rates used efficacy mortality claiming agenda statistics racist regarding events cloth various\n",
      "Topic: 14\n",
      "claims death flu julius malema false covid gates foundation pres likely new associated wave vaccinated masks claiming enca report mynameisjerm\n",
      "Topic: 15\n",
      "mkhize zweli dr vaccination associated allegations rage makes events super spreader various roman cabanac claiming event xenophobic video phoenix statement\n",
      "Topic: 16\n",
      "tweets racist conspiracy theories various used agenda mynameisjerm report enca africa rates mortality constitutes protests false 19 alleges cites protest\n",
      "Topic: 17\n",
      "putsouthafricansfirst foreigners regarding makes false statements crimes rates zimbabweans statistics cabanac roman report enca second cites tweet wave mynameisjerm accused\n",
      "Topic: 18\n",
      "vaccinated die poison likely new ostensible twitter claims 19 africa video anti agenda events evidence extreme fake false flu allegations\n",
      "Topic: 19\n",
      "nigerians evidence zimbabweans responsible claiming related fake south kill violence crimes africa tweet dr statement extreme lockdowns lockdown events enca\n"
     ]
    }
   ],
   "source": [
    "nmf_tfidf_comp = fit_NMF(tfidf_comp, n_components)\n",
    "display_topics(nmf_tfidf_comp ,tf_feature_names_comp ,  no_top_words)"
   ]
  },
  {
   "cell_type": "code",
   "execution_count": null,
   "id": "f0fb373c",
   "metadata": {},
   "outputs": [],
   "source": []
  }
 ],
 "metadata": {
  "kernelspec": {
   "display_name": "Python 3",
   "language": "python",
   "name": "python3"
  },
  "language_info": {
   "codemirror_mode": {
    "name": "ipython",
    "version": 3
   },
   "file_extension": ".py",
   "mimetype": "text/x-python",
   "name": "python",
   "nbconvert_exporter": "python",
   "pygments_lexer": "ipython3",
   "version": "3.8.8"
  }
 },
 "nbformat": 4,
 "nbformat_minor": 5
}
