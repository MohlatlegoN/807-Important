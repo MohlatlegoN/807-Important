{
 "cells": [
  {
   "cell_type": "code",
   "execution_count": 1,
   "id": "f66a3761",
   "metadata": {},
   "outputs": [],
   "source": [
    "import pandas as pd\n",
    "from joblib import load\n",
    "import numpy as np\n",
    "import seaborn as sns\n",
    "import matplotlib.pyplot as plt\n",
    "from sklearn.feature_extraction.text import TfidfVectorizer, CountVectorizer\n",
    "from sklearn.pipeline import Pipeline\n",
    "import string\n",
    "from sklearn.feature_extraction.text import TfidfTransformer\n",
    "from sklearn.base import TransformerMixin"
   ]
  },
  {
   "cell_type": "raw",
   "id": "4df34b98",
   "metadata": {},
   "source": [
    "importing dataset"
   ]
  },
  {
   "cell_type": "code",
   "execution_count": 2,
   "id": "de222258",
   "metadata": {},
   "outputs": [],
   "source": [
    "df_twitter = pd.read_json(\"data/complaints_from_2020_01_01_to_2021_12_31__2022_03_22_twitter.json\")"
   ]
  },
  {
   "cell_type": "code",
   "execution_count": 3,
   "id": "3de45106",
   "metadata": {},
   "outputs": [
    {
     "name": "stdout",
     "output_type": "stream",
     "text": [
      "<class 'pandas.core.frame.DataFrame'>\n",
      "Int64Index: 576 entries, 228 to 1959\n",
      "Data columns (total 13 columns):\n",
      " #   Column                    Non-Null Count  Dtype         \n",
      "---  ------                    --------------  -----         \n",
      " 0   id                        576 non-null    int64         \n",
      " 1   source_url                576 non-null    object        \n",
      " 2   title                     576 non-null    object        \n",
      " 3   overview                  508 non-null    object        \n",
      " 4   outcome                   508 non-null    object        \n",
      " 5   complaint_source          576 non-null    object        \n",
      " 6   status                    576 non-null    object        \n",
      " 7   platform                  576 non-null    object        \n",
      " 8   asset_urls                576 non-null    object        \n",
      " 9   asset_text_extracts       576 non-null    object        \n",
      " 10  created_at                576 non-null    datetime64[ns]\n",
      " 11  submitted_complaint_type  576 non-null    object        \n",
      " 12  resolved_complaint_type   296 non-null    object        \n",
      "dtypes: datetime64[ns](1), int64(1), object(11)\n",
      "memory usage: 63.0+ KB\n"
     ]
    }
   ],
   "source": [
    "df_twitter.info()"
   ]
  },
  {
   "cell_type": "code",
   "execution_count": 4,
   "id": "0ef91c2e",
   "metadata": {},
   "outputs": [],
   "source": [
    "df_test = df_twitter[[\"title\",\"asset_text_extracts\", \"submitted_complaint_type\", \"resolved_complaint_type\"]]"
   ]
  },
  {
   "cell_type": "code",
   "execution_count": null,
   "id": "8bb13bfa",
   "metadata": {},
   "outputs": [],
   "source": []
  },
  {
   "cell_type": "code",
   "execution_count": 17,
   "id": "9bc33bc0",
   "metadata": {},
   "outputs": [],
   "source": [
    "# class for cleaning the text\n",
    "class CleanTextTransformer(TransformerMixin):\n",
    "    def transform(self, X, **transform_params):\n",
    "        return [cleanText(text) for text in X]\n",
    "    def fit(self, X, y=None, **fit_params):\n",
    "        return self\n",
    "    def get_params(self, deep=True):\n",
    "            return {}\n",
    "\n",
    "def cleanText(text):\n",
    "    text = text.strip().replace(\"\\n\", \" \").replace(\"\\r\", \" \")\n",
    "    text = text.lower()\n",
    "    return text"
   ]
  },
  {
   "cell_type": "code",
   "execution_count": 18,
   "id": "2976dc28",
   "metadata": {},
   "outputs": [],
   "source": [
    "model = load('model/one-classSVM.joblib') "
   ]
  },
  {
   "cell_type": "code",
   "execution_count": 19,
   "id": "336547c1",
   "metadata": {},
   "outputs": [
    {
     "data": {
      "text/plain": [
       "Pipeline(steps=[('cleanText',\n",
       "                 <__main__.CleanTextTransformer object at 0x000001BB53279BE0>),\n",
       "                ('vectorizer', TfidfVectorizer(ngram_range=(2, 2))),\n",
       "                ('clf', OneClassSVM(gamma=0.1, nu=0.1))])"
      ]
     },
     "execution_count": 19,
     "metadata": {},
     "output_type": "execute_result"
    }
   ],
   "source": [
    "model"
   ]
  },
  {
   "cell_type": "code",
   "execution_count": 20,
   "id": "8641af92",
   "metadata": {},
   "outputs": [],
   "source": [
    "predictions = model.predict(list(df_test[\"asset_text_extracts\"]))"
   ]
  },
  {
   "cell_type": "code",
   "execution_count": 21,
   "id": "6db52659",
   "metadata": {},
   "outputs": [
    {
     "data": {
      "text/plain": [
       "576"
      ]
     },
     "execution_count": 21,
     "metadata": {},
     "output_type": "execute_result"
    }
   ],
   "source": [
    "len(predictions)"
   ]
  },
  {
   "cell_type": "code",
   "execution_count": 22,
   "id": "7e2040f8",
   "metadata": {},
   "outputs": [],
   "source": [
    "df_pred = pd.DataFrame(predictions).reset_index()"
   ]
  },
  {
   "cell_type": "code",
   "execution_count": 23,
   "id": "1837127e",
   "metadata": {},
   "outputs": [
    {
     "data": {
      "text/html": [
       "<div>\n",
       "<style scoped>\n",
       "    .dataframe tbody tr th:only-of-type {\n",
       "        vertical-align: middle;\n",
       "    }\n",
       "\n",
       "    .dataframe tbody tr th {\n",
       "        vertical-align: top;\n",
       "    }\n",
       "\n",
       "    .dataframe thead th {\n",
       "        text-align: right;\n",
       "    }\n",
       "</style>\n",
       "<table border=\"1\" class=\"dataframe\">\n",
       "  <thead>\n",
       "    <tr style=\"text-align: right;\">\n",
       "      <th></th>\n",
       "      <th>index</th>\n",
       "      <th>0</th>\n",
       "    </tr>\n",
       "  </thead>\n",
       "  <tbody>\n",
       "    <tr>\n",
       "      <th>0</th>\n",
       "      <td>0</td>\n",
       "      <td>1</td>\n",
       "    </tr>\n",
       "    <tr>\n",
       "      <th>1</th>\n",
       "      <td>1</td>\n",
       "      <td>1</td>\n",
       "    </tr>\n",
       "    <tr>\n",
       "      <th>2</th>\n",
       "      <td>2</td>\n",
       "      <td>-1</td>\n",
       "    </tr>\n",
       "    <tr>\n",
       "      <th>3</th>\n",
       "      <td>3</td>\n",
       "      <td>1</td>\n",
       "    </tr>\n",
       "    <tr>\n",
       "      <th>4</th>\n",
       "      <td>4</td>\n",
       "      <td>-1</td>\n",
       "    </tr>\n",
       "    <tr>\n",
       "      <th>...</th>\n",
       "      <td>...</td>\n",
       "      <td>...</td>\n",
       "    </tr>\n",
       "    <tr>\n",
       "      <th>571</th>\n",
       "      <td>571</td>\n",
       "      <td>1</td>\n",
       "    </tr>\n",
       "    <tr>\n",
       "      <th>572</th>\n",
       "      <td>572</td>\n",
       "      <td>1</td>\n",
       "    </tr>\n",
       "    <tr>\n",
       "      <th>573</th>\n",
       "      <td>573</td>\n",
       "      <td>1</td>\n",
       "    </tr>\n",
       "    <tr>\n",
       "      <th>574</th>\n",
       "      <td>574</td>\n",
       "      <td>1</td>\n",
       "    </tr>\n",
       "    <tr>\n",
       "      <th>575</th>\n",
       "      <td>575</td>\n",
       "      <td>1</td>\n",
       "    </tr>\n",
       "  </tbody>\n",
       "</table>\n",
       "<p>576 rows × 2 columns</p>\n",
       "</div>"
      ],
      "text/plain": [
       "     index  0\n",
       "0        0  1\n",
       "1        1  1\n",
       "2        2 -1\n",
       "3        3  1\n",
       "4        4 -1\n",
       "..     ... ..\n",
       "571    571  1\n",
       "572    572  1\n",
       "573    573  1\n",
       "574    574  1\n",
       "575    575  1\n",
       "\n",
       "[576 rows x 2 columns]"
      ]
     },
     "execution_count": 23,
     "metadata": {},
     "output_type": "execute_result"
    }
   ],
   "source": [
    "df_pred"
   ]
  },
  {
   "cell_type": "code",
   "execution_count": 26,
   "id": "59c8f3f1",
   "metadata": {},
   "outputs": [],
   "source": [
    "test_twitter= pd.concat([df_test.reset_index(), df_pred], axis=1)"
   ]
  },
  {
   "cell_type": "code",
   "execution_count": 27,
   "id": "970c192f",
   "metadata": {},
   "outputs": [
    {
     "name": "stdout",
     "output_type": "stream",
     "text": [
      "<class 'pandas.core.frame.DataFrame'>\n",
      "RangeIndex: 576 entries, 0 to 575\n",
      "Data columns (total 7 columns):\n",
      " #   Column                    Non-Null Count  Dtype \n",
      "---  ------                    --------------  ----- \n",
      " 0   index                     576 non-null    int64 \n",
      " 1   title                     576 non-null    object\n",
      " 2   asset_text_extracts       576 non-null    object\n",
      " 3   submitted_complaint_type  576 non-null    object\n",
      " 4   resolved_complaint_type   296 non-null    object\n",
      " 5   index                     576 non-null    int64 \n",
      " 6   0                         576 non-null    int64 \n",
      "dtypes: int64(3), object(4)\n",
      "memory usage: 31.6+ KB\n"
     ]
    }
   ],
   "source": [
    "test_twitter.info()"
   ]
  },
  {
   "cell_type": "code",
   "execution_count": 28,
   "id": "c6f0b201",
   "metadata": {
    "scrolled": false
   },
   "outputs": [],
   "source": [
    "df_results = test_twitter.dropna().reset_index()"
   ]
  },
  {
   "cell_type": "code",
   "execution_count": 29,
   "id": "b0fa42f9",
   "metadata": {},
   "outputs": [
    {
     "name": "stdout",
     "output_type": "stream",
     "text": [
      "<class 'pandas.core.frame.DataFrame'>\n",
      "RangeIndex: 296 entries, 0 to 295\n",
      "Data columns (total 8 columns):\n",
      " #   Column                    Non-Null Count  Dtype \n",
      "---  ------                    --------------  ----- \n",
      " 0   level_0                   296 non-null    int64 \n",
      " 1   index                     296 non-null    int64 \n",
      " 2   title                     296 non-null    object\n",
      " 3   asset_text_extracts       296 non-null    object\n",
      " 4   submitted_complaint_type  296 non-null    object\n",
      " 5   resolved_complaint_type   296 non-null    object\n",
      " 6   index                     296 non-null    int64 \n",
      " 7   0                         296 non-null    int64 \n",
      "dtypes: int64(4), object(4)\n",
      "memory usage: 18.6+ KB\n"
     ]
    }
   ],
   "source": [
    "df_results.info()"
   ]
  },
  {
   "cell_type": "code",
   "execution_count": 30,
   "id": "566cdf9a",
   "metadata": {},
   "outputs": [],
   "source": [
    "del df_results[\"index\"]"
   ]
  },
  {
   "cell_type": "code",
   "execution_count": 31,
   "id": "f294373a",
   "metadata": {},
   "outputs": [],
   "source": [
    "df_results[\"cat\"] = df_results[0]"
   ]
  },
  {
   "cell_type": "code",
   "execution_count": 32,
   "id": "885cd901",
   "metadata": {},
   "outputs": [
    {
     "data": {
      "text/plain": [
       "0      1\n",
       "1      1\n",
       "2     -1\n",
       "3     -1\n",
       "4      1\n",
       "      ..\n",
       "291    1\n",
       "292    1\n",
       "293    1\n",
       "294   -1\n",
       "295    1\n",
       "Name: cat, Length: 296, dtype: int64"
      ]
     },
     "execution_count": 32,
     "metadata": {},
     "output_type": "execute_result"
    }
   ],
   "source": [
    "df_results.cat"
   ]
  },
  {
   "cell_type": "code",
   "execution_count": null,
   "id": "ee03aca5",
   "metadata": {},
   "outputs": [],
   "source": []
  },
  {
   "cell_type": "code",
   "execution_count": 33,
   "id": "9c2fda2c",
   "metadata": {},
   "outputs": [],
   "source": [
    "del df_results[0]"
   ]
  },
  {
   "cell_type": "code",
   "execution_count": 35,
   "id": "3264522b",
   "metadata": {},
   "outputs": [],
   "source": [
    "cat_list = []\n",
    "for item in df_results.cat:\n",
    "    if item == -1:\n",
    "        Class = \"Not verified\"\n",
    "    elif item ==1:\n",
    "        Class = \"Verified\"\n",
    "    cat_list.append(Class)"
   ]
  },
  {
   "cell_type": "code",
   "execution_count": 36,
   "id": "70e450b2",
   "metadata": {},
   "outputs": [],
   "source": [
    "df_results[\"Class\"] = cat_list"
   ]
  },
  {
   "cell_type": "code",
   "execution_count": 40,
   "id": "195d076d",
   "metadata": {},
   "outputs": [
    {
     "data": {
      "text/html": [
       "<div>\n",
       "<style scoped>\n",
       "    .dataframe tbody tr th:only-of-type {\n",
       "        vertical-align: middle;\n",
       "    }\n",
       "\n",
       "    .dataframe tbody tr th {\n",
       "        vertical-align: top;\n",
       "    }\n",
       "\n",
       "    .dataframe thead th {\n",
       "        text-align: right;\n",
       "    }\n",
       "</style>\n",
       "<table border=\"1\" class=\"dataframe\">\n",
       "  <thead>\n",
       "    <tr style=\"text-align: right;\">\n",
       "      <th></th>\n",
       "      <th>level_0</th>\n",
       "      <th>title</th>\n",
       "      <th>asset_text_extracts</th>\n",
       "      <th>submitted_complaint_type</th>\n",
       "      <th>resolved_complaint_type</th>\n",
       "      <th>cat</th>\n",
       "      <th>Class</th>\n",
       "    </tr>\n",
       "  </thead>\n",
       "  <tbody>\n",
       "    <tr>\n",
       "      <th>0</th>\n",
       "      <td>0</td>\n",
       "      <td>Madagascar medicine 80% recovery rate</td>\n",
       "      <td>t2 Thailys Retweeted\\nMarxist\\n@Kgomo389\\n#Mad...</td>\n",
       "      <td>Mis- or disinformation</td>\n",
       "      <td>Mis- or disinformation</td>\n",
       "      <td>1</td>\n",
       "      <td>Verified</td>\n",
       "    </tr>\n",
       "    <tr>\n",
       "      <th>1</th>\n",
       "      <td>1</td>\n",
       "      <td>Claim of white people being starved in South A...</td>\n",
       "      <td>Tweet\\nBoerelegioen\\n@Boerelegioen2\\nPolice co...</td>\n",
       "      <td>Mis- or disinformation</td>\n",
       "      <td>Mis- or disinformation</td>\n",
       "      <td>1</td>\n",
       "      <td>Verified</td>\n",
       "    </tr>\n",
       "    <tr>\n",
       "      <th>2</th>\n",
       "      <td>2</td>\n",
       "      <td>Everything @Fred41848816: Tweets Containing Pu...</td>\n",
       "      <td>Dear cleverblacks, mlungu is\\nnot your friend\\...</td>\n",
       "      <td>Hate speech</td>\n",
       "      <td>Hate speech</td>\n",
       "      <td>-1</td>\n",
       "      <td>Not verified</td>\n",
       "    </tr>\n",
       "    <tr>\n",
       "      <th>3</th>\n",
       "      <td>6</td>\n",
       "      <td>Death Certificates to reflect COVID19 without ...</td>\n",
       "      <td>to puti you...? @AdvoBarryRoux quickly\\nvhat i...</td>\n",
       "      <td>Mis- or disinformation</td>\n",
       "      <td>Mis- or disinformation</td>\n",
       "      <td>-1</td>\n",
       "      <td>Not verified</td>\n",
       "    </tr>\n",
       "    <tr>\n",
       "      <th>4</th>\n",
       "      <td>8</td>\n",
       "      <td>D Lamula Tweet on Zimabweans</td>\n",
       "      <td>FA KE\\n |</td>\n",
       "      <td>Hate speech</td>\n",
       "      <td>Mis- or disinformation</td>\n",
       "      <td>1</td>\n",
       "      <td>Verified</td>\n",
       "    </tr>\n",
       "    <tr>\n",
       "      <th>...</th>\n",
       "      <td>...</td>\n",
       "      <td>...</td>\n",
       "      <td>...</td>\n",
       "      <td>...</td>\n",
       "      <td>...</td>\n",
       "      <td>...</td>\n",
       "      <td>...</td>\n",
       "    </tr>\n",
       "    <tr>\n",
       "      <th>291</th>\n",
       "      <td>561</td>\n",
       "      <td>Twitter: Vaccination stations on Roadblocks</td>\n",
       "      <td>13:41\\nLTE1 Vo)) 56%\\nTweet\\ncari Nienaus\\n@ni...</td>\n",
       "      <td>Mis- or disinformation</td>\n",
       "      <td>Mis- or disinformation</td>\n",
       "      <td>1</td>\n",
       "      <td>Verified</td>\n",
       "    </tr>\n",
       "    <tr>\n",
       "      <th>292</th>\n",
       "      <td>563</td>\n",
       "      <td>Twitter: Tweeted photo falsely attributed to N...</td>\n",
       "      <td>46*\\n0\\nVoLTE\\n(\\n...\\nK/s\\nC655%\\nI 18:15\\nTh...</td>\n",
       "      <td>Mis- or disinformation</td>\n",
       "      <td>Mis- or disinformation</td>\n",
       "      <td>1</td>\n",
       "      <td>Verified</td>\n",
       "    </tr>\n",
       "    <tr>\n",
       "      <th>293</th>\n",
       "      <td>565</td>\n",
       "      <td>Twitter: Anti-vaxxer misinformation</td>\n",
       "      <td>&amp;\\nTweet\\nReplying to\\nIsrael admits on Israel...</td>\n",
       "      <td>Mis- or disinformation</td>\n",
       "      <td>Mis- or disinformation</td>\n",
       "      <td>1</td>\n",
       "      <td>Verified</td>\n",
       "    </tr>\n",
       "    <tr>\n",
       "      <th>294</th>\n",
       "      <td>566</td>\n",
       "      <td>Twitter: False and misleading statements about...</td>\n",
       "      <td>President Elect\\n@tumelokh\\nReplying to @A_C_D...</td>\n",
       "      <td>Mis- or disinformation</td>\n",
       "      <td>Mis- or disinformation</td>\n",
       "      <td>-1</td>\n",
       "      <td>Not verified</td>\n",
       "    </tr>\n",
       "    <tr>\n",
       "      <th>295</th>\n",
       "      <td>567</td>\n",
       "      <td>Twitter: Covid vaccines misinformation by ACDP.</td>\n",
       "      <td>Thread\\nACDP South Africa\\nACDP\\n@A_C_D_P\\n.co...</td>\n",
       "      <td>Mis- or disinformation</td>\n",
       "      <td>Mis- or disinformation</td>\n",
       "      <td>1</td>\n",
       "      <td>Verified</td>\n",
       "    </tr>\n",
       "  </tbody>\n",
       "</table>\n",
       "<p>296 rows × 7 columns</p>\n",
       "</div>"
      ],
      "text/plain": [
       "     level_0                                              title  \\\n",
       "0          0              Madagascar medicine 80% recovery rate   \n",
       "1          1  Claim of white people being starved in South A...   \n",
       "2          2  Everything @Fred41848816: Tweets Containing Pu...   \n",
       "3          6  Death Certificates to reflect COVID19 without ...   \n",
       "4          8                       D Lamula Tweet on Zimabweans   \n",
       "..       ...                                                ...   \n",
       "291      561        Twitter: Vaccination stations on Roadblocks   \n",
       "292      563  Twitter: Tweeted photo falsely attributed to N...   \n",
       "293      565                Twitter: Anti-vaxxer misinformation   \n",
       "294      566  Twitter: False and misleading statements about...   \n",
       "295      567    Twitter: Covid vaccines misinformation by ACDP.   \n",
       "\n",
       "                                   asset_text_extracts  \\\n",
       "0    t2 Thailys Retweeted\\nMarxist\\n@Kgomo389\\n#Mad...   \n",
       "1    Tweet\\nBoerelegioen\\n@Boerelegioen2\\nPolice co...   \n",
       "2    Dear cleverblacks, mlungu is\\nnot your friend\\...   \n",
       "3    to puti you...? @AdvoBarryRoux quickly\\nvhat i...   \n",
       "4                                           FA KE\\n |    \n",
       "..                                                 ...   \n",
       "291  13:41\\nLTE1 Vo)) 56%\\nTweet\\ncari Nienaus\\n@ni...   \n",
       "292  46*\\n0\\nVoLTE\\n(\\n...\\nK/s\\nC655%\\nI 18:15\\nTh...   \n",
       "293  &\\nTweet\\nReplying to\\nIsrael admits on Israel...   \n",
       "294  President Elect\\n@tumelokh\\nReplying to @A_C_D...   \n",
       "295  Thread\\nACDP South Africa\\nACDP\\n@A_C_D_P\\n.co...   \n",
       "\n",
       "    submitted_complaint_type resolved_complaint_type  cat         Class  \n",
       "0     Mis- or disinformation  Mis- or disinformation    1      Verified  \n",
       "1     Mis- or disinformation  Mis- or disinformation    1      Verified  \n",
       "2                Hate speech             Hate speech   -1  Not verified  \n",
       "3     Mis- or disinformation  Mis- or disinformation   -1  Not verified  \n",
       "4                Hate speech  Mis- or disinformation    1      Verified  \n",
       "..                       ...                     ...  ...           ...  \n",
       "291   Mis- or disinformation  Mis- or disinformation    1      Verified  \n",
       "292   Mis- or disinformation  Mis- or disinformation    1      Verified  \n",
       "293   Mis- or disinformation  Mis- or disinformation    1      Verified  \n",
       "294   Mis- or disinformation  Mis- or disinformation   -1  Not verified  \n",
       "295   Mis- or disinformation  Mis- or disinformation    1      Verified  \n",
       "\n",
       "[296 rows x 7 columns]"
      ]
     },
     "execution_count": 40,
     "metadata": {},
     "output_type": "execute_result"
    }
   ],
   "source": [
    "df_results"
   ]
  },
  {
   "cell_type": "code",
   "execution_count": 37,
   "id": "92a13cc0",
   "metadata": {},
   "outputs": [
    {
     "name": "stdout",
     "output_type": "stream",
     "text": [
      "<class 'pandas.core.frame.DataFrame'>\n",
      "RangeIndex: 296 entries, 0 to 295\n",
      "Data columns (total 7 columns):\n",
      " #   Column                    Non-Null Count  Dtype \n",
      "---  ------                    --------------  ----- \n",
      " 0   level_0                   296 non-null    int64 \n",
      " 1   title                     296 non-null    object\n",
      " 2   asset_text_extracts       296 non-null    object\n",
      " 3   submitted_complaint_type  296 non-null    object\n",
      " 4   resolved_complaint_type   296 non-null    object\n",
      " 5   cat                       296 non-null    int64 \n",
      " 6   Class                     296 non-null    object\n",
      "dtypes: int64(2), object(5)\n",
      "memory usage: 16.3+ KB\n"
     ]
    }
   ],
   "source": [
    "df_results.info()"
   ]
  },
  {
   "cell_type": "code",
   "execution_count": 38,
   "id": "5f2aba10",
   "metadata": {},
   "outputs": [
    {
     "name": "stderr",
     "output_type": "stream",
     "text": [
      "C:\\Users\\Mohlatlego\\anaconda3\\lib\\site-packages\\seaborn\\_decorators.py:36: FutureWarning: Pass the following variable as a keyword arg: x. From version 0.12, the only valid positional argument will be `data`, and passing other arguments without an explicit keyword will result in an error or misinterpretation.\n",
      "  warnings.warn(\n"
     ]
    },
    {
     "data": {
      "text/plain": [
       "<AxesSubplot:xlabel='Class', ylabel='count'>"
      ]
     },
     "execution_count": 38,
     "metadata": {},
     "output_type": "execute_result"
    },
    {
     "data": {
      "image/png": "[encoded data removed]",
      "text/plain": [
       "<Figure size 432x288 with 1 Axes>"
      ]
     },
     "metadata": {
      "needs_background": "light"
     },
     "output_type": "display_data"
    }
   ],
   "source": [
    "sns.countplot(df_results['Class'])"
   ]
  },
  {
   "cell_type": "code",
   "execution_count": 39,
   "id": "c392e9db",
   "metadata": {},
   "outputs": [
    {
     "data": {
      "text/plain": [
       "Verified        160\n",
       "Not verified    136\n",
       "Name: Class, dtype: int64"
      ]
     },
     "execution_count": 39,
     "metadata": {},
     "output_type": "execute_result"
    }
   ],
   "source": [
    "df_results['Class'].value_counts()"
   ]
  },
  {
   "cell_type": "code",
   "execution_count": 42,
   "id": "b445e1a3",
   "metadata": {},
   "outputs": [
    {
     "data": {
      "text/plain": [
       "submitted_complaint_type  Class       \n",
       "Mis- or disinformation    Verified        114\n",
       "                          Not verified     78\n",
       "Hate speech               Not verified     33\n",
       "                          Verified         22\n",
       "Incitement to violence    Verified         22\n",
       "                          Not verified     21\n",
       "Journalist Harrassment    Not verified      4\n",
       "                          Verified          2\n",
       "dtype: int64"
      ]
     },
     "execution_count": 42,
     "metadata": {},
     "output_type": "execute_result"
    }
   ],
   "source": [
    "df_results.value_counts(['submitted_complaint_type','Class']) "
   ]
  },
  {
   "cell_type": "code",
   "execution_count": null,
   "id": "008581b1",
   "metadata": {},
   "outputs": [],
   "source": []
  }
 ],
 "metadata": {
  "kernelspec": {
   "display_name": "Python 3",
   "language": "python",
   "name": "python3"
  },
  "language_info": {
   "codemirror_mode": {
    "name": "ipython",
    "version": 3
   },
   "file_extension": ".py",
   "mimetype": "text/x-python",
   "name": "python",
   "nbconvert_exporter": "python",
   "pygments_lexer": "ipython3",
   "version": "3.8.8"
  }
 },
 "nbformat": 4,
 "nbformat_minor": 5
}
