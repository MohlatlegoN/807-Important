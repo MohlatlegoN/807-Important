{
 "cells": [
  {
   "cell_type": "markdown",
   "metadata": {},
   "source": [
    "###### *Author : Mohlatlego Nakeng, MIT Big data sciences*\n",
    "\n",
    "Description : Based on texts from tweeter, we can decide if text was mis/dis informed. In this task we interate through text to decide if a text was a mis,dis information."
   ]
  },
  {
   "cell_type": "markdown",
   "metadata": {},
   "source": [
    "###### Importing Libraries"
   ]
  },
  {
   "cell_type": "code",
   "execution_count": 3,
   "metadata": {},
   "outputs": [],
   "source": [
    "import pandas as pd\n",
    "import numpy as np\n",
    "import seaborn as sns\n",
    "import warnings\n",
    "warnings.filterwarnings('ignore')"
   ]
  },
  {
   "cell_type": "markdown",
   "metadata": {},
   "source": [
    "#### Let us import the dataset"
   ]
  },
  {
   "cell_type": "code",
   "execution_count": 4,
   "metadata": {},
   "outputs": [],
   "source": [
    "data =pd.read_csv(\"data/raw/vaccine_jhb.csv\", sep=\"\\t\")"
   ]
  },
  {
   "cell_type": "code",
   "execution_count": 5,
   "metadata": {},
   "outputs": [],
   "source": [
    "data1 = pd.read_csv(\"covid_jhb.csv\",sep=\"\\t\")"
   ]
  },
  {
   "cell_type": "code",
   "execution_count": 6,
   "metadata": {},
   "outputs": [],
   "source": [
    "df = data[[\"username\", \"name\", \"tweet\"]]"
   ]
  },
  {
   "cell_type": "code",
   "execution_count": 7,
   "metadata": {},
   "outputs": [],
   "source": [
    "df1 = data1[[\"username\", \"name\", \"tweet\"]]"
   ]
  },
  {
   "cell_type": "code",
   "execution_count": 8,
   "metadata": {},
   "outputs": [
    {
     "data": {
      "text/html": [
       "<div>\n",
       "<style scoped>\n",
       "    .dataframe tbody tr th:only-of-type {\n",
       "        vertical-align: middle;\n",
       "    }\n",
       "\n",
       "    .dataframe tbody tr th {\n",
       "        vertical-align: top;\n",
       "    }\n",
       "\n",
       "    .dataframe thead th {\n",
       "        text-align: right;\n",
       "    }\n",
       "</style>\n",
       "<table border=\"1\" class=\"dataframe\">\n",
       "  <thead>\n",
       "    <tr style=\"text-align: right;\">\n",
       "      <th></th>\n",
       "      <th>username</th>\n",
       "      <th>name</th>\n",
       "      <th>tweet</th>\n",
       "    </tr>\n",
       "  </thead>\n",
       "  <tbody>\n",
       "    <tr>\n",
       "      <th>0</th>\n",
       "      <td>comrade0072</td>\n",
       "      <td>I thank you</td>\n",
       "      <td>@LadyhawkAnnie The fact that nobody has attemp...</td>\n",
       "    </tr>\n",
       "    <tr>\n",
       "      <th>1</th>\n",
       "      <td>comrade0072</td>\n",
       "      <td>I thank you</td>\n",
       "      <td>@Newzroom405 Maybe he needs Pfizer for the spear.</td>\n",
       "    </tr>\n",
       "    <tr>\n",
       "      <th>2</th>\n",
       "      <td>nuru_yochanan</td>\n",
       "      <td>Yochanan</td>\n",
       "      <td>@__Inolofatse__ Fostofol I'm not your fan, sec...</td>\n",
       "    </tr>\n",
       "    <tr>\n",
       "      <th>3</th>\n",
       "      <td>azania109</td>\n",
       "      <td>Azania</td>\n",
       "      <td>@SundayTimesZA Asina ndaba we trust our own na...</td>\n",
       "    </tr>\n",
       "    <tr>\n",
       "      <th>4</th>\n",
       "      <td>muslimassocsa</td>\n",
       "      <td>Muslim Association of South Africa</td>\n",
       "      <td>As August comes to an end we look back at 27 d...</td>\n",
       "    </tr>\n",
       "    <tr>\n",
       "      <th>5</th>\n",
       "      <td>sep_3009</td>\n",
       "      <td>TRK</td>\n",
       "      <td>@Discovery_SA is it possible to obtain a vacci...</td>\n",
       "    </tr>\n",
       "    <tr>\n",
       "      <th>6</th>\n",
       "      <td>muslimassocsa</td>\n",
       "      <td>Muslim Association of South Africa</td>\n",
       "      <td>Our Day in Numbers: #VacciNation UPDATE: 31st ...</td>\n",
       "    </tr>\n",
       "    <tr>\n",
       "      <th>7</th>\n",
       "      <td>polo_zn</td>\n",
       "      <td>TaMike</td>\n",
       "      <td>@Tau_Sebatha @ThantshaKhathi @KaConfessor In t...</td>\n",
       "    </tr>\n",
       "    <tr>\n",
       "      <th>8</th>\n",
       "      <td>dumisantakana24</td>\n",
       "      <td>ngubengcuka ☭</td>\n",
       "      <td>the chaps under that mountain beat us to an on...</td>\n",
       "    </tr>\n",
       "    <tr>\n",
       "      <th>9</th>\n",
       "      <td>ndizizi</td>\n",
       "      <td>Vaxxed Queen of Owls Forged in the Fire of Chaos</td>\n",
       "      <td>Has anyone else had really sensitive skin as a...</td>\n",
       "    </tr>\n",
       "  </tbody>\n",
       "</table>\n",
       "</div>"
      ],
      "text/plain": [
       "          username                                              name  \\\n",
       "0      comrade0072                                       I thank you   \n",
       "1      comrade0072                                       I thank you   \n",
       "2    nuru_yochanan                                          Yochanan   \n",
       "3        azania109                                            Azania   \n",
       "4    muslimassocsa                Muslim Association of South Africa   \n",
       "5         sep_3009                                               TRK   \n",
       "6    muslimassocsa                Muslim Association of South Africa   \n",
       "7          polo_zn                                            TaMike   \n",
       "8  dumisantakana24                                     ngubengcuka ☭   \n",
       "9          ndizizi  Vaxxed Queen of Owls Forged in the Fire of Chaos   \n",
       "\n",
       "                                               tweet  \n",
       "0  @LadyhawkAnnie The fact that nobody has attemp...  \n",
       "1  @Newzroom405 Maybe he needs Pfizer for the spear.  \n",
       "2  @__Inolofatse__ Fostofol I'm not your fan, sec...  \n",
       "3  @SundayTimesZA Asina ndaba we trust our own na...  \n",
       "4  As August comes to an end we look back at 27 d...  \n",
       "5  @Discovery_SA is it possible to obtain a vacci...  \n",
       "6  Our Day in Numbers: #VacciNation UPDATE: 31st ...  \n",
       "7  @Tau_Sebatha @ThantshaKhathi @KaConfessor In t...  \n",
       "8  the chaps under that mountain beat us to an on...  \n",
       "9  Has anyone else had really sensitive skin as a...  "
      ]
     },
     "execution_count": 8,
     "metadata": {},
     "output_type": "execute_result"
    }
   ],
   "source": [
    "df.head(10)"
   ]
  },
  {
   "cell_type": "code",
   "execution_count": 9,
   "metadata": {},
   "outputs": [
    {
     "data": {
      "text/html": [
       "<div>\n",
       "<style scoped>\n",
       "    .dataframe tbody tr th:only-of-type {\n",
       "        vertical-align: middle;\n",
       "    }\n",
       "\n",
       "    .dataframe tbody tr th {\n",
       "        vertical-align: top;\n",
       "    }\n",
       "\n",
       "    .dataframe thead th {\n",
       "        text-align: right;\n",
       "    }\n",
       "</style>\n",
       "<table border=\"1\" class=\"dataframe\">\n",
       "  <thead>\n",
       "    <tr style=\"text-align: right;\">\n",
       "      <th></th>\n",
       "      <th>username</th>\n",
       "      <th>name</th>\n",
       "      <th>tweet</th>\n",
       "    </tr>\n",
       "  </thead>\n",
       "  <tbody>\n",
       "    <tr>\n",
       "      <th>0</th>\n",
       "      <td>comrade0072</td>\n",
       "      <td>I thank you</td>\n",
       "      <td>@LadyhawkAnnie The fact that nobody has attemp...</td>\n",
       "    </tr>\n",
       "    <tr>\n",
       "      <th>1</th>\n",
       "      <td>comrade0072</td>\n",
       "      <td>I thank you</td>\n",
       "      <td>@Newzroom405 Maybe he needs Pfizer for the spear.</td>\n",
       "    </tr>\n",
       "    <tr>\n",
       "      <th>2</th>\n",
       "      <td>nuru_yochanan</td>\n",
       "      <td>Yochanan</td>\n",
       "      <td>@__Inolofatse__ Fostofol I'm not your fan, sec...</td>\n",
       "    </tr>\n",
       "    <tr>\n",
       "      <th>3</th>\n",
       "      <td>azania109</td>\n",
       "      <td>Azania</td>\n",
       "      <td>@SundayTimesZA Asina ndaba we trust our own na...</td>\n",
       "    </tr>\n",
       "    <tr>\n",
       "      <th>4</th>\n",
       "      <td>muslimassocsa</td>\n",
       "      <td>Muslim Association of South Africa</td>\n",
       "      <td>As August comes to an end we look back at 27 d...</td>\n",
       "    </tr>\n",
       "    <tr>\n",
       "      <th>...</th>\n",
       "      <td>...</td>\n",
       "      <td>...</td>\n",
       "      <td>...</td>\n",
       "    </tr>\n",
       "    <tr>\n",
       "      <th>9722</th>\n",
       "      <td>lita_0525mgp</td>\n",
       "      <td>M135i Is Achievable🇿🇦</td>\n",
       "      <td>@TedPhaladi I agree just go with the flow beca...</td>\n",
       "    </tr>\n",
       "    <tr>\n",
       "      <th>9723</th>\n",
       "      <td>salvo1279</td>\n",
       "      <td>🏳️‍🌈Stephen is Tuesday's child🇿🇦</td>\n",
       "      <td>And for the love of God, fuck #SAA, use this m...</td>\n",
       "    </tr>\n",
       "    <tr>\n",
       "      <th>9724</th>\n",
       "      <td>salvo1279</td>\n",
       "      <td>🏳️‍🌈Stephen is Tuesday's child🇿🇦</td>\n",
       "      <td>And A VACCINE STRATEGY SHOULD BE ANNOUNCED AND...</td>\n",
       "    </tr>\n",
       "    <tr>\n",
       "      <th>9725</th>\n",
       "      <td>pastorransley</td>\n",
       "      <td>Godfrey Mhlari 🇿🇦</td>\n",
       "      <td>Where it all start the chines are on with thei...</td>\n",
       "    </tr>\n",
       "    <tr>\n",
       "      <th>9726</th>\n",
       "      <td>thesolowandera</td>\n",
       "      <td>Katchie Nzama 🧜‍♀️</td>\n",
       "      <td>@leylurr ❤️❤️❤️ just you wait until we have a ...</td>\n",
       "    </tr>\n",
       "  </tbody>\n",
       "</table>\n",
       "<p>9727 rows × 3 columns</p>\n",
       "</div>"
      ],
      "text/plain": [
       "            username                                name  \\\n",
       "0        comrade0072                         I thank you   \n",
       "1        comrade0072                         I thank you   \n",
       "2      nuru_yochanan                            Yochanan   \n",
       "3          azania109                              Azania   \n",
       "4      muslimassocsa  Muslim Association of South Africa   \n",
       "...              ...                                 ...   \n",
       "9722    lita_0525mgp               M135i Is Achievable🇿🇦   \n",
       "9723       salvo1279    🏳️‍🌈Stephen is Tuesday's child🇿🇦   \n",
       "9724       salvo1279    🏳️‍🌈Stephen is Tuesday's child🇿🇦   \n",
       "9725   pastorransley                   Godfrey Mhlari 🇿🇦   \n",
       "9726  thesolowandera                  Katchie Nzama 🧜‍♀️   \n",
       "\n",
       "                                                  tweet  \n",
       "0     @LadyhawkAnnie The fact that nobody has attemp...  \n",
       "1     @Newzroom405 Maybe he needs Pfizer for the spear.  \n",
       "2     @__Inolofatse__ Fostofol I'm not your fan, sec...  \n",
       "3     @SundayTimesZA Asina ndaba we trust our own na...  \n",
       "4     As August comes to an end we look back at 27 d...  \n",
       "...                                                 ...  \n",
       "9722  @TedPhaladi I agree just go with the flow beca...  \n",
       "9723  And for the love of God, fuck #SAA, use this m...  \n",
       "9724  And A VACCINE STRATEGY SHOULD BE ANNOUNCED AND...  \n",
       "9725  Where it all start the chines are on with thei...  \n",
       "9726  @leylurr ❤️❤️❤️ just you wait until we have a ...  \n",
       "\n",
       "[9727 rows x 3 columns]"
      ]
     },
     "execution_count": 9,
     "metadata": {},
     "output_type": "execute_result"
    }
   ],
   "source": [
    "df"
   ]
  },
  {
   "cell_type": "code",
   "execution_count": 10,
   "metadata": {},
   "outputs": [],
   "source": [
    "df = df.append(df1, ignore_index=True)"
   ]
  },
  {
   "cell_type": "markdown",
   "metadata": {},
   "source": [
    "We use key words that normally people use to make incorrect covid-19/vaccine comments. We mark them suspicious in the categorisation column"
   ]
  },
  {
   "cell_type": "code",
   "execution_count": 11,
   "metadata": {},
   "outputs": [],
   "source": [
    "import re\n",
    "import nltk\n",
    "from nltk.corpus import stopwords"
   ]
  },
  {
   "cell_type": "code",
   "execution_count": 12,
   "metadata": {},
   "outputs": [
    {
     "data": {
      "text/plain": [
       "250"
      ]
     },
     "execution_count": 12,
     "metadata": {},
     "output_type": "execute_result"
    }
   ],
   "source": [
    "A = df.tweet.str.contains('masks')\n",
    "vaccine_tweets=df[A]\n",
    "vaccine_tweets.tweet.count()"
   ]
  },
  {
   "cell_type": "code",
   "execution_count": 13,
   "metadata": {},
   "outputs": [
    {
     "data": {
      "text/html": [
       "<div>\n",
       "<style scoped>\n",
       "    .dataframe tbody tr th:only-of-type {\n",
       "        vertical-align: middle;\n",
       "    }\n",
       "\n",
       "    .dataframe tbody tr th {\n",
       "        vertical-align: top;\n",
       "    }\n",
       "\n",
       "    .dataframe thead th {\n",
       "        text-align: right;\n",
       "    }\n",
       "</style>\n",
       "<table border=\"1\" class=\"dataframe\">\n",
       "  <thead>\n",
       "    <tr style=\"text-align: right;\">\n",
       "      <th></th>\n",
       "      <th>username</th>\n",
       "      <th>name</th>\n",
       "      <th>tweet</th>\n",
       "    </tr>\n",
       "  </thead>\n",
       "  <tbody>\n",
       "    <tr>\n",
       "      <th>75</th>\n",
       "      <td>azania109</td>\n",
       "      <td>Azania</td>\n",
       "      <td>@mzwaimbeje Proof ? Am not vaccinated,alot of ...</td>\n",
       "    </tr>\n",
       "    <tr>\n",
       "      <th>282</th>\n",
       "      <td>azania109</td>\n",
       "      <td>Azania</td>\n",
       "      <td>@UncensoredView1 You are promoting something w...</td>\n",
       "    </tr>\n",
       "    <tr>\n",
       "      <th>877</th>\n",
       "      <td>kgosi187</td>\n",
       "      <td>Kgosi</td>\n",
       "      <td>I'm tired of checking out girls with their mas...</td>\n",
       "    </tr>\n",
       "    <tr>\n",
       "      <th>1394</th>\n",
       "      <td>garnet33669677</td>\n",
       "      <td>GTN</td>\n",
       "      <td>Will vaccinate the day people who have been va...</td>\n",
       "    </tr>\n",
       "    <tr>\n",
       "      <th>1432</th>\n",
       "      <td>azania109</td>\n",
       "      <td>Azania</td>\n",
       "      <td>@News24 @GroundUp_News Where are these people ...</td>\n",
       "    </tr>\n",
       "    <tr>\n",
       "      <th>...</th>\n",
       "      <td>...</td>\n",
       "      <td>...</td>\n",
       "      <td>...</td>\n",
       "    </tr>\n",
       "    <tr>\n",
       "      <th>32133</th>\n",
       "      <td>hlogieseema</td>\n",
       "      <td>Leeya</td>\n",
       "      <td>Has anyone thought that Corona is the apocalyp...</td>\n",
       "    </tr>\n",
       "    <tr>\n",
       "      <th>32208</th>\n",
       "      <td>yesreallyangel</td>\n",
       "      <td>Angel Campey 💉</td>\n",
       "      <td>At the international departures terminal in Jo...</td>\n",
       "    </tr>\n",
       "    <tr>\n",
       "      <th>32413</th>\n",
       "      <td>covid_19_za</td>\n",
       "      <td>Department of Health: COVID-19</td>\n",
       "      <td>@MissRamoroko Hi @MissRamoroko . If you choose...</td>\n",
       "    </tr>\n",
       "    <tr>\n",
       "      <th>32416</th>\n",
       "      <td>uk_republic</td>\n",
       "      <td>The spirit of Diderot</td>\n",
       "      <td>@SteveKrono Indeed, and all the custom officer...</td>\n",
       "    </tr>\n",
       "    <tr>\n",
       "      <th>32468</th>\n",
       "      <td>trevorbzungu</td>\n",
       "      <td>Trevor Zungu</td>\n",
       "      <td>So many ground staff at OR Tambo walking aroun...</td>\n",
       "    </tr>\n",
       "  </tbody>\n",
       "</table>\n",
       "<p>250 rows × 3 columns</p>\n",
       "</div>"
      ],
      "text/plain": [
       "             username                            name  \\\n",
       "75          azania109                          Azania   \n",
       "282         azania109                          Azania   \n",
       "877          kgosi187                           Kgosi   \n",
       "1394   garnet33669677                             GTN   \n",
       "1432        azania109                          Azania   \n",
       "...               ...                             ...   \n",
       "32133     hlogieseema                           Leeya   \n",
       "32208  yesreallyangel                  Angel Campey 💉   \n",
       "32413     covid_19_za  Department of Health: COVID-19   \n",
       "32416     uk_republic           The spirit of Diderot   \n",
       "32468    trevorbzungu                    Trevor Zungu   \n",
       "\n",
       "                                                   tweet  \n",
       "75     @mzwaimbeje Proof ? Am not vaccinated,alot of ...  \n",
       "282    @UncensoredView1 You are promoting something w...  \n",
       "877    I'm tired of checking out girls with their mas...  \n",
       "1394   Will vaccinate the day people who have been va...  \n",
       "1432   @News24 @GroundUp_News Where are these people ...  \n",
       "...                                                  ...  \n",
       "32133  Has anyone thought that Corona is the apocalyp...  \n",
       "32208  At the international departures terminal in Jo...  \n",
       "32413  @MissRamoroko Hi @MissRamoroko . If you choose...  \n",
       "32416  @SteveKrono Indeed, and all the custom officer...  \n",
       "32468  So many ground staff at OR Tambo walking aroun...  \n",
       "\n",
       "[250 rows x 3 columns]"
      ]
     },
     "execution_count": 13,
     "metadata": {},
     "output_type": "execute_result"
    }
   ],
   "source": [
    "vaccine_tweets"
   ]
  },
  {
   "cell_type": "code",
   "execution_count": 14,
   "metadata": {},
   "outputs": [
    {
     "data": {
      "text/plain": [
       "\"@UncensoredView1 You are promoting something which you yourself don't know the constituents of,and the way you pushing this agenda of yours 1 will even start to suspect that you are being paid to do it...people have been and are still surviving without wearing masks, taking vaccines etc\""
      ]
     },
     "execution_count": 14,
     "metadata": {},
     "output_type": "execute_result"
    }
   ],
   "source": [
    "vaccine_tweets[\"tweet\"].iloc[1]"
   ]
  },
  {
   "cell_type": "code",
   "execution_count": 15,
   "metadata": {},
   "outputs": [],
   "source": [
    "suspicious_tweets= []\n",
    "for index, row in df.iterrows():\n",
    "    code = row['tweet']\n",
    "    if 'vaccinated only' in code:\n",
    "        tweet = \"suspicious\"\n",
    "    elif \"666\" in code:\n",
    "        tweet = \"suspicious\"\n",
    "    elif \"kill\" in code:\n",
    "        tweet = \"suspicious\"\n",
    "    elif \"masks\" in code:\n",
    "        tweet = \"suspicious\"\n",
    "    else:\n",
    "        tweet = \"accurate\"\n",
    "    suspicious_tweets.append(tweet)\n",
    "    \n",
    "\n",
    "df[\"category\"] = suspicious_tweets"
   ]
  },
  {
   "cell_type": "code",
   "execution_count": 16,
   "metadata": {},
   "outputs": [
    {
     "data": {
      "text/plain": [
       "username    783\n",
       "name        783\n",
       "tweet       783\n",
       "category    783\n",
       "dtype: int64"
      ]
     },
     "execution_count": 16,
     "metadata": {},
     "output_type": "execute_result"
    }
   ],
   "source": [
    "df.loc[df[\"category\"]==\"suspicious\"].count()"
   ]
  },
  {
   "cell_type": "raw",
   "metadata": {},
   "source": [
    "vaccine_tweets[\"tweet\"].iloc[1]"
   ]
  },
  {
   "cell_type": "raw",
   "metadata": {},
   "source": [
    "vaccine_tweets[\"tweet\"].iloc[0]"
   ]
  },
  {
   "cell_type": "code",
   "execution_count": 17,
   "metadata": {},
   "outputs": [],
   "source": [
    "df.to_csv(\"suspicious.csv\")"
   ]
  },
  {
   "cell_type": "code",
   "execution_count": 18,
   "metadata": {},
   "outputs": [
    {
     "data": {
      "text/html": [
       "<div>\n",
       "<style scoped>\n",
       "    .dataframe tbody tr th:only-of-type {\n",
       "        vertical-align: middle;\n",
       "    }\n",
       "\n",
       "    .dataframe tbody tr th {\n",
       "        vertical-align: top;\n",
       "    }\n",
       "\n",
       "    .dataframe thead th {\n",
       "        text-align: right;\n",
       "    }\n",
       "</style>\n",
       "<table border=\"1\" class=\"dataframe\">\n",
       "  <thead>\n",
       "    <tr style=\"text-align: right;\">\n",
       "      <th></th>\n",
       "      <th>username</th>\n",
       "      <th>name</th>\n",
       "      <th>tweet</th>\n",
       "      <th>category</th>\n",
       "    </tr>\n",
       "  </thead>\n",
       "  <tbody>\n",
       "    <tr>\n",
       "      <th>0</th>\n",
       "      <td>comrade0072</td>\n",
       "      <td>I thank you</td>\n",
       "      <td>@LadyhawkAnnie The fact that nobody has attemp...</td>\n",
       "      <td>accurate</td>\n",
       "    </tr>\n",
       "    <tr>\n",
       "      <th>1</th>\n",
       "      <td>comrade0072</td>\n",
       "      <td>I thank you</td>\n",
       "      <td>@Newzroom405 Maybe he needs Pfizer for the spear.</td>\n",
       "      <td>accurate</td>\n",
       "    </tr>\n",
       "    <tr>\n",
       "      <th>2</th>\n",
       "      <td>nuru_yochanan</td>\n",
       "      <td>Yochanan</td>\n",
       "      <td>@__Inolofatse__ Fostofol I'm not your fan, sec...</td>\n",
       "      <td>accurate</td>\n",
       "    </tr>\n",
       "    <tr>\n",
       "      <th>3</th>\n",
       "      <td>azania109</td>\n",
       "      <td>Azania</td>\n",
       "      <td>@SundayTimesZA Asina ndaba we trust our own na...</td>\n",
       "      <td>accurate</td>\n",
       "    </tr>\n",
       "    <tr>\n",
       "      <th>4</th>\n",
       "      <td>muslimassocsa</td>\n",
       "      <td>Muslim Association of South Africa</td>\n",
       "      <td>As August comes to an end we look back at 27 d...</td>\n",
       "      <td>accurate</td>\n",
       "    </tr>\n",
       "    <tr>\n",
       "      <th>...</th>\n",
       "      <td>...</td>\n",
       "      <td>...</td>\n",
       "      <td>...</td>\n",
       "      <td>...</td>\n",
       "    </tr>\n",
       "    <tr>\n",
       "      <th>32608</th>\n",
       "      <td>ndim_uchris</td>\n",
       "      <td>uTata ka Zama and others</td>\n",
       "      <td>Corona emo specialeng</td>\n",
       "      <td>accurate</td>\n",
       "    </tr>\n",
       "    <tr>\n",
       "      <th>32609</th>\n",
       "      <td>collen_el</td>\n",
       "      <td>Collen Jay El'Padroni</td>\n",
       "      <td>@SbusisoMthimkul @mizar_CDXX Kodwa Bafo wena i...</td>\n",
       "      <td>accurate</td>\n",
       "    </tr>\n",
       "    <tr>\n",
       "      <th>32610</th>\n",
       "      <td>em_jay7</td>\n",
       "      <td>High Sauce</td>\n",
       "      <td>Hahahaha re nwa Corona</td>\n",
       "      <td>accurate</td>\n",
       "    </tr>\n",
       "    <tr>\n",
       "      <th>32611</th>\n",
       "      <td>fana__n</td>\n",
       "      <td>FANA</td>\n",
       "      <td>@lebohang_dh Inside joke yeah but I open beer ...</td>\n",
       "      <td>accurate</td>\n",
       "    </tr>\n",
       "    <tr>\n",
       "      <th>32612</th>\n",
       "      <td>ts_muffins</td>\n",
       "      <td>Mama Kenzie 👑</td>\n",
       "      <td>@Juks_Afrika @VinDollar016 @nonhlanhla_Nox It’...</td>\n",
       "      <td>accurate</td>\n",
       "    </tr>\n",
       "  </tbody>\n",
       "</table>\n",
       "<p>32613 rows × 4 columns</p>\n",
       "</div>"
      ],
      "text/plain": [
       "            username                                name  \\\n",
       "0        comrade0072                         I thank you   \n",
       "1        comrade0072                         I thank you   \n",
       "2      nuru_yochanan                            Yochanan   \n",
       "3          azania109                              Azania   \n",
       "4      muslimassocsa  Muslim Association of South Africa   \n",
       "...              ...                                 ...   \n",
       "32608    ndim_uchris            uTata ka Zama and others   \n",
       "32609      collen_el               Collen Jay El'Padroni   \n",
       "32610        em_jay7                          High Sauce   \n",
       "32611        fana__n                                FANA   \n",
       "32612     ts_muffins                       Mama Kenzie 👑   \n",
       "\n",
       "                                                   tweet  category  \n",
       "0      @LadyhawkAnnie The fact that nobody has attemp...  accurate  \n",
       "1      @Newzroom405 Maybe he needs Pfizer for the spear.  accurate  \n",
       "2      @__Inolofatse__ Fostofol I'm not your fan, sec...  accurate  \n",
       "3      @SundayTimesZA Asina ndaba we trust our own na...  accurate  \n",
       "4      As August comes to an end we look back at 27 d...  accurate  \n",
       "...                                                  ...       ...  \n",
       "32608                              Corona emo specialeng  accurate  \n",
       "32609  @SbusisoMthimkul @mizar_CDXX Kodwa Bafo wena i...  accurate  \n",
       "32610                             Hahahaha re nwa Corona  accurate  \n",
       "32611  @lebohang_dh Inside joke yeah but I open beer ...  accurate  \n",
       "32612  @Juks_Afrika @VinDollar016 @nonhlanhla_Nox It’...  accurate  \n",
       "\n",
       "[32613 rows x 4 columns]"
      ]
     },
     "execution_count": 18,
     "metadata": {},
     "output_type": "execute_result"
    }
   ],
   "source": [
    "df"
   ]
  },
  {
   "cell_type": "code",
   "execution_count": 20,
   "metadata": {},
   "outputs": [
    {
     "data": {
      "text/plain": [
       "accurate      31830\n",
       "suspicious      783\n",
       "Name: category, dtype: int64"
      ]
     },
     "execution_count": 20,
     "metadata": {},
     "output_type": "execute_result"
    }
   ],
   "source": [
    "df['category'].value_counts()"
   ]
  },
  {
   "cell_type": "code",
   "execution_count": 19,
   "metadata": {},
   "outputs": [
    {
     "data": {
      "text/plain": [
       "<AxesSubplot:xlabel='category', ylabel='count'>"
      ]
     },
     "execution_count": 19,
     "metadata": {},
     "output_type": "execute_result"
    },
    {
     "data": {
      "image/png": "[encoded data removed]",
      "text/plain": [
       "<Figure size 432x288 with 1 Axes>"
      ]
     },
     "metadata": {
      "needs_background": "light"
     },
     "output_type": "display_data"
    }
   ],
   "source": [
    "sns.countplot(df['category'])"
   ]
  },
  {
   "cell_type": "code",
   "execution_count": null,
   "metadata": {},
   "outputs": [],
   "source": []
  },
  {
   "cell_type": "code",
   "execution_count": null,
   "metadata": {},
   "outputs": [],
   "source": []
  },
  {
   "cell_type": "code",
   "execution_count": null,
   "metadata": {},
   "outputs": [],
   "source": []
  },
  {
   "cell_type": "code",
   "execution_count": null,
   "metadata": {},
   "outputs": [],
   "source": []
  },
  {
   "cell_type": "code",
   "execution_count": null,
   "metadata": {},
   "outputs": [],
   "source": []
  },
  {
   "cell_type": "code",
   "execution_count": null,
   "metadata": {},
   "outputs": [],
   "source": []
  },
  {
   "cell_type": "code",
   "execution_count": null,
   "metadata": {},
   "outputs": [],
   "source": []
  }
 ],
 "metadata": {
  "kernelspec": {
   "display_name": "Python 3",
   "language": "python",
   "name": "python3"
  },
  "language_info": {
   "codemirror_mode": {
    "name": "ipython",
    "version": 3
   },
   "file_extension": ".py",
   "mimetype": "text/x-python",
   "name": "python",
   "nbconvert_exporter": "python",
   "pygments_lexer": "ipython3",
   "version": "3.8.8"
  }
 },
 "nbformat": 4,
 "nbformat_minor": 2
}
