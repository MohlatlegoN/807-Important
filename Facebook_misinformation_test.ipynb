{
 "cells": [
  {
   "cell_type": "code",
   "execution_count": 1,
   "id": "2bfa60fc",
   "metadata": {},
   "outputs": [],
   "source": [
    "import pandas as pd\n",
    "from joblib import load\n",
    "import numpy as np\n",
    "import seaborn as sns\n",
    "import matplotlib.pyplot as plt\n",
    "from sklearn.feature_extraction.text import TfidfVectorizer, CountVectorizer\n",
    "from sklearn.pipeline import Pipeline\n",
    "import string\n",
    "from sklearn.feature_extraction.text import TfidfTransformer\n",
    "from sklearn.base import TransformerMixin"
   ]
  },
  {
   "cell_type": "code",
   "execution_count": 2,
   "id": "46bdad24",
   "metadata": {},
   "outputs": [],
   "source": [
    "df_facebook = pd.read_json(\"data/complaints_from_2020_01_01_to_2021_12_31__2022_03_22_facebook.json\")"
   ]
  },
  {
   "cell_type": "code",
   "execution_count": 4,
   "id": "38dd497b",
   "metadata": {},
   "outputs": [],
   "source": [
    "df_test = df_facebook[[\"title\",\"asset_text_extracts\", \"submitted_complaint_type\", \"resolved_complaint_type\"]]"
   ]
  },
  {
   "cell_type": "code",
   "execution_count": 5,
   "id": "71564801",
   "metadata": {},
   "outputs": [],
   "source": [
    "# class for cleaning the text\n",
    "class CleanTextTransformer(TransformerMixin):\n",
    "    def transform(self, X, **transform_params):\n",
    "        return [cleanText(text) for text in X]\n",
    "    def fit(self, X, y=None, **fit_params):\n",
    "        return self\n",
    "    def get_params(self, deep=True):\n",
    "            return {}\n",
    "\n",
    "def cleanText(text):\n",
    "    text = text.strip().replace(\"\\n\", \" \").replace(\"\\r\", \" \")\n",
    "    text = text.lower()\n",
    "    return text"
   ]
  },
  {
   "cell_type": "code",
   "execution_count": 6,
   "id": "5d1453de",
   "metadata": {},
   "outputs": [],
   "source": [
    "SVM_model = load('model/one-classSVM.joblib') "
   ]
  },
  {
   "cell_type": "code",
   "execution_count": 7,
   "id": "665974c4",
   "metadata": {},
   "outputs": [],
   "source": [
    "predictions = SVM_model.predict(list(df_test[\"asset_text_extracts\"]))"
   ]
  },
  {
   "cell_type": "code",
   "execution_count": 8,
   "id": "92f4eb93",
   "metadata": {},
   "outputs": [
    {
     "data": {
      "text/plain": [
       "253"
      ]
     },
     "execution_count": 8,
     "metadata": {},
     "output_type": "execute_result"
    }
   ],
   "source": [
    "len(predictions)"
   ]
  },
  {
   "cell_type": "code",
   "execution_count": 9,
   "id": "986239b5",
   "metadata": {},
   "outputs": [],
   "source": [
    "df_pred = pd.DataFrame(predictions).reset_index()"
   ]
  },
  {
   "cell_type": "code",
   "execution_count": 10,
   "id": "26e18475",
   "metadata": {},
   "outputs": [],
   "source": [
    "test_facebook= pd.concat([df_test.reset_index(), df_pred], axis=1)"
   ]
  },
  {
   "cell_type": "code",
   "execution_count": 11,
   "id": "bb4f76ed",
   "metadata": {},
   "outputs": [],
   "source": [
    "df_results = test_facebook.dropna().reset_index()"
   ]
  },
  {
   "cell_type": "code",
   "execution_count": 12,
   "id": "424a2ce5",
   "metadata": {},
   "outputs": [],
   "source": [
    "del df_results[\"index\"]"
   ]
  },
  {
   "cell_type": "code",
   "execution_count": 13,
   "id": "c99328fa",
   "metadata": {},
   "outputs": [],
   "source": [
    "df_results[\"cat\"] = df_results[0]"
   ]
  },
  {
   "cell_type": "code",
   "execution_count": 14,
   "id": "e552f655",
   "metadata": {},
   "outputs": [],
   "source": [
    "del df_results[0]"
   ]
  },
  {
   "cell_type": "code",
   "execution_count": 15,
   "id": "92dcaadd",
   "metadata": {},
   "outputs": [],
   "source": [
    "cat_list = []\n",
    "for item in df_results.cat:\n",
    "    if item == -1:\n",
    "        Class = \"Not verified\"\n",
    "    elif item ==1:\n",
    "        Class = \"Verified\"\n",
    "    cat_list.append(Class)"
   ]
  },
  {
   "cell_type": "code",
   "execution_count": 16,
   "id": "6e51ae3e",
   "metadata": {},
   "outputs": [],
   "source": [
    "df_results[\"Class\"] = cat_list"
   ]
  },
  {
   "cell_type": "code",
   "execution_count": 17,
   "id": "57e374d0",
   "metadata": {},
   "outputs": [
    {
     "data": {
      "text/html": [
       "<div>\n",
       "<style scoped>\n",
       "    .dataframe tbody tr th:only-of-type {\n",
       "        vertical-align: middle;\n",
       "    }\n",
       "\n",
       "    .dataframe tbody tr th {\n",
       "        vertical-align: top;\n",
       "    }\n",
       "\n",
       "    .dataframe thead th {\n",
       "        text-align: right;\n",
       "    }\n",
       "</style>\n",
       "<table border=\"1\" class=\"dataframe\">\n",
       "  <thead>\n",
       "    <tr style=\"text-align: right;\">\n",
       "      <th></th>\n",
       "      <th>level_0</th>\n",
       "      <th>title</th>\n",
       "      <th>asset_text_extracts</th>\n",
       "      <th>submitted_complaint_type</th>\n",
       "      <th>resolved_complaint_type</th>\n",
       "      <th>cat</th>\n",
       "      <th>Class</th>\n",
       "    </tr>\n",
       "  </thead>\n",
       "  <tbody>\n",
       "    <tr>\n",
       "      <th>0</th>\n",
       "      <td>0</td>\n",
       "      <td>Facemasks are not necessary in those who are a...</td>\n",
       "      <td>Cell C 13:40\\n96%\\nSearch Facebook\\nGillian Mc...</td>\n",
       "      <td>Mis- or disinformation</td>\n",
       "      <td>Mis- or disinformation</td>\n",
       "      <td>-1</td>\n",
       "      <td>Not verified</td>\n",
       "    </tr>\n",
       "    <tr>\n",
       "      <th>1</th>\n",
       "      <td>2</td>\n",
       "      <td>Langebaan restaurant set alight over food parc...</td>\n",
       "      <td>36\\nQI 3011:39\\nSearch\\nPaul Kruger\\nYesterday...</td>\n",
       "      <td>Mis- or disinformation</td>\n",
       "      <td>Mis- or disinformation</td>\n",
       "      <td>1</td>\n",
       "      <td>Verified</td>\n",
       "    </tr>\n",
       "    <tr>\n",
       "      <th>2</th>\n",
       "      <td>3</td>\n",
       "      <td>Facebook post linking COVID-19 to 5G technology</td>\n",
       "      <td>Vodacom-Stay Safe 73 B/s 21:30\\nEmergency call...</td>\n",
       "      <td>Mis- or disinformation</td>\n",
       "      <td>Mis- or disinformation</td>\n",
       "      <td>-1</td>\n",
       "      <td>Not verified</td>\n",
       "    </tr>\n",
       "    <tr>\n",
       "      <th>3</th>\n",
       "      <td>6</td>\n",
       "      <td>Inside China's Death Labs: the true story of t...</td>\n",
       "      <td>Donald Trump Jr.\\n13 hrs\\nWho is responsible f...</td>\n",
       "      <td>Mis- or disinformation</td>\n",
       "      <td>Mis- or disinformation</td>\n",
       "      <td>1</td>\n",
       "      <td>Verified</td>\n",
       "    </tr>\n",
       "    <tr>\n",
       "      <th>4</th>\n",
       "      <td>8</td>\n",
       "      <td>Solidarity Fund excludes White Poor</td>\n",
       "      <td>06:05 4\\nGerhard Viljoen\\nSunday at 18:01.\\nAP...</td>\n",
       "      <td>Mis- or disinformation</td>\n",
       "      <td>Mis- or disinformation</td>\n",
       "      <td>1</td>\n",
       "      <td>Verified</td>\n",
       "    </tr>\n",
       "    <tr>\n",
       "      <th>...</th>\n",
       "      <td>...</td>\n",
       "      <td>...</td>\n",
       "      <td>...</td>\n",
       "      <td>...</td>\n",
       "      <td>...</td>\n",
       "      <td>...</td>\n",
       "      <td>...</td>\n",
       "    </tr>\n",
       "    <tr>\n",
       "      <th>145</th>\n",
       "      <td>245</td>\n",
       "      <td>Facebook: User spreading Covid vaccine misinfo...</td>\n",
       "      <td>Lincoln Nichols\\n22h\\n.\\nL\\nImagine if you wil...</td>\n",
       "      <td>Mis- or disinformation</td>\n",
       "      <td>Mis- or disinformation</td>\n",
       "      <td>1</td>\n",
       "      <td>Verified</td>\n",
       "    </tr>\n",
       "    <tr>\n",
       "      <th>146</th>\n",
       "      <td>247</td>\n",
       "      <td>Facebook: \"The Plandemic conspiracy\"</td>\n",
       "      <td>Sluier De Ridder\\n12 November at 21:26 .\\nDIE ...</td>\n",
       "      <td>Mis- or disinformation</td>\n",
       "      <td>Mis- or disinformation</td>\n",
       "      <td>-1</td>\n",
       "      <td>Not verified</td>\n",
       "    </tr>\n",
       "    <tr>\n",
       "      <th>147</th>\n",
       "      <td>248</td>\n",
       "      <td>Facebook: Vaccine mandates and passports.</td>\n",
       "      <td>16:39\\nf\\nVo))\\nLTE\\n21%\\nSearch\\nNtsinzwa Yom...</td>\n",
       "      <td>Mis- or disinformation</td>\n",
       "      <td>Mis- or disinformation</td>\n",
       "      <td>1</td>\n",
       "      <td>Verified</td>\n",
       "    </tr>\n",
       "    <tr>\n",
       "      <th>148</th>\n",
       "      <td>251</td>\n",
       "      <td>Facebook: \"Seems Omi variant is the truth tell...</td>\n",
       "      <td>Mariana Martin\\n4d\\n-\\nSeems Omi variant is th...</td>\n",
       "      <td>Mis- or disinformation</td>\n",
       "      <td>Mis- or disinformation</td>\n",
       "      <td>1</td>\n",
       "      <td>Verified</td>\n",
       "    </tr>\n",
       "    <tr>\n",
       "      <th>149</th>\n",
       "      <td>252</td>\n",
       "      <td>Facebook: Account spreading misinformation and...</td>\n",
       "      <td>Vodacom VoWiFi\\n00:22\\n0\\n92%\\nSluier De Ridde...</td>\n",
       "      <td>Mis- or disinformation</td>\n",
       "      <td>Mis- or disinformation</td>\n",
       "      <td>-1</td>\n",
       "      <td>Not verified</td>\n",
       "    </tr>\n",
       "  </tbody>\n",
       "</table>\n",
       "<p>150 rows × 7 columns</p>\n",
       "</div>"
      ],
      "text/plain": [
       "     level_0                                              title  \\\n",
       "0          0  Facemasks are not necessary in those who are a...   \n",
       "1          2  Langebaan restaurant set alight over food parc...   \n",
       "2          3    Facebook post linking COVID-19 to 5G technology   \n",
       "3          6  Inside China's Death Labs: the true story of t...   \n",
       "4          8                Solidarity Fund excludes White Poor   \n",
       "..       ...                                                ...   \n",
       "145      245  Facebook: User spreading Covid vaccine misinfo...   \n",
       "146      247               Facebook: \"The Plandemic conspiracy\"   \n",
       "147      248          Facebook: Vaccine mandates and passports.   \n",
       "148      251  Facebook: \"Seems Omi variant is the truth tell...   \n",
       "149      252  Facebook: Account spreading misinformation and...   \n",
       "\n",
       "                                   asset_text_extracts  \\\n",
       "0    Cell C 13:40\\n96%\\nSearch Facebook\\nGillian Mc...   \n",
       "1    36\\nQI 3011:39\\nSearch\\nPaul Kruger\\nYesterday...   \n",
       "2    Vodacom-Stay Safe 73 B/s 21:30\\nEmergency call...   \n",
       "3    Donald Trump Jr.\\n13 hrs\\nWho is responsible f...   \n",
       "4    06:05 4\\nGerhard Viljoen\\nSunday at 18:01.\\nAP...   \n",
       "..                                                 ...   \n",
       "145  Lincoln Nichols\\n22h\\n.\\nL\\nImagine if you wil...   \n",
       "146  Sluier De Ridder\\n12 November at 21:26 .\\nDIE ...   \n",
       "147  16:39\\nf\\nVo))\\nLTE\\n21%\\nSearch\\nNtsinzwa Yom...   \n",
       "148  Mariana Martin\\n4d\\n-\\nSeems Omi variant is th...   \n",
       "149  Vodacom VoWiFi\\n00:22\\n0\\n92%\\nSluier De Ridde...   \n",
       "\n",
       "    submitted_complaint_type resolved_complaint_type  cat         Class  \n",
       "0     Mis- or disinformation  Mis- or disinformation   -1  Not verified  \n",
       "1     Mis- or disinformation  Mis- or disinformation    1      Verified  \n",
       "2     Mis- or disinformation  Mis- or disinformation   -1  Not verified  \n",
       "3     Mis- or disinformation  Mis- or disinformation    1      Verified  \n",
       "4     Mis- or disinformation  Mis- or disinformation    1      Verified  \n",
       "..                       ...                     ...  ...           ...  \n",
       "145   Mis- or disinformation  Mis- or disinformation    1      Verified  \n",
       "146   Mis- or disinformation  Mis- or disinformation   -1  Not verified  \n",
       "147   Mis- or disinformation  Mis- or disinformation    1      Verified  \n",
       "148   Mis- or disinformation  Mis- or disinformation    1      Verified  \n",
       "149   Mis- or disinformation  Mis- or disinformation   -1  Not verified  \n",
       "\n",
       "[150 rows x 7 columns]"
      ]
     },
     "execution_count": 17,
     "metadata": {},
     "output_type": "execute_result"
    }
   ],
   "source": [
    "df_results"
   ]
  },
  {
   "cell_type": "code",
   "execution_count": 18,
   "id": "a69ad0f7",
   "metadata": {},
   "outputs": [
    {
     "name": "stderr",
     "output_type": "stream",
     "text": [
      "C:\\Users\\Mohlatlego\\anaconda3\\lib\\site-packages\\seaborn\\_decorators.py:36: FutureWarning: Pass the following variable as a keyword arg: x. From version 0.12, the only valid positional argument will be `data`, and passing other arguments without an explicit keyword will result in an error or misinterpretation.\n",
      "  warnings.warn(\n"
     ]
    },
    {
     "data": {
      "text/plain": [
       "<AxesSubplot:xlabel='Class', ylabel='count'>"
      ]
     },
     "execution_count": 18,
     "metadata": {},
     "output_type": "execute_result"
    },
    {
     "data": {
      "image/png": "[encoded data removed]",
      "text/plain": [
       "<Figure size 432x288 with 1 Axes>"
      ]
     },
     "metadata": {
      "needs_background": "light"
     },
     "output_type": "display_data"
    }
   ],
   "source": [
    "sns.countplot(df_results['Class'])"
   ]
  },
  {
   "cell_type": "code",
   "execution_count": 19,
   "id": "d35b18d0",
   "metadata": {},
   "outputs": [
    {
     "data": {
      "text/plain": [
       "Verified        102\n",
       "Not verified     48\n",
       "Name: Class, dtype: int64"
      ]
     },
     "execution_count": 19,
     "metadata": {},
     "output_type": "execute_result"
    }
   ],
   "source": [
    "df_results['Class'].value_counts()"
   ]
  },
  {
   "cell_type": "code",
   "execution_count": 20,
   "id": "917a8739",
   "metadata": {},
   "outputs": [
    {
     "data": {
      "text/plain": [
       "submitted_complaint_type  Class       \n",
       "Mis- or disinformation    Verified        96\n",
       "                          Not verified    45\n",
       "Hate speech               Verified         4\n",
       "                          Not verified     2\n",
       "Incitement to violence    Verified         2\n",
       "                          Not verified     1\n",
       "dtype: int64"
      ]
     },
     "execution_count": 20,
     "metadata": {},
     "output_type": "execute_result"
    }
   ],
   "source": [
    "df_results.value_counts(['submitted_complaint_type','Class']) "
   ]
  },
  {
   "cell_type": "code",
   "execution_count": null,
   "id": "c18d6b8c",
   "metadata": {},
   "outputs": [],
   "source": []
  },
  {
   "cell_type": "code",
   "execution_count": null,
   "id": "f1f3320d",
   "metadata": {},
   "outputs": [],
   "source": []
  },
  {
   "cell_type": "code",
   "execution_count": null,
   "id": "53a6bd26",
   "metadata": {},
   "outputs": [],
   "source": []
  },
  {
   "cell_type": "code",
   "execution_count": null,
   "id": "161e533e",
   "metadata": {},
   "outputs": [],
   "source": []
  }
 ],
 "metadata": {
  "kernelspec": {
   "display_name": "Python 3",
   "language": "python",
   "name": "python3"
  },
  "language_info": {
   "codemirror_mode": {
    "name": "ipython",
    "version": 3
   },
   "file_extension": ".py",
   "mimetype": "text/x-python",
   "name": "python",
   "nbconvert_exporter": "python",
   "pygments_lexer": "ipython3",
   "version": "3.8.8"
  }
 },
 "nbformat": 4,
 "nbformat_minor": 5
}
