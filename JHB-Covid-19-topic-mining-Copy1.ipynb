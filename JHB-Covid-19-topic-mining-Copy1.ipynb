{
 "cells": [
  {
   "cell_type": "markdown",
   "id": "29a69386",
   "metadata": {},
   "source": []
  },
  {
   "cell_type": "markdown",
   "id": "cbae2c64",
   "metadata": {},
   "source": [
    "####     Author : Mohlatlego  nakeng"
   ]
  },
  {
   "cell_type": "markdown",
   "id": "949e2534",
   "metadata": {},
   "source": [
    "#### Topic Modelling\n",
    "\n",
    "* Latent Dirichlet Allocation represents documents as mixtures of topics that spit out words with certain probabilities. So now suppose you have a set of documents. You’ve chosen some fixed number of K topics to discover, and want to use LDA to learn the topic representation of each document and the words associated to each topic.\n",
    "* Latent Dirichlet allocation (LDA) is a technique that automatically discovers topics that these documents contain.\n",
    "* Dirichlet is a distribution specified by a vector parameter α containing some αi corresponding to each topic i, which we write as Dir(α)"
   ]
  },
  {
   "cell_type": "markdown",
   "id": "fef9d054",
   "metadata": {},
   "source": [
    "#### Non-negative Matrix Factorization\n",
    "\n",
    "* LDA is based on probabilistic graphical modeling while NMF relies on linear algebra.\n",
    "* Both algorithms take as input a bag of words matrix (i.e., each document represented as a row, with each columns containing the count of words in the corpus).\n",
    "* The aim of each algorithm is then to produce 2 smaller matrices; a document to topic matrix and a word to topic matrix that when multiplied together reproduce the bag of words matrix with the lowest error."
   ]
  },
  {
   "cell_type": "markdown",
   "id": "7e16ba92",
   "metadata": {},
   "source": [
    "#### Importing Libraries  "
   ]
  },
  {
   "cell_type": "code",
   "execution_count": 1,
   "id": "f11019d1",
   "metadata": {},
   "outputs": [],
   "source": [
    "from sklearn.feature_extraction.text import TfidfVectorizer, CountVectorizer\n",
    "from sklearn.decomposition import NMF, LatentDirichletAllocation\n",
    "import pyLDAvis\n",
    "import pyLDAvis.sklearn\n",
    "import sys\n",
    "import pandas as pd\n",
    "import os\n",
    "import warnings\n",
    "warnings.filterwarnings(\"ignore\", category=DeprecationWarning)"
   ]
  },
  {
   "cell_type": "code",
   "execution_count": 2,
   "id": "f6677f1d",
   "metadata": {},
   "outputs": [],
   "source": [
    "import preprocessor as p"
   ]
  },
  {
   "cell_type": "code",
   "execution_count": 3,
   "id": "c64bd0a1",
   "metadata": {},
   "outputs": [],
   "source": [
    "from nltk.corpus import stopwords"
   ]
  },
  {
   "cell_type": "markdown",
   "id": "5830cb2a",
   "metadata": {},
   "source": [
    "#### Import datasets"
   ]
  },
  {
   "cell_type": "code",
   "execution_count": 6,
   "id": "bb879911",
   "metadata": {},
   "outputs": [],
   "source": [
    "data = pd.read_csv(\"data/vaccine_jhb.csv\", sep='\\t' )"
   ]
  },
  {
   "cell_type": "code",
   "execution_count": 7,
   "id": "68a5c137",
   "metadata": {},
   "outputs": [
    {
     "data": {
      "text/plain": [
       "Index(['id', 'conversation_id', 'created_at', 'date', 'time', 'timezone',\n",
       "       'user_id', 'username', 'name', 'place', 'tweet', 'language', 'mentions',\n",
       "       'urls', 'photos', 'replies_count', 'retweets_count', 'likes_count',\n",
       "       'hashtags', 'cashtags', 'link', 'retweet', 'quote_url', 'video',\n",
       "       'thumbnail', 'near', 'geo', 'source', 'user_rt_id', 'user_rt',\n",
       "       'retweet_id', 'reply_to', 'retweet_date', 'translate', 'trans_src',\n",
       "       'trans_dest'],\n",
       "      dtype='object')"
      ]
     },
     "execution_count": 7,
     "metadata": {},
     "output_type": "execute_result"
    }
   ],
   "source": [
    "data.columns"
   ]
  },
  {
   "cell_type": "code",
   "execution_count": null,
   "id": "c1aed2f0",
   "metadata": {},
   "outputs": [],
   "source": [
    "data.asset_text_extracts"
   ]
  },
  {
   "cell_type": "markdown",
   "id": "9a7193ed",
   "metadata": {},
   "source": [
    "#### data cleaning "
   ]
  },
  {
   "cell_type": "markdown",
   "id": "802b13a8",
   "metadata": {},
   "source": [
    "* Removig mentions or Tags"
   ]
  },
  {
   "cell_type": "code",
   "execution_count": null,
   "id": "6a178ec6",
   "metadata": {},
   "outputs": [],
   "source": [
    "import re"
   ]
  },
  {
   "cell_type": "code",
   "execution_count": null,
   "id": "38c8cd17",
   "metadata": {},
   "outputs": [],
   "source": [
    "from nltk.stem import PorterStemmer\n",
    "stop_words=stopwords.words('english')\n",
    "stemmer=PorterStemmer()"
   ]
  },
  {
   "cell_type": "raw",
   "id": "bb0f7001",
   "metadata": {},
   "source": [
    "# Let us remove mentions like @XXXXXx  \n",
    "cleaned_data=[]\n",
    "for i in range(len(data.tweet)):\n",
    "    tweet=re.sub('[^a-zA-Z]',' ',data.tweet.iloc[i])\n",
    "    tweet=re.sub('@[A-Za-z0-9_]+',' ',data.tweet.iloc[i])\n",
    "    tweet=tweet.lower().split()\n",
    "    tweet=[stemmer.stem(word) for word in tweet if (word not in stop_words)]\n",
    "#     tweet = p.clean(data.tweet)\n",
    "    tweet=' '.join(tweet)\n",
    "    cleaned_data.append(tweet)\n",
    "    "
   ]
  },
  {
   "cell_type": "code",
   "execution_count": null,
   "id": "5e30bf50",
   "metadata": {},
   "outputs": [],
   "source": [
    "def data_clean(text):\n",
    "    for i in range(len(data)):\n",
    "        tweet=re.sub('[^a-zA-Z]',' ',data.iloc[i])\n",
    "        tweet=re.sub('@[A-Za-z0-9_]+',' ',data.iloc[i])\n",
    "        tweet=tweet.lower().split()\n",
    "        tweet=[stemmer.stem(word) for word in tweet if (word not in stop_words)]\n",
    "    #     tweet = p.clean(data.tweet)\n",
    "        tweet=' '.join(tweet)\n",
    "        return tweet"
   ]
  },
  {
   "cell_type": "code",
   "execution_count": null,
   "id": "d935af9a",
   "metadata": {},
   "outputs": [],
   "source": [
    "def display_topics(model, feature_names, no_top_words):\n",
    "    \n",
    "    for topic_idx, topic in enumerate(model.components_):\n",
    "        print(\"Topic:\", (topic_idx))\n",
    "        print(\" \".join([feature_names[i]\n",
    "        for i in topic.argsort()[:-no_top_words - 1:-1]]))\n",
    "\n",
    "\n",
    "def tfidf_vectorizer(documents,total_features):\n",
    "\n",
    "    #  TFIDF Vectorizer\n",
    "    tfidf_vectorizer = TfidfVectorizer(max_df=0.95, min_df=2, max_features=total_features, stop_words='english')\n",
    "    tfidf = tfidf_vectorizer.fit_transform(documents)\n",
    "    tfidf_feature_names = tfidf_vectorizer.get_feature_names()\n",
    "    return tfidf_vectorizer,tfidf,tfidf_feature_names\n",
    "\n",
    "def count_vectorizer(documents,total_features):\n",
    "\n",
    "    #  Count Vectorizer\n",
    "    tf_vectorizer = CountVectorizer(max_df=0.95, min_df=2, max_features=total_features, stop_words='english')\n",
    "    tf = tf_vectorizer.fit_transform(documents)\n",
    "    tf_feature_names = tf_vectorizer.get_feature_names()\n",
    "    return tf_vectorizer,tf,tf_feature_names"
   ]
  },
  {
   "cell_type": "code",
   "execution_count": null,
   "id": "64bdd8e1",
   "metadata": {},
   "outputs": [],
   "source": [
    "total_features = 15000\n",
    "num_topic = 20\n",
    "tfidf_vectorizer, tfidf, tfidf_feature_names = tfidf_vectorizer(data['asset_text_extracts'].values.astype('U'),total_features)\n",
    "tf_vectorizer, tf, tf_feature_names = count_vectorizer(data['asset_text_extracts'],total_features)"
   ]
  },
  {
   "cell_type": "code",
   "execution_count": null,
   "id": "1e53e31f",
   "metadata": {},
   "outputs": [],
   "source": [
    "model_lda = LatentDirichletAllocation(n_components=num_topic, max_iter=30, learning_method='online', learning_offset=50.,random_state=0).fit(tfidf)\n",
    "no_top_words = 20"
   ]
  },
  {
   "cell_type": "code",
   "execution_count": null,
   "id": "b5ecf8df",
   "metadata": {},
   "outputs": [],
   "source": [
    "display_topics(model_lda, tfidf_feature_names, no_top_words)"
   ]
  },
  {
   "cell_type": "markdown",
   "id": "d7f5e271",
   "metadata": {},
   "source": [
    "##### Testing on JHB data"
   ]
  },
  {
   "cell_type": "code",
   "execution_count": null,
   "id": "3c4aaeed",
   "metadata": {},
   "outputs": [],
   "source": [
    "data_op = pyLDAvis.sklearn.prepare(model_lda,tfidf,tfidf_vectorizer)\n",
    "pyLDAvis.enable_notebook()\n",
    "pyLDAvis.display(data_op)"
   ]
  },
  {
   "cell_type": "markdown",
   "id": "0bd2af3c",
   "metadata": {},
   "source": [
    "#### Testing on MMA data"
   ]
  },
  {
   "cell_type": "code",
   "execution_count": null,
   "id": "d2809789",
   "metadata": {},
   "outputs": [],
   "source": [
    "data_comp =pd.read_excel(\"Complaints_Reviewed_As_Disinformation_twitter.xlsx\")"
   ]
  },
  {
   "cell_type": "code",
   "execution_count": null,
   "id": "76cfacc4",
   "metadata": {},
   "outputs": [],
   "source": [
    "data_comp.title"
   ]
  },
  {
   "cell_type": "code",
   "execution_count": null,
   "id": "e6bd9fb2",
   "metadata": {},
   "outputs": [],
   "source": [
    "def display_topics_comp(model, feature_names, no_top_words):\n",
    "    \n",
    "    for topic_idx, topic in enumerate(model.components_):\n",
    "        print(\"Topic:\", (topic_idx))\n",
    "        print(\" \".join([feature_names[i]\n",
    "        for i in topic.argsort()[:-no_top_words - 1:-1]]))\n",
    "\n",
    "\n",
    "def tfidf_vectorizer_comp(documents,total_features):\n",
    "\n",
    "    #  TFIDF Vectorizer\n",
    "    tfidf_vectorizer = TfidfVectorizer(max_df=0.95, min_df=2, max_features=total_features, stop_words='english')\n",
    "    tfidf = tfidf_vectorizer.fit_transform(documents)\n",
    "    tfidf_feature_names = tfidf_vectorizer.get_feature_names()\n",
    "    return tfidf_vectorizer,tfidf,tfidf_feature_names\n",
    "\n",
    "def count_vectorizer_comp(documents,total_features):\n",
    "\n",
    "    #  Count Vectorizer\n",
    "    tf_vectorizer = CountVectorizer(max_df=0.95, min_df=2, max_features=total_features, stop_words='english')\n",
    "    tf = tf_vectorizer.fit_transform(documents)\n",
    "    tf_feature_names = tf_vectorizer.get_feature_names()\n",
    "    return tf_vectorizer,tf,tf_feature_names"
   ]
  },
  {
   "cell_type": "code",
   "execution_count": null,
   "id": "ca7a1ee1",
   "metadata": {},
   "outputs": [],
   "source": [
    "total_features = 15000 \n",
    "num_topic = 20\n",
    "tfidf_vectorizer_comp, tfidf_comp, tfidf_feature_names_comp = tfidf_vectorizer_comp(data_comp['title'],total_features)\n",
    "tf_vectorizer_comp, tf_comp, tf_feature_names_comp = count_vectorizer_comp(data_comp['title'],total_features)"
   ]
  },
  {
   "cell_type": "code",
   "execution_count": null,
   "id": "2a048b9c",
   "metadata": {},
   "outputs": [],
   "source": [
    "model_lda_comp = LatentDirichletAllocation(n_components=num_topic, max_iter=30, learning_method='online', learning_offset=50.,random_state=0).fit(tfidf_comp)\n",
    "no_top_words = 20"
   ]
  },
  {
   "cell_type": "code",
   "execution_count": null,
   "id": "5c45d67c",
   "metadata": {},
   "outputs": [],
   "source": [
    "display_topics(model_lda_comp, tfidf_feature_names_comp, no_top_words)"
   ]
  },
  {
   "cell_type": "code",
   "execution_count": null,
   "id": "178117af",
   "metadata": {
    "scrolled": true
   },
   "outputs": [],
   "source": [
    "data_op = pyLDAvis.sklearn.prepare(model_lda_comp,tfidf_comp,tfidf_vectorizer_comp)\n",
    "pyLDAvis.enable_notebook()\n",
    "pyLDAvis.display(data_op)\n",
    "pyLDAvis.save_html(data_op, 'topics_MMA_LDA.html')"
   ]
  },
  {
   "cell_type": "markdown",
   "id": "9afc1f8d",
   "metadata": {},
   "source": [
    "#### Non-negative Matrix Factorization"
   ]
  },
  {
   "cell_type": "code",
   "execution_count": null,
   "id": "cb044851",
   "metadata": {},
   "outputs": [],
   "source": [
    "n_components = 20"
   ]
  },
  {
   "cell_type": "code",
   "execution_count": null,
   "id": "aa891987",
   "metadata": {},
   "outputs": [],
   "source": [
    "def fit_NMF(X, n_components):\n",
    "    model = NMF(n_components=n_components,random_state=0)\n",
    "    nmf_tfidf_limit =model.fit(X)\n",
    "    return nmf_tfidf_limit"
   ]
  },
  {
   "cell_type": "code",
   "execution_count": null,
   "id": "772fe2d2",
   "metadata": {},
   "outputs": [],
   "source": [
    "nmf_tfidf_comp = fit_NMF(tfidf_comp, n_components)\n",
    "display_topics(nmf_tfidf_comp ,tf_feature_names_comp ,  no_top_words)"
   ]
  },
  {
   "cell_type": "code",
   "execution_count": null,
   "id": "f0fb373c",
   "metadata": {},
   "outputs": [],
   "source": []
  }
 ],
 "metadata": {
  "kernelspec": {
   "display_name": "Python 3",
   "language": "python",
   "name": "python3"
  },
  "language_info": {
   "codemirror_mode": {
    "name": "ipython",
    "version": 3
   },
   "file_extension": ".py",
   "mimetype": "text/x-python",
   "name": "python",
   "nbconvert_exporter": "python",
   "pygments_lexer": "ipython3",
   "version": "3.8.8"
  }
 },
 "nbformat": 4,
 "nbformat_minor": 5
}
